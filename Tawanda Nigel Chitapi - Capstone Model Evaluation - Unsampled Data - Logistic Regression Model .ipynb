{
 "cells": [
  {
   "cell_type": "markdown",
   "id": "4a15216b",
   "metadata": {},
   "source": [
    "### Project: Understaing Employees Attrition with Machine Learning\n",
    "### Activity: Model Evaluation on Unsampled Data\n",
    "### Author: Tawanda Nigel Chitapi\n",
    "### Email: nigel.chitapi@gmail.com    \n",
    "### Date: September 05, 2022\n",
    "### Institution: BrainStation"
   ]
  },
  {
   "cell_type": "markdown",
   "id": "44b13e0f",
   "metadata": {},
   "source": [
    "During the EDA processing of the data in the EDA notebook, we acknowledged that the classes in the Attrition variable were extremely imnbalanced. Before we explore any sampling method, we will go ahead and fit the data into a logistic regression model and assess the results and evaluate the model in order to determine that indeed, the imbalanced data needs to be balanced"
   ]
  },
  {
   "cell_type": "markdown",
   "id": "62cc6c07",
   "metadata": {},
   "source": [
    "The goal is to build a model that predicts employee attrition of health care workers at a hospital and in the end determine which of the provided variables are most associated with employee attrition and which ones encourage employees to stay on the job.\n",
    "\n",
    "We intend to build a high performing model with regards to precision and recall. With recall measuring how accurate our model is at predicting attrition overall and precision measuring how accurate our model is at predicting attrition correctly out of all attrition prediction it makes, some of which may include false positives. Above all the model with the better f1-score is preferred as the f1-score is the harmonic mean of the precision and recall score. A good f1-score would be closer to 1 meaning that there are low amounts of false negative and false positives"
   ]
  },
  {
   "cell_type": "code",
   "execution_count": 1,
   "id": "826ca637",
   "metadata": {},
   "outputs": [],
   "source": [
    "# import packages\n",
    "\n",
    "# the data science trinity\n",
    "import numpy as np\n",
    "import pandas as pd\n",
    "import matplotlib.pyplot as plt\n",
    "\n",
    "# seaborn\n",
    "import seaborn as sns\n",
    "\n",
    "# model selection tools\n",
    "from sklearn.model_selection import train_test_split\n",
    "\n",
    "# scaler\n",
    "from sklearn.preprocessing import StandardScaler\n",
    "\n",
    "# linear models\n",
    "from sklearn.linear_model import LogisticRegression\n",
    "\n",
    "# metrics\n",
    "from sklearn.metrics import confusion_matrix, recall_score, precision_score, f1_score, roc_curve, roc_auc_score\n",
    "\n",
    "# SMOTE\n",
    "from imblearn.over_sampling import SMOTE"
   ]
  },
  {
   "cell_type": "code",
   "execution_count": 2,
   "id": "06aab1fb",
   "metadata": {},
   "outputs": [],
   "source": [
    "# load our clean data \n",
    "\n",
    "employee_df = pd.read_csv('data/employee_attrition.csv')"
   ]
  },
  {
   "cell_type": "code",
   "execution_count": 3,
   "id": "845b5e71",
   "metadata": {},
   "outputs": [
    {
     "data": {
      "text/html": [
       "<div>\n",
       "<style scoped>\n",
       "    .dataframe tbody tr th:only-of-type {\n",
       "        vertical-align: middle;\n",
       "    }\n",
       "\n",
       "    .dataframe tbody tr th {\n",
       "        vertical-align: top;\n",
       "    }\n",
       "\n",
       "    .dataframe thead th {\n",
       "        text-align: right;\n",
       "    }\n",
       "</style>\n",
       "<table border=\"1\" class=\"dataframe\">\n",
       "  <thead>\n",
       "    <tr style=\"text-align: right;\">\n",
       "      <th></th>\n",
       "      <th>EmployeeID</th>\n",
       "      <th>Age</th>\n",
       "      <th>Attrition</th>\n",
       "      <th>DailyRate</th>\n",
       "      <th>DistanceFromHome</th>\n",
       "      <th>Education</th>\n",
       "      <th>EmployeeCount</th>\n",
       "      <th>EnvironmentSatisfaction</th>\n",
       "      <th>Gender</th>\n",
       "      <th>HourlyRate</th>\n",
       "      <th>...</th>\n",
       "      <th>Other</th>\n",
       "      <th>Technical Degree</th>\n",
       "      <th>Admin</th>\n",
       "      <th>Administrative</th>\n",
       "      <th>Nurse</th>\n",
       "      <th>Other.1</th>\n",
       "      <th>Therapist</th>\n",
       "      <th>Divorced</th>\n",
       "      <th>Married</th>\n",
       "      <th>Single</th>\n",
       "    </tr>\n",
       "  </thead>\n",
       "  <tbody>\n",
       "    <tr>\n",
       "      <th>0</th>\n",
       "      <td>1313919</td>\n",
       "      <td>41</td>\n",
       "      <td>0</td>\n",
       "      <td>1102</td>\n",
       "      <td>1</td>\n",
       "      <td>2</td>\n",
       "      <td>1</td>\n",
       "      <td>2</td>\n",
       "      <td>1</td>\n",
       "      <td>94</td>\n",
       "      <td>...</td>\n",
       "      <td>0</td>\n",
       "      <td>0</td>\n",
       "      <td>0</td>\n",
       "      <td>0</td>\n",
       "      <td>1</td>\n",
       "      <td>0</td>\n",
       "      <td>0</td>\n",
       "      <td>0</td>\n",
       "      <td>0</td>\n",
       "      <td>1</td>\n",
       "    </tr>\n",
       "    <tr>\n",
       "      <th>1</th>\n",
       "      <td>1200302</td>\n",
       "      <td>49</td>\n",
       "      <td>0</td>\n",
       "      <td>279</td>\n",
       "      <td>8</td>\n",
       "      <td>1</td>\n",
       "      <td>1</td>\n",
       "      <td>3</td>\n",
       "      <td>0</td>\n",
       "      <td>61</td>\n",
       "      <td>...</td>\n",
       "      <td>0</td>\n",
       "      <td>0</td>\n",
       "      <td>0</td>\n",
       "      <td>0</td>\n",
       "      <td>0</td>\n",
       "      <td>1</td>\n",
       "      <td>0</td>\n",
       "      <td>0</td>\n",
       "      <td>1</td>\n",
       "      <td>0</td>\n",
       "    </tr>\n",
       "    <tr>\n",
       "      <th>2</th>\n",
       "      <td>1060315</td>\n",
       "      <td>37</td>\n",
       "      <td>1</td>\n",
       "      <td>1373</td>\n",
       "      <td>2</td>\n",
       "      <td>2</td>\n",
       "      <td>1</td>\n",
       "      <td>4</td>\n",
       "      <td>0</td>\n",
       "      <td>92</td>\n",
       "      <td>...</td>\n",
       "      <td>1</td>\n",
       "      <td>0</td>\n",
       "      <td>0</td>\n",
       "      <td>0</td>\n",
       "      <td>1</td>\n",
       "      <td>0</td>\n",
       "      <td>0</td>\n",
       "      <td>0</td>\n",
       "      <td>0</td>\n",
       "      <td>1</td>\n",
       "    </tr>\n",
       "    <tr>\n",
       "      <th>3</th>\n",
       "      <td>1272912</td>\n",
       "      <td>33</td>\n",
       "      <td>0</td>\n",
       "      <td>1392</td>\n",
       "      <td>3</td>\n",
       "      <td>4</td>\n",
       "      <td>1</td>\n",
       "      <td>4</td>\n",
       "      <td>1</td>\n",
       "      <td>56</td>\n",
       "      <td>...</td>\n",
       "      <td>0</td>\n",
       "      <td>0</td>\n",
       "      <td>0</td>\n",
       "      <td>0</td>\n",
       "      <td>0</td>\n",
       "      <td>1</td>\n",
       "      <td>0</td>\n",
       "      <td>0</td>\n",
       "      <td>1</td>\n",
       "      <td>0</td>\n",
       "    </tr>\n",
       "    <tr>\n",
       "      <th>4</th>\n",
       "      <td>1414939</td>\n",
       "      <td>27</td>\n",
       "      <td>0</td>\n",
       "      <td>591</td>\n",
       "      <td>2</td>\n",
       "      <td>1</td>\n",
       "      <td>1</td>\n",
       "      <td>1</td>\n",
       "      <td>0</td>\n",
       "      <td>40</td>\n",
       "      <td>...</td>\n",
       "      <td>0</td>\n",
       "      <td>0</td>\n",
       "      <td>0</td>\n",
       "      <td>0</td>\n",
       "      <td>1</td>\n",
       "      <td>0</td>\n",
       "      <td>0</td>\n",
       "      <td>0</td>\n",
       "      <td>1</td>\n",
       "      <td>0</td>\n",
       "    </tr>\n",
       "  </tbody>\n",
       "</table>\n",
       "<p>5 rows × 50 columns</p>\n",
       "</div>"
      ],
      "text/plain": [
       "   EmployeeID  Age  Attrition  DailyRate  DistanceFromHome  Education  \\\n",
       "0     1313919   41          0       1102                 1          2   \n",
       "1     1200302   49          0        279                 8          1   \n",
       "2     1060315   37          1       1373                 2          2   \n",
       "3     1272912   33          0       1392                 3          4   \n",
       "4     1414939   27          0        591                 2          1   \n",
       "\n",
       "   EmployeeCount  EnvironmentSatisfaction  Gender  HourlyRate  ...  Other  \\\n",
       "0              1                        2       1          94  ...      0   \n",
       "1              1                        3       0          61  ...      0   \n",
       "2              1                        4       0          92  ...      1   \n",
       "3              1                        4       1          56  ...      0   \n",
       "4              1                        1       0          40  ...      0   \n",
       "\n",
       "   Technical Degree  Admin  Administrative  Nurse  Other.1  Therapist  \\\n",
       "0                 0      0               0      1        0          0   \n",
       "1                 0      0               0      0        1          0   \n",
       "2                 0      0               0      1        0          0   \n",
       "3                 0      0               0      0        1          0   \n",
       "4                 0      0               0      1        0          0   \n",
       "\n",
       "   Divorced  Married  Single  \n",
       "0         0        0       1  \n",
       "1         0        1       0  \n",
       "2         0        0       1  \n",
       "3         0        1       0  \n",
       "4         0        1       0  \n",
       "\n",
       "[5 rows x 50 columns]"
      ]
     },
     "execution_count": 3,
     "metadata": {},
     "output_type": "execute_result"
    }
   ],
   "source": [
    "# sanity check to see if our data loaded successfully\n",
    "\n",
    "employee_df.head()"
   ]
  },
  {
   "cell_type": "code",
   "execution_count": 4,
   "id": "eee3b8a8",
   "metadata": {},
   "outputs": [
    {
     "name": "stdout",
     "output_type": "stream",
     "text": [
      "<class 'pandas.core.frame.DataFrame'>\n",
      "RangeIndex: 1676 entries, 0 to 1675\n",
      "Data columns (total 50 columns):\n",
      " #   Column                    Non-Null Count  Dtype\n",
      "---  ------                    --------------  -----\n",
      " 0   EmployeeID                1676 non-null   int64\n",
      " 1   Age                       1676 non-null   int64\n",
      " 2   Attrition                 1676 non-null   int64\n",
      " 3   DailyRate                 1676 non-null   int64\n",
      " 4   DistanceFromHome          1676 non-null   int64\n",
      " 5   Education                 1676 non-null   int64\n",
      " 6   EmployeeCount             1676 non-null   int64\n",
      " 7   EnvironmentSatisfaction   1676 non-null   int64\n",
      " 8   Gender                    1676 non-null   int64\n",
      " 9   HourlyRate                1676 non-null   int64\n",
      " 10  JobInvolvement            1676 non-null   int64\n",
      " 11  JobLevel                  1676 non-null   int64\n",
      " 12  JobSatisfaction           1676 non-null   int64\n",
      " 13  MonthlyIncome             1676 non-null   int64\n",
      " 14  MonthlyRate               1676 non-null   int64\n",
      " 15  NumCompaniesWorked        1676 non-null   int64\n",
      " 16  Over18                    1676 non-null   int64\n",
      " 17  OverTime                  1676 non-null   int64\n",
      " 18  PercentSalaryHike         1676 non-null   int64\n",
      " 19  PerformanceRating         1676 non-null   int64\n",
      " 20  RelationshipSatisfaction  1676 non-null   int64\n",
      " 21  StandardHours             1676 non-null   int64\n",
      " 22  Shift                     1676 non-null   int64\n",
      " 23  TotalWorkingYears         1676 non-null   int64\n",
      " 24  TrainingTimesLastYear     1676 non-null   int64\n",
      " 25  WorkLifeBalance           1676 non-null   int64\n",
      " 26  YearsAtCompany            1676 non-null   int64\n",
      " 27  YearsInCurrentRole        1676 non-null   int64\n",
      " 28  YearsSinceLastPromotion   1676 non-null   int64\n",
      " 29  YearsWithCurrManager      1676 non-null   int64\n",
      " 30  Non-Travel                1676 non-null   int64\n",
      " 31  Travel_Frequently         1676 non-null   int64\n",
      " 32  Travel_Rarely             1676 non-null   int64\n",
      " 33  Cardiology                1676 non-null   int64\n",
      " 34  Maternity                 1676 non-null   int64\n",
      " 35  Neurology                 1676 non-null   int64\n",
      " 36  Human Resources           1676 non-null   int64\n",
      " 37  Life Sciences             1676 non-null   int64\n",
      " 38  Marketing                 1676 non-null   int64\n",
      " 39  Medical                   1676 non-null   int64\n",
      " 40  Other                     1676 non-null   int64\n",
      " 41  Technical Degree          1676 non-null   int64\n",
      " 42  Admin                     1676 non-null   int64\n",
      " 43  Administrative            1676 non-null   int64\n",
      " 44  Nurse                     1676 non-null   int64\n",
      " 45  Other.1                   1676 non-null   int64\n",
      " 46  Therapist                 1676 non-null   int64\n",
      " 47  Divorced                  1676 non-null   int64\n",
      " 48  Married                   1676 non-null   int64\n",
      " 49  Single                    1676 non-null   int64\n",
      "dtypes: int64(50)\n",
      "memory usage: 654.8 KB\n"
     ]
    }
   ],
   "source": [
    "employee_df.info()"
   ]
  },
  {
   "cell_type": "code",
   "execution_count": 5,
   "id": "3191d096",
   "metadata": {},
   "outputs": [],
   "source": [
    "# Establish the target and indepedent variables\n",
    "\n",
    "# features\n",
    "X = employee_df.drop('Attrition', axis=1)\n",
    "\n",
    "# target\n",
    "y = employee_df['Attrition']"
   ]
  },
  {
   "cell_type": "code",
   "execution_count": 6,
   "id": "3076a3dc",
   "metadata": {},
   "outputs": [],
   "source": [
    "# train-test split\n",
    "X_train, X_test, y_train, y_test = train_test_split(\n",
    "    X, y,\n",
    "    test_size = 0.3,\n",
    "    stratify = y,\n",
    "    random_state = 1\n",
    ")"
   ]
  },
  {
   "cell_type": "markdown",
   "id": "8ad19b5f",
   "metadata": {},
   "source": [
    "We have split our data into 70% train set and 30% test set split on our data "
   ]
  },
  {
   "cell_type": "markdown",
   "id": "10fb80fe",
   "metadata": {},
   "source": [
    "We will now run the Logistic Regression Model without sampling our data "
   ]
  },
  {
   "cell_type": "markdown",
   "id": "a8b95c95",
   "metadata": {},
   "source": [
    "Our dataset contains 50 columns, with the amount of data that we have (1676 rows), 50 columns are too wide a dimension puts our model at the risk of the curse of dimensionality. After we conducted feature engineering during data cleaning and processing, the number of features in our dataset incresed from 35 to 50. \n",
    "\n",
    "In order to best predict our target variable we need to conduct some feature selection and select only those variables that best predict out target variable.\n",
    "\n",
    "To achieve this we will use the **Fisher - Chi-Squared** test and assess the derived p-values to select on the best predictor with p-values less than the threshold of **0.05.**\n",
    "\n",
    "The Fisher - Chi-Squared test is applied on the training data because the selected features are used to train the model."
   ]
  },
  {
   "cell_type": "code",
   "execution_count": 7,
   "id": "3d43df5e",
   "metadata": {},
   "outputs": [],
   "source": [
    "from sklearn.feature_selection import chi2"
   ]
  },
  {
   "cell_type": "code",
   "execution_count": 8,
   "id": "bc2dd325",
   "metadata": {},
   "outputs": [
    {
     "data": {
      "text/plain": [
       "(array([6.82343304e+04, 1.50176929e+02, 6.83118680e+02, 1.21441464e+02,\n",
       "        6.42671874e-01, 0.00000000e+00, 3.91334272e+00, 1.26116619e-01,\n",
       "        1.04621627e+01, 3.77819156e+00, 2.86296530e+01, 4.37108430e+00,\n",
       "        1.38773188e+05, 1.55622511e+04, 3.66454572e-03, 0.00000000e+00,\n",
       "        9.71387165e+01, 2.02287849e-03, 2.45937729e-03, 7.16478563e-01,\n",
       "        0.00000000e+00, 2.51090253e+01, 3.41323545e+02, 1.78697869e+00,\n",
       "        2.09866467e+00, 2.05666337e+02, 1.30899855e+02, 2.47531772e+01,\n",
       "        1.28149499e+02, 2.22950949e+00, 1.17934719e+01, 1.42755155e+00,\n",
       "        1.41092611e+00, 8.32297164e-02, 3.54741940e+00, 2.22000891e+00,\n",
       "        1.15905065e-02, 1.13606214e+00, 2.07313077e+00, 1.82492580e+00,\n",
       "        2.96564323e+00, 1.20986460e+00, 9.40338682e+00, 2.94625434e-01,\n",
       "        1.07727961e+01, 1.55483469e+01, 9.71916427e+00, 5.53101533e+00,\n",
       "        2.87935831e+01]),\n",
       " array([0.00000000e+000, 1.58594246e-034, 1.40191600e-150, 3.05894977e-028,\n",
       "        4.22744926e-001, 1.00000000e+000, 4.79042253e-002, 7.22492939e-001,\n",
       "        1.21844546e-003, 5.19247526e-002, 8.76299344e-008, 3.65537250e-002,\n",
       "        0.00000000e+000, 0.00000000e+000, 9.51729150e-001, 1.00000000e+000,\n",
       "        6.46365770e-023, 9.64126103e-001, 9.60447435e-001, 3.97301439e-001,\n",
       "        1.00000000e+000, 5.41786905e-007, 3.28569821e-076, 1.81294713e-001,\n",
       "        1.47427843e-001, 1.21169739e-046, 2.60418269e-030, 6.51613013e-007,\n",
       "        1.04098926e-029, 1.35396826e-001, 5.94387815e-004, 2.32164442e-001,\n",
       "        2.34902715e-001, 7.72967391e-001, 5.96381340e-002, 1.36232274e-001,\n",
       "        9.14266023e-001, 2.86485958e-001, 1.49913503e-001, 1.76728062e-001,\n",
       "        8.50506259e-002, 2.71358938e-001, 2.16584993e-003, 5.87271577e-001,\n",
       "        1.03002789e-003, 8.04219388e-005, 1.82356420e-003, 1.86822611e-002,\n",
       "        8.05174438e-008]))"
      ]
     },
     "execution_count": 8,
     "metadata": {},
     "output_type": "execute_result"
    }
   ],
   "source": [
    "#Apply Chi-Squared (Chi2) test on the training data \n",
    "\n",
    "f_p_values = chi2(X_train, y_train)\n",
    "\n",
    "f_p_values"
   ]
  },
  {
   "cell_type": "markdown",
   "id": "6769d5f5",
   "metadata": {},
   "source": [
    "The variable **f_p_values** refers to f-score, p-value values, the first array [0] represents f-scores and the second array [1] represent the p-values."
   ]
  },
  {
   "cell_type": "code",
   "execution_count": 9,
   "id": "e843e613",
   "metadata": {},
   "outputs": [],
   "source": [
    "# create a series of p_values and match them to the relevant columns \n",
    "\n",
    "p_values = pd.Series(f_p_values[1],index = X.columns)"
   ]
  },
  {
   "cell_type": "code",
   "execution_count": 10,
   "id": "fb300d98",
   "metadata": {},
   "outputs": [],
   "source": [
    "# sort the p_values in descending order \n",
    "p_values.sort_values(ascending = False , inplace = True)"
   ]
  },
  {
   "cell_type": "markdown",
   "id": "c0b30643",
   "metadata": {},
   "source": [
    "Plot a bar graph of the column and relevant p_values to better identify and select preferred columns "
   ]
  },
  {
   "cell_type": "code",
   "execution_count": 11,
   "id": "fe384025",
   "metadata": {},
   "outputs": [
    {
     "data": {
      "text/plain": [
       "array([<AxesSubplot:title={'center':'None'}>], dtype=object)"
      ]
     },
     "execution_count": 11,
     "metadata": {},
     "output_type": "execute_result"
    },
    {
     "data": {
      "image/png": "[encoded data removed]",
      "text/plain": [
       "<Figure size 1800x2160 with 1 Axes>"
      ]
     },
     "metadata": {
      "needs_background": "light"
     },
     "output_type": "display_data"
    }
   ],
   "source": [
    "#Plot a bar graph\n",
    "p_values.plot.barh(figsize= (25,30), subplots=True) "
   ]
  },
  {
   "cell_type": "code",
   "execution_count": 12,
   "id": "25d4ee95",
   "metadata": {},
   "outputs": [],
   "source": [
    "# Newly Updated features\n",
    "X = employee_df[['Age','DailyRate', 'DistanceFromHome', 'JobLevel','OverTime','Single',\n",
    "               'Shift','TotalWorkingYears','Therapist', 'MonthlyRate', 'HourlyRate',\n",
    "                 'YearsAtCompany','YearsInCurrentRole','YearsSinceLastPromotion',\n",
    "                 'YearsWithCurrManager','Travel_Frequently','Married', 'Divorced',\n",
    "                 'Administrative']]\n",
    "\n",
    "# target\n",
    "y = employee_df['Attrition']"
   ]
  },
  {
   "cell_type": "markdown",
   "id": "bb8a350a",
   "metadata": {},
   "source": [
    "After observing the results from the plot above, we have selected features with p_value less than 0.05 as these will best predict our target variable. "
   ]
  },
  {
   "cell_type": "markdown",
   "id": "521c7632",
   "metadata": {},
   "source": [
    "### Now that our features have been selected, we will go on to scale our data.\n",
    "\n",
    "#### Before we fit our data into any model it is very important that we scale our data since our features do not contain the same degree of values in them, we must scale them so that they are centred at mean = 0 and variance = 1 at the same level."
   ]
  },
  {
   "cell_type": "code",
   "execution_count": 13,
   "id": "ffb27d5b",
   "metadata": {},
   "outputs": [],
   "source": [
    "# we will use a standard scalar to scale our data "
   ]
  },
  {
   "cell_type": "code",
   "execution_count": 14,
   "id": "703f0395",
   "metadata": {},
   "outputs": [],
   "source": [
    "# instantiate the scaler\n",
    "ss = StandardScaler()\n",
    "\n",
    "# fit the scaler to the X_train data\n",
    "ss = ss.fit(X_train)\n",
    "\n",
    "# transform both the X_train and X_test data with the fitted scaler\n",
    "X_train_ss = ss.transform(X_train)\n",
    "X_test_ss = ss.transform(X_test)"
   ]
  },
  {
   "cell_type": "markdown",
   "id": "f20128d0",
   "metadata": {},
   "source": [
    "_ss refers to (scaled by the standard scaler)"
   ]
  },
  {
   "cell_type": "code",
   "execution_count": 15,
   "id": "59fcf8e7",
   "metadata": {},
   "outputs": [
    {
     "name": "stdout",
     "output_type": "stream",
     "text": [
      "0.9420289855072463\n",
      "0.9324055666003976\n"
     ]
    }
   ],
   "source": [
    "# Instantiate\n",
    "employee_logit = LogisticRegression()\n",
    "\n",
    "# Fit\n",
    "employee_logit.fit(X_train_ss, y_train)\n",
    "\n",
    "# Score\n",
    "print(employee_logit.score(X_train_ss, y_train))\n",
    "print(employee_logit.score(X_test_ss, y_test))"
   ]
  },
  {
   "cell_type": "markdown",
   "id": "524f6d71",
   "metadata": {},
   "source": [
    "The model performed at 94% accuracy on the training data and 93% accuracy on the test data. These score are great because the delta between the two scores is only 1 percentage point and this could be deemed as a great performing model, however, at this point we can not deductively state that this is a great model.\n",
    "\n",
    "We need to further granulate the performance metrics of the model and assess how accurate it is at predicting true positive and true negatives.\n",
    "\n",
    "To achieve this we will derive a confusion matrix and a classification report to yeild the precision, recall, f1-score and accuracy. These particular metrics help us gain an understanding of our model performance. "
   ]
  },
  {
   "cell_type": "markdown",
   "id": "65dbf335",
   "metadata": {},
   "source": [
    "### Evaluation on Test Data"
   ]
  },
  {
   "cell_type": "code",
   "execution_count": 16,
   "id": "d8a838c0",
   "metadata": {},
   "outputs": [
    {
     "data": {
      "text/plain": [
       "0    443\n",
       "1     60\n",
       "Name: Attrition, dtype: int64"
      ]
     },
     "metadata": {},
     "output_type": "display_data"
    }
   ],
   "source": [
    "# class distribution\n",
    "display(y_test.value_counts())"
   ]
  },
  {
   "cell_type": "markdown",
   "id": "5bfcc52e",
   "metadata": {},
   "source": [
    "Evidently, as we can observe from above, our classes are imbalanced and are very few as well"
   ]
  },
  {
   "cell_type": "code",
   "execution_count": 17,
   "id": "975c222b",
   "metadata": {},
   "outputs": [],
   "source": [
    "# predict classification\n",
    "y_test_pred = employee_logit.predict(X_test_ss)"
   ]
  },
  {
   "cell_type": "code",
   "execution_count": 18,
   "id": "940d44b0",
   "metadata": {},
   "outputs": [
    {
     "data": {
      "text/plain": [
       "array([[437,   6],\n",
       "       [ 28,  32]])"
      ]
     },
     "execution_count": 18,
     "metadata": {},
     "output_type": "execute_result"
    }
   ],
   "source": [
    "# Generate the (raw) confusion matrix:\n",
    "cf_test = confusion_matrix(y_test, y_test_pred)\n",
    "cf_test"
   ]
  },
  {
   "cell_type": "code",
   "execution_count": 19,
   "id": "ba3f4366",
   "metadata": {},
   "outputs": [
    {
     "data": {
      "text/html": [
       "<div>\n",
       "<style scoped>\n",
       "    .dataframe tbody tr th:only-of-type {\n",
       "        vertical-align: middle;\n",
       "    }\n",
       "\n",
       "    .dataframe tbody tr th {\n",
       "        vertical-align: top;\n",
       "    }\n",
       "\n",
       "    .dataframe thead th {\n",
       "        text-align: right;\n",
       "    }\n",
       "</style>\n",
       "<table border=\"1\" class=\"dataframe\">\n",
       "  <thead>\n",
       "    <tr style=\"text-align: right;\">\n",
       "      <th></th>\n",
       "      <th>predicted 0</th>\n",
       "      <th>predicted 1</th>\n",
       "    </tr>\n",
       "  </thead>\n",
       "  <tbody>\n",
       "    <tr>\n",
       "      <th>true 0</th>\n",
       "      <td>437</td>\n",
       "      <td>6</td>\n",
       "    </tr>\n",
       "    <tr>\n",
       "      <th>true 1</th>\n",
       "      <td>28</td>\n",
       "      <td>32</td>\n",
       "    </tr>\n",
       "  </tbody>\n",
       "</table>\n",
       "</div>"
      ],
      "text/plain": [
       "        predicted 0  predicted 1\n",
       "true 0          437            6\n",
       "true 1           28           32"
      ]
     },
     "metadata": {},
     "output_type": "display_data"
    }
   ],
   "source": [
    "# generate confusion matrix in a dataframe format\n",
    "conmat = pd.DataFrame(\n",
    "    data = cf_test,\n",
    "    index = ['true 0', 'true 1'],\n",
    "    columns = ['predicted 0', 'predicted 1']\n",
    ")\n",
    "display(conmat)"
   ]
  },
  {
   "cell_type": "code",
   "execution_count": 20,
   "id": "73313656",
   "metadata": {},
   "outputs": [
    {
     "data": {
      "image/png": "[encoded data removed]",
      "text/plain": [
       "<Figure size 432x288 with 2 Axes>"
      ]
     },
     "metadata": {
      "needs_background": "light"
     },
     "output_type": "display_data"
    }
   ],
   "source": [
    "from sklearn.metrics import plot_confusion_matrix, confusion_matrix\n",
    "\n",
    "# the function expects the estimator, inputs and target as parameters\n",
    "plot_confusion_matrix(employee_logit, X_test_ss, y_test, cmap='Reds');"
   ]
  },
  {
   "cell_type": "markdown",
   "id": "ad2339d2",
   "metadata": {},
   "source": [
    "The model predicted 437 True Negatives, 32 True Positives, 28 False Positive and 6 False Negatives. \n",
    "\n",
    "The raw numbers themselves do not tell us much of a comprehensive story behind the performance of our model and so we will generate a classification report that will provide more information about, model precisio, recall, f1-score and accuracy.\n"
   ]
  },
  {
   "cell_type": "code",
   "execution_count": 21,
   "id": "4242ae4f",
   "metadata": {},
   "outputs": [
    {
     "name": "stdout",
     "output_type": "stream",
     "text": [
      "              precision    recall  f1-score   support\n",
      "\n",
      "           0       0.94      0.99      0.96       443\n",
      "           1       0.84      0.53      0.65        60\n",
      "\n",
      "    accuracy                           0.93       503\n",
      "   macro avg       0.89      0.76      0.81       503\n",
      "weighted avg       0.93      0.93      0.93       503\n",
      "\n"
     ]
    }
   ],
   "source": [
    "# Classification report\n",
    "from sklearn.metrics import classification_report\n",
    "\n",
    "cf_test_report = classification_report(y_test, y_test_pred)\n",
    "print(cf_test_report)"
   ]
  },
  {
   "cell_type": "markdown",
   "id": "22c8c936",
   "metadata": {},
   "source": [
    "From the classification report we observe that the precision rate of the model at predicting attrition is 84% and the recall rate is 53% and f1-score is 65%.\n",
    "\n",
    "Now as much as a precise model is prefered in this case of employee attrition a higher recall rate is preferred, this is to say, we need to be able to detected as much potential attrition as possible, even if the employees do not end up quiting their job. It is important to detect attrition and intiate conversation with the employee in question and potentially solve matters that might have led to attrition.\n",
    "\n",
    "Having said that, in this case a high recall score is preferred and in order to achieve that we need to upsample our attrition and class in the training data in order to help the model train better and thus yeild an improved recall score"
   ]
  },
  {
   "cell_type": "markdown",
   "id": "e616ede1",
   "metadata": {},
   "source": [
    "This notebook will end here and another notebook will be initiated where the upsampling of the data will occur as well as re-modelling of the data and re-evaluation of the data."
   ]
  },
  {
   "cell_type": "code",
   "execution_count": null,
   "id": "471d67f4",
   "metadata": {},
   "outputs": [],
   "source": []
  }
 ],
 "metadata": {
  "kernelspec": {
   "display_name": "Python 3 (ipykernel)",
   "language": "python",
   "name": "python3"
  },
  "language_info": {
   "codemirror_mode": {
    "name": "ipython",
    "version": 3
   },
   "file_extension": ".py",
   "mimetype": "text/x-python",
   "name": "python",
   "nbconvert_exporter": "python",
   "pygments_lexer": "ipython3",
   "version": "3.9.7"
  }
 },
 "nbformat": 4,
 "nbformat_minor": 5
}
