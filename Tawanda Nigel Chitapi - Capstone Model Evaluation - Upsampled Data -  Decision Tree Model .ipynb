{
 "cells": [
  {
   "cell_type": "markdown",
   "id": "4a15216b",
   "metadata": {},
   "source": [
    "### Project: Understanding Employee Attrition with Machine Learning \n",
    "### Activity: Decision Tree  Model Evaluation on Up Sampled Data\n",
    "### Model: Decision Tree\n",
    "### Author: Tawanda Nigel Chitapi\n",
    "### Email: nigel.chitapi@gmail.com    \n",
    "### Date: September 05, 2022\n",
    "### Institution: BrainStation"
   ]
  },
  {
   "cell_type": "code",
   "execution_count": 1,
   "id": "826ca637",
   "metadata": {},
   "outputs": [],
   "source": [
    "# import packages\n",
    "\n",
    "# the data science trinity\n",
    "import numpy as np\n",
    "import pandas as pd\n",
    "import matplotlib.pyplot as plt\n",
    "\n",
    "# seaborn\n",
    "import seaborn as sns\n",
    "\n",
    "# model selection tools\n",
    "from sklearn.model_selection import train_test_split\n",
    "\n",
    "# scaler\n",
    "from sklearn.preprocessing import StandardScaler\n",
    "\n",
    "# linear models\n",
    "from sklearn.tree import DecisionTreeClassifier\n",
    "\n",
    "\n",
    "# metrics\n",
    "from sklearn.metrics import confusion_matrix, recall_score, precision_score, f1_score, roc_curve, roc_auc_score\n",
    "\n",
    "# SMOTE\n",
    "from imblearn.over_sampling import SMOTE"
   ]
  },
  {
   "cell_type": "markdown",
   "id": "62cc6c07",
   "metadata": {},
   "source": [
    "The goal of this deliverable is to build a model that predicts employee attrition of health  care workers at a hospital and in the end determine which of the provided variables are most associated with employee attrition and which ones encourage employees to stay on the job.\n",
    "\n",
    "We intend to build a high performing model with regards to precision and recall. With precision measuring how accurate our model is at predicting attrition overall and recall measuring how accurate our model is at predicting attrition correctly out of all attrition prediction it makes of which may include some false positives."
   ]
  },
  {
   "cell_type": "markdown",
   "id": "16101c20",
   "metadata": {},
   "source": [
    "The goal of this notebook is to perform upsampling on the the training data in order to solve the problem of imbalanced attrition classes. After balancing the data we will then instantiate the Decision Trees model, evaluate the model and compare the results with those of the unsampled data.\n",
    "\n",
    "The work-flow will be similar to that of the Unsampled data notebook for ease of flowing the steps."
   ]
  },
  {
   "cell_type": "code",
   "execution_count": 2,
   "id": "06aab1fb",
   "metadata": {},
   "outputs": [],
   "source": [
    "# load our data \n",
    "\n",
    "employee_df = pd.read_csv('data/employee_attrition.csv')"
   ]
  },
  {
   "cell_type": "code",
   "execution_count": 3,
   "id": "845b5e71",
   "metadata": {},
   "outputs": [
    {
     "data": {
      "text/html": [
       "<div>\n",
       "<style scoped>\n",
       "    .dataframe tbody tr th:only-of-type {\n",
       "        vertical-align: middle;\n",
       "    }\n",
       "\n",
       "    .dataframe tbody tr th {\n",
       "        vertical-align: top;\n",
       "    }\n",
       "\n",
       "    .dataframe thead th {\n",
       "        text-align: right;\n",
       "    }\n",
       "</style>\n",
       "<table border=\"1\" class=\"dataframe\">\n",
       "  <thead>\n",
       "    <tr style=\"text-align: right;\">\n",
       "      <th></th>\n",
       "      <th>EmployeeID</th>\n",
       "      <th>Age</th>\n",
       "      <th>Attrition</th>\n",
       "      <th>DailyRate</th>\n",
       "      <th>DistanceFromHome</th>\n",
       "      <th>Education</th>\n",
       "      <th>EmployeeCount</th>\n",
       "      <th>EnvironmentSatisfaction</th>\n",
       "      <th>Gender</th>\n",
       "      <th>HourlyRate</th>\n",
       "      <th>...</th>\n",
       "      <th>Other</th>\n",
       "      <th>Technical Degree</th>\n",
       "      <th>Admin</th>\n",
       "      <th>Administrative</th>\n",
       "      <th>Nurse</th>\n",
       "      <th>Other.1</th>\n",
       "      <th>Therapist</th>\n",
       "      <th>Divorced</th>\n",
       "      <th>Married</th>\n",
       "      <th>Single</th>\n",
       "    </tr>\n",
       "  </thead>\n",
       "  <tbody>\n",
       "    <tr>\n",
       "      <th>0</th>\n",
       "      <td>1313919</td>\n",
       "      <td>41</td>\n",
       "      <td>0</td>\n",
       "      <td>1102</td>\n",
       "      <td>1</td>\n",
       "      <td>2</td>\n",
       "      <td>1</td>\n",
       "      <td>2</td>\n",
       "      <td>1</td>\n",
       "      <td>94</td>\n",
       "      <td>...</td>\n",
       "      <td>0</td>\n",
       "      <td>0</td>\n",
       "      <td>0</td>\n",
       "      <td>0</td>\n",
       "      <td>1</td>\n",
       "      <td>0</td>\n",
       "      <td>0</td>\n",
       "      <td>0</td>\n",
       "      <td>0</td>\n",
       "      <td>1</td>\n",
       "    </tr>\n",
       "    <tr>\n",
       "      <th>1</th>\n",
       "      <td>1200302</td>\n",
       "      <td>49</td>\n",
       "      <td>0</td>\n",
       "      <td>279</td>\n",
       "      <td>8</td>\n",
       "      <td>1</td>\n",
       "      <td>1</td>\n",
       "      <td>3</td>\n",
       "      <td>0</td>\n",
       "      <td>61</td>\n",
       "      <td>...</td>\n",
       "      <td>0</td>\n",
       "      <td>0</td>\n",
       "      <td>0</td>\n",
       "      <td>0</td>\n",
       "      <td>0</td>\n",
       "      <td>1</td>\n",
       "      <td>0</td>\n",
       "      <td>0</td>\n",
       "      <td>1</td>\n",
       "      <td>0</td>\n",
       "    </tr>\n",
       "    <tr>\n",
       "      <th>2</th>\n",
       "      <td>1060315</td>\n",
       "      <td>37</td>\n",
       "      <td>1</td>\n",
       "      <td>1373</td>\n",
       "      <td>2</td>\n",
       "      <td>2</td>\n",
       "      <td>1</td>\n",
       "      <td>4</td>\n",
       "      <td>0</td>\n",
       "      <td>92</td>\n",
       "      <td>...</td>\n",
       "      <td>1</td>\n",
       "      <td>0</td>\n",
       "      <td>0</td>\n",
       "      <td>0</td>\n",
       "      <td>1</td>\n",
       "      <td>0</td>\n",
       "      <td>0</td>\n",
       "      <td>0</td>\n",
       "      <td>0</td>\n",
       "      <td>1</td>\n",
       "    </tr>\n",
       "    <tr>\n",
       "      <th>3</th>\n",
       "      <td>1272912</td>\n",
       "      <td>33</td>\n",
       "      <td>0</td>\n",
       "      <td>1392</td>\n",
       "      <td>3</td>\n",
       "      <td>4</td>\n",
       "      <td>1</td>\n",
       "      <td>4</td>\n",
       "      <td>1</td>\n",
       "      <td>56</td>\n",
       "      <td>...</td>\n",
       "      <td>0</td>\n",
       "      <td>0</td>\n",
       "      <td>0</td>\n",
       "      <td>0</td>\n",
       "      <td>0</td>\n",
       "      <td>1</td>\n",
       "      <td>0</td>\n",
       "      <td>0</td>\n",
       "      <td>1</td>\n",
       "      <td>0</td>\n",
       "    </tr>\n",
       "    <tr>\n",
       "      <th>4</th>\n",
       "      <td>1414939</td>\n",
       "      <td>27</td>\n",
       "      <td>0</td>\n",
       "      <td>591</td>\n",
       "      <td>2</td>\n",
       "      <td>1</td>\n",
       "      <td>1</td>\n",
       "      <td>1</td>\n",
       "      <td>0</td>\n",
       "      <td>40</td>\n",
       "      <td>...</td>\n",
       "      <td>0</td>\n",
       "      <td>0</td>\n",
       "      <td>0</td>\n",
       "      <td>0</td>\n",
       "      <td>1</td>\n",
       "      <td>0</td>\n",
       "      <td>0</td>\n",
       "      <td>0</td>\n",
       "      <td>1</td>\n",
       "      <td>0</td>\n",
       "    </tr>\n",
       "  </tbody>\n",
       "</table>\n",
       "<p>5 rows × 50 columns</p>\n",
       "</div>"
      ],
      "text/plain": [
       "   EmployeeID  Age  Attrition  DailyRate  DistanceFromHome  Education  \\\n",
       "0     1313919   41          0       1102                 1          2   \n",
       "1     1200302   49          0        279                 8          1   \n",
       "2     1060315   37          1       1373                 2          2   \n",
       "3     1272912   33          0       1392                 3          4   \n",
       "4     1414939   27          0        591                 2          1   \n",
       "\n",
       "   EmployeeCount  EnvironmentSatisfaction  Gender  HourlyRate  ...  Other  \\\n",
       "0              1                        2       1          94  ...      0   \n",
       "1              1                        3       0          61  ...      0   \n",
       "2              1                        4       0          92  ...      1   \n",
       "3              1                        4       1          56  ...      0   \n",
       "4              1                        1       0          40  ...      0   \n",
       "\n",
       "   Technical Degree  Admin  Administrative  Nurse  Other.1  Therapist  \\\n",
       "0                 0      0               0      1        0          0   \n",
       "1                 0      0               0      0        1          0   \n",
       "2                 0      0               0      1        0          0   \n",
       "3                 0      0               0      0        1          0   \n",
       "4                 0      0               0      1        0          0   \n",
       "\n",
       "   Divorced  Married  Single  \n",
       "0         0        0       1  \n",
       "1         0        1       0  \n",
       "2         0        0       1  \n",
       "3         0        1       0  \n",
       "4         0        1       0  \n",
       "\n",
       "[5 rows x 50 columns]"
      ]
     },
     "execution_count": 3,
     "metadata": {},
     "output_type": "execute_result"
    }
   ],
   "source": [
    "# sanity check to see if our data loaded successfully\n",
    "\n",
    "employee_df.head()"
   ]
  },
  {
   "cell_type": "code",
   "execution_count": 4,
   "id": "eee3b8a8",
   "metadata": {},
   "outputs": [
    {
     "name": "stdout",
     "output_type": "stream",
     "text": [
      "<class 'pandas.core.frame.DataFrame'>\n",
      "RangeIndex: 1676 entries, 0 to 1675\n",
      "Data columns (total 50 columns):\n",
      " #   Column                    Non-Null Count  Dtype\n",
      "---  ------                    --------------  -----\n",
      " 0   EmployeeID                1676 non-null   int64\n",
      " 1   Age                       1676 non-null   int64\n",
      " 2   Attrition                 1676 non-null   int64\n",
      " 3   DailyRate                 1676 non-null   int64\n",
      " 4   DistanceFromHome          1676 non-null   int64\n",
      " 5   Education                 1676 non-null   int64\n",
      " 6   EmployeeCount             1676 non-null   int64\n",
      " 7   EnvironmentSatisfaction   1676 non-null   int64\n",
      " 8   Gender                    1676 non-null   int64\n",
      " 9   HourlyRate                1676 non-null   int64\n",
      " 10  JobInvolvement            1676 non-null   int64\n",
      " 11  JobLevel                  1676 non-null   int64\n",
      " 12  JobSatisfaction           1676 non-null   int64\n",
      " 13  MonthlyIncome             1676 non-null   int64\n",
      " 14  MonthlyRate               1676 non-null   int64\n",
      " 15  NumCompaniesWorked        1676 non-null   int64\n",
      " 16  Over18                    1676 non-null   int64\n",
      " 17  OverTime                  1676 non-null   int64\n",
      " 18  PercentSalaryHike         1676 non-null   int64\n",
      " 19  PerformanceRating         1676 non-null   int64\n",
      " 20  RelationshipSatisfaction  1676 non-null   int64\n",
      " 21  StandardHours             1676 non-null   int64\n",
      " 22  Shift                     1676 non-null   int64\n",
      " 23  TotalWorkingYears         1676 non-null   int64\n",
      " 24  TrainingTimesLastYear     1676 non-null   int64\n",
      " 25  WorkLifeBalance           1676 non-null   int64\n",
      " 26  YearsAtCompany            1676 non-null   int64\n",
      " 27  YearsInCurrentRole        1676 non-null   int64\n",
      " 28  YearsSinceLastPromotion   1676 non-null   int64\n",
      " 29  YearsWithCurrManager      1676 non-null   int64\n",
      " 30  Non-Travel                1676 non-null   int64\n",
      " 31  Travel_Frequently         1676 non-null   int64\n",
      " 32  Travel_Rarely             1676 non-null   int64\n",
      " 33  Cardiology                1676 non-null   int64\n",
      " 34  Maternity                 1676 non-null   int64\n",
      " 35  Neurology                 1676 non-null   int64\n",
      " 36  Human Resources           1676 non-null   int64\n",
      " 37  Life Sciences             1676 non-null   int64\n",
      " 38  Marketing                 1676 non-null   int64\n",
      " 39  Medical                   1676 non-null   int64\n",
      " 40  Other                     1676 non-null   int64\n",
      " 41  Technical Degree          1676 non-null   int64\n",
      " 42  Admin                     1676 non-null   int64\n",
      " 43  Administrative            1676 non-null   int64\n",
      " 44  Nurse                     1676 non-null   int64\n",
      " 45  Other.1                   1676 non-null   int64\n",
      " 46  Therapist                 1676 non-null   int64\n",
      " 47  Divorced                  1676 non-null   int64\n",
      " 48  Married                   1676 non-null   int64\n",
      " 49  Single                    1676 non-null   int64\n",
      "dtypes: int64(50)\n",
      "memory usage: 654.8 KB\n"
     ]
    }
   ],
   "source": [
    "employee_df.info()"
   ]
  },
  {
   "cell_type": "code",
   "execution_count": 5,
   "id": "3191d096",
   "metadata": {},
   "outputs": [],
   "source": [
    "# features\n",
    "X = employee_df.drop('Attrition', axis=1)\n",
    "\n",
    "# target\n",
    "y = employee_df['Attrition']"
   ]
  },
  {
   "cell_type": "code",
   "execution_count": 6,
   "id": "9d7f3f7d",
   "metadata": {},
   "outputs": [],
   "source": [
    "# train-test split\n",
    "X_train, X_test, y_train, y_test = train_test_split(\n",
    "    X, y,\n",
    "    test_size = 0.3,\n",
    "    stratify = y,\n",
    "    random_state = 1\n",
    ")"
   ]
  },
  {
   "cell_type": "markdown",
   "id": "8ad19b5f",
   "metadata": {},
   "source": [
    "We have initiated an 70% train set and 30% test set split on our data "
   ]
  },
  {
   "cell_type": "markdown",
   "id": "701cafab",
   "metadata": {},
   "source": [
    "Our dataset contains 50 columns, with the amount of data that we have (1676 rows), 50 columns are too wide a dimension puts our model at the risk of the curse of dimensionality. After we conducted feature engineering during data cleaning and processing, the number of features in our dataset incresed from 35 to 50.\n",
    "In order to best predict our target variable we need to conduct some feature selection and select only those variables that best predict out target variable.\n",
    "To achieve this we will use the Fisher - Chi-Squared test and assess the derived p-values to select on the best predictor with p-values less than the threshold of 0.05.\n",
    "The Fisher - Chi-Squared test is applied on the training data because the selected features are used to train the model."
   ]
  },
  {
   "cell_type": "code",
   "execution_count": 7,
   "id": "b50f8dbb",
   "metadata": {},
   "outputs": [],
   "source": [
    "from sklearn.feature_selection import chi2"
   ]
  },
  {
   "cell_type": "code",
   "execution_count": 8,
   "id": "31986259",
   "metadata": {},
   "outputs": [
    {
     "data": {
      "text/plain": [
       "(array([1.21143359e+03, 2.18075488e+02, 9.80042735e+02, 1.34752206e+02,\n",
       "        9.14675779e-01, 0.00000000e+00, 7.62324266e+00, 4.26023102e-01,\n",
       "        1.37660534e+01, 8.64185842e+00, 4.33138845e+01, 4.99790687e+00,\n",
       "        2.15238646e+05, 1.25027767e+04, 1.15322155e+00, 0.00000000e+00,\n",
       "        1.36592523e+02, 1.26983331e-02, 7.82147747e-03, 2.99901161e-01,\n",
       "        0.00000000e+00, 3.81226029e+01, 4.97310855e+02, 2.98027378e+00,\n",
       "        2.44735458e+00, 3.59223808e+02, 2.23346033e+02, 5.90028751e+01,\n",
       "        2.07527896e+02, 1.08669784e+00, 1.07867314e+01, 1.71639456e+00,\n",
       "        2.15864231e+00, 1.45973417e-01, 5.70868185e+00, 2.15412094e+00,\n",
       "        2.11386774e-02, 1.56263236e+00, 2.29483170e+00, 6.51176112e-01,\n",
       "        1.19062460e+00, 2.15572106e+00, 1.33078829e+01, 1.02725034e+00,\n",
       "        9.96392145e+00, 1.71956394e+01, 1.09284509e+01, 1.20169006e+01,\n",
       "        4.95438134e+01]),\n",
       " array([1.99742170e-265, 2.37780925e-049, 3.91110641e-215, 3.74056454e-031,\n",
       "        3.38876833e-001, 1.00000000e+000, 5.76207893e-003, 5.13946832e-001,\n",
       "        2.07043843e-004, 3.28526142e-003, 4.66263191e-011, 2.53779918e-002,\n",
       "        0.00000000e+000, 0.00000000e+000, 2.82875781e-001, 1.00000000e+000,\n",
       "        1.48051863e-031, 9.10278803e-001, 9.29527672e-001, 5.83944390e-001,\n",
       "        1.00000000e+000, 6.64360504e-010, 3.65659657e-110, 8.42850144e-002,\n",
       "        1.17723119e-001, 4.15525833e-080, 1.68481749e-050, 1.57441751e-014,\n",
       "        4.75580191e-047, 2.97204021e-001, 1.02230239e-003, 1.90157807e-001,\n",
       "        1.41769907e-001, 7.02413392e-001, 1.68812104e-002, 1.42187800e-001,\n",
       "        8.84401805e-001, 2.11280207e-001, 1.29805281e-001, 4.19692502e-001,\n",
       "        2.75203604e-001, 1.42039749e-001, 2.64292606e-004, 3.10805360e-001,\n",
       "        1.59637668e-003, 3.37209504e-005, 9.46986434e-004, 5.27203008e-004,\n",
       "        1.93990632e-012]))"
      ]
     },
     "execution_count": 8,
     "metadata": {},
     "output_type": "execute_result"
    }
   ],
   "source": [
    "f_p_values = chi2(X, y)\n",
    "\n",
    "f_p_values"
   ]
  },
  {
   "cell_type": "markdown",
   "id": "7256c16f",
   "metadata": {},
   "source": [
    "The variable **f_p_values** refers to f-score, p-value values, the first array [0] represents f-scores and the second array [1] represent the p-values."
   ]
  },
  {
   "cell_type": "code",
   "execution_count": 9,
   "id": "2d566f26",
   "metadata": {},
   "outputs": [],
   "source": [
    "# create a series of p_values and match them to the relevant columns \n",
    "\n",
    "p_values = pd.Series(f_p_values[1],index = X.columns)"
   ]
  },
  {
   "cell_type": "code",
   "execution_count": 10,
   "id": "0ab6f3e9",
   "metadata": {},
   "outputs": [],
   "source": [
    "# sort the p_values in descending order \n",
    "p_values.sort_values(ascending = False , inplace = True)"
   ]
  },
  {
   "cell_type": "markdown",
   "id": "48b3ebc5",
   "metadata": {},
   "source": [
    "Plot a bar graph of the column and relevant p_values to better identify and select preferred columns"
   ]
  },
  {
   "cell_type": "code",
   "execution_count": 11,
   "id": "e94029d7",
   "metadata": {},
   "outputs": [
    {
     "data": {
      "text/plain": [
       "array([<AxesSubplot:title={'center':'None'}>], dtype=object)"
      ]
     },
     "execution_count": 11,
     "metadata": {},
     "output_type": "execute_result"
    },
    {
     "data": {
      "image/png": "[encoded data removed]",
      "text/plain": [
       "<Figure size 1800x2160 with 1 Axes>"
      ]
     },
     "metadata": {
      "needs_background": "light"
     },
     "output_type": "display_data"
    }
   ],
   "source": [
    "#Plot a bar graph\n",
    "p_values.plot.barh(figsize= (25,30), subplots=True) "
   ]
  },
  {
   "cell_type": "code",
   "execution_count": 12,
   "id": "15a1aee5",
   "metadata": {},
   "outputs": [],
   "source": [
    "# Newly Updated features\n",
    "X = employee_df[['Age','DailyRate', 'DistanceFromHome', 'JobLevel','OverTime','Single',\n",
    "               'Shift','TotalWorkingYears','Therapist', 'MonthlyRate', 'HourlyRate',\n",
    "                 'YearsAtCompany','YearsInCurrentRole','YearsSinceLastPromotion',\n",
    "                 'YearsWithCurrManager','Travel_Frequently','Married', 'Divorced',\n",
    "                 'Administrative']]\n",
    "\n",
    "# target\n",
    "y = employee_df['Attrition']"
   ]
  },
  {
   "cell_type": "markdown",
   "id": "7cd77115",
   "metadata": {},
   "source": [
    "After observing the results from the plot above, we have selected features with p_value less than 0.05 as these will best predict our target variable. "
   ]
  },
  {
   "cell_type": "markdown",
   "id": "3f808c8f",
   "metadata": {},
   "source": [
    "#### We will upsample our data using the SMOTE, an algorithm that performs data augmentation by creating synthetic data points based on the original data points. This will be instatiated and fit on the training data"
   ]
  },
  {
   "cell_type": "code",
   "execution_count": 13,
   "id": "b76066e6",
   "metadata": {},
   "outputs": [],
   "source": [
    "# instantiate SMOTE sampler, fit it to the training data, then resample the data\n",
    "X_train_sm, y_train_sm = SMOTE(random_state=1).fit_resample(X_train, y_train)"
   ]
  },
  {
   "cell_type": "code",
   "execution_count": 14,
   "id": "822b1056",
   "metadata": {},
   "outputs": [
    {
     "name": "stdout",
     "output_type": "stream",
     "text": [
      "Original class distribution\n"
     ]
    },
    {
     "data": {
      "text/plain": [
       "0    1034\n",
       "1     139\n",
       "Name: Attrition, dtype: int64"
      ]
     },
     "metadata": {},
     "output_type": "display_data"
    },
    {
     "name": "stdout",
     "output_type": "stream",
     "text": [
      "\n",
      "Resampled class distribution\n"
     ]
    },
    {
     "data": {
      "text/plain": [
       "0    1034\n",
       "1    1034\n",
       "Name: Attrition, dtype: int64"
      ]
     },
     "metadata": {},
     "output_type": "display_data"
    }
   ],
   "source": [
    "# check what SMOTE has done\n",
    "\n",
    "print('Original class distribution')\n",
    "display(pd.Series(y_train).value_counts().sort_index())\n",
    "\n",
    "print('\\nResampled class distribution')\n",
    "display(pd.Series(y_train_sm).value_counts().sort_index())"
   ]
  },
  {
   "cell_type": "markdown",
   "id": "bec6fb9f",
   "metadata": {},
   "source": [
    "When building a Decision Tree model we do not need to scale the data, the decision Trees model is not affected by unscaled data"
   ]
  },
  {
   "cell_type": "code",
   "execution_count": 15,
   "id": "fcd31627",
   "metadata": {},
   "outputs": [
    {
     "name": "stdout",
     "output_type": "stream",
     "text": [
      "1.0\n",
      "0.8409542743538767\n"
     ]
    }
   ],
   "source": [
    "# fitting the DT\n",
    "DT_employee_model = DecisionTreeClassifier(random_state=1)\n",
    "\n",
    "#Fit\n",
    "DT_employee_model.fit(X_train_sm, y_train_sm)\n",
    "\n",
    "# Getting the score\n",
    "print(DT_employee_model.score(X_train_sm, y_train_sm))\n",
    "print(DT_employee_model.score(X_test, y_test))"
   ]
  },
  {
   "cell_type": "code",
   "execution_count": null,
   "id": "59fcf8e7",
   "metadata": {},
   "outputs": [],
   "source": []
  },
  {
   "cell_type": "markdown",
   "id": "524f6d71",
   "metadata": {},
   "source": [
    "The model test accuracy score is 84%, this may be considered good but we need to further granulate the performance matrics of the model and assess how accurate is is at predicting true positive and true negatives."
   ]
  },
  {
   "cell_type": "markdown",
   "id": "65dbf335",
   "metadata": {},
   "source": [
    "### Evaluation on Test Data"
   ]
  },
  {
   "cell_type": "code",
   "execution_count": 16,
   "id": "d8a838c0",
   "metadata": {},
   "outputs": [
    {
     "data": {
      "text/plain": [
       "0    443\n",
       "1     60\n",
       "Name: Attrition, dtype: int64"
      ]
     },
     "metadata": {},
     "output_type": "display_data"
    }
   ],
   "source": [
    "# class distribution\n",
    "display(y_test.value_counts())"
   ]
  },
  {
   "cell_type": "code",
   "execution_count": 17,
   "id": "975c222b",
   "metadata": {},
   "outputs": [],
   "source": [
    "# predict classification\n",
    "y_test_pred = DT_employee_model.predict(X_test)"
   ]
  },
  {
   "cell_type": "code",
   "execution_count": 18,
   "id": "940d44b0",
   "metadata": {},
   "outputs": [
    {
     "data": {
      "text/plain": [
       "array([[394,  49],\n",
       "       [ 31,  29]])"
      ]
     },
     "execution_count": 18,
     "metadata": {},
     "output_type": "execute_result"
    }
   ],
   "source": [
    "# Generate the (raw) confusion matrix:\n",
    "\n",
    "cf_test = confusion_matrix(y_test, y_test_pred)\n",
    "cf_test"
   ]
  },
  {
   "cell_type": "code",
   "execution_count": 19,
   "id": "ba3f4366",
   "metadata": {},
   "outputs": [
    {
     "data": {
      "text/html": [
       "<div>\n",
       "<style scoped>\n",
       "    .dataframe tbody tr th:only-of-type {\n",
       "        vertical-align: middle;\n",
       "    }\n",
       "\n",
       "    .dataframe tbody tr th {\n",
       "        vertical-align: top;\n",
       "    }\n",
       "\n",
       "    .dataframe thead th {\n",
       "        text-align: right;\n",
       "    }\n",
       "</style>\n",
       "<table border=\"1\" class=\"dataframe\">\n",
       "  <thead>\n",
       "    <tr style=\"text-align: right;\">\n",
       "      <th></th>\n",
       "      <th>predicted 0</th>\n",
       "      <th>predicted 1</th>\n",
       "    </tr>\n",
       "  </thead>\n",
       "  <tbody>\n",
       "    <tr>\n",
       "      <th>true 0</th>\n",
       "      <td>394</td>\n",
       "      <td>49</td>\n",
       "    </tr>\n",
       "    <tr>\n",
       "      <th>true 1</th>\n",
       "      <td>31</td>\n",
       "      <td>29</td>\n",
       "    </tr>\n",
       "  </tbody>\n",
       "</table>\n",
       "</div>"
      ],
      "text/plain": [
       "        predicted 0  predicted 1\n",
       "true 0          394           49\n",
       "true 1           31           29"
      ]
     },
     "metadata": {},
     "output_type": "display_data"
    }
   ],
   "source": [
    "# confusion matrix\n",
    "conmat = pd.DataFrame(\n",
    "    data = cf_test,\n",
    "    index = ['true 0', 'true 1'],\n",
    "    columns = ['predicted 0', 'predicted 1']\n",
    ")\n",
    "display(conmat)"
   ]
  },
  {
   "cell_type": "code",
   "execution_count": 20,
   "id": "73313656",
   "metadata": {},
   "outputs": [
    {
     "data": {
      "image/png": "[encoded data removed]",
      "text/plain": [
       "<Figure size 432x288 with 2 Axes>"
      ]
     },
     "metadata": {
      "needs_background": "light"
     },
     "output_type": "display_data"
    }
   ],
   "source": [
    "from sklearn.metrics import plot_confusion_matrix, confusion_matrix\n",
    "\n",
    "# the function expects the estimator, inputs and target as parameters\n",
    "plot_confusion_matrix(DT_employee_model, X_test, y_test, cmap='Reds');"
   ]
  },
  {
   "cell_type": "markdown",
   "id": "a009c860",
   "metadata": {},
   "source": [
    "The model predicted 394 True Negatives, 29 True Positives, 31 False Positive and 49 False Negatives. \n",
    "\n",
    "The raw numbers themselves do not tell us much of a comprehensive story behind the performance of our model and so we will generate a classification report that will provide more information about, model precisio, recall, f1-score and accuracy."
   ]
  },
  {
   "cell_type": "code",
   "execution_count": 21,
   "id": "4242ae4f",
   "metadata": {},
   "outputs": [
    {
     "name": "stdout",
     "output_type": "stream",
     "text": [
      "              precision    recall  f1-score   support\n",
      "\n",
      "           0       0.93      0.89      0.91       443\n",
      "           1       0.37      0.48      0.42        60\n",
      "\n",
      "    accuracy                           0.84       503\n",
      "   macro avg       0.65      0.69      0.66       503\n",
      "weighted avg       0.86      0.84      0.85       503\n",
      "\n"
     ]
    }
   ],
   "source": [
    "# Classification report\n",
    "from sklearn.metrics import classification_report\n",
    "\n",
    "cf_test_report = classification_report(y_test, y_test_pred)\n",
    "print(cf_test_report)"
   ]
  },
  {
   "cell_type": "markdown",
   "id": "dfbd44af",
   "metadata": {},
   "source": [
    "From the classification report we observed that the precision rate of the model at predicting attrition is 37% and the recall rate is 48% and f1-score is 42%.\n",
    "\n",
    "This model's performance is poor across the board since the scores are all below 50%.\n",
    "\n",
    "\n",
    "We will attempt to optimize hyperpameters, specifically the depth of the trees and assess if that will improve our model performance"
   ]
  },
  {
   "cell_type": "markdown",
   "id": "b4639fe5",
   "metadata": {},
   "source": [
    "### Hyperparameter Optimization"
   ]
  },
  {
   "cell_type": "markdown",
   "id": "d8a5f841",
   "metadata": {},
   "source": [
    "We'll take our train data and split it to create a validation dataset from it. \n",
    "* Train + Validation Sets: 80%\n",
    "* Test Set: 20%\n",
    "\n",
    "Let's separate our our test set. Since our test data has been seperated already we will go ahead and split the train dataset and create a validation dataset"
   ]
  },
  {
   "cell_type": "markdown",
   "id": "811b240f",
   "metadata": {},
   "source": [
    "Now, `X_remainder` and `y_remainder` contain the other 80%. Of remaining data, we take a 70% training set and 30% validation set."
   ]
  },
  {
   "cell_type": "code",
   "execution_count": 43,
   "id": "420ed5a2",
   "metadata": {},
   "outputs": [],
   "source": [
    "# Splitting the remainder in two chunks\n",
    "X_train_new, X_validation, y_train_new, y_validation = \\\n",
    "    train_test_split(X_train_sm, y_train_sm, test_size = 0.3,\n",
    "                     random_state=1)"
   ]
  },
  {
   "cell_type": "code",
   "execution_count": 44,
   "id": "e1e57131",
   "metadata": {},
   "outputs": [
    {
     "name": "stdout",
     "output_type": "stream",
     "text": [
      "Shape of test set: (503, 49)\n",
      "Shape of validation set: (621, 49)\n",
      "Shape of train set: (1447, 49)\n"
     ]
    }
   ],
   "source": [
    "print(f'Shape of test set: {X_test.shape}')\n",
    "print(f'Shape of validation set: {X_validation.shape}')\n",
    "print(f'Shape of train set: {X_train_new.shape}')"
   ]
  },
  {
   "cell_type": "code",
   "execution_count": 47,
   "id": "4d0504c4",
   "metadata": {},
   "outputs": [
    {
     "data": {
      "image/png": "[encoded data removed]",
      "text/plain": [
       "<Figure size 720x504 with 1 Axes>"
      ]
     },
     "metadata": {
      "needs_background": "light"
     },
     "output_type": "display_data"
    }
   ],
   "source": [
    "depths = list(range(1, int(np.sqrt(len(X_train_new)))))\n",
    "train_scores = []\n",
    "validation_scores = []\n",
    "\n",
    "for d in depths:    \n",
    "    dt = DecisionTreeClassifier(max_depth = d, random_state=1)\n",
    "    dt.fit(X_train_new, y_train_new)\n",
    "    \n",
    "    # Evaluate\n",
    "    train_scores.append(dt.score(X_train_new, y_train_new))\n",
    "    validation_scores.append(dt.score(X_validation, y_validation))\n",
    "    \n",
    "plt.figure(figsize=(10, 7))\n",
    "plt.plot(depths, train_scores, c='blue', label='train')\n",
    "plt.plot(depths, validation_scores, c='red', label='validation')\n",
    "plt.axvline(x = 8, color = 'green', label = 'axvline - max_depth 10')\n",
    "plt.xlabel('max_depth')\n",
    "plt.ylabel('accuracy')\n",
    "plt.title(\"Decision tree max_depth tuning\")\n",
    "plt.legend()\n",
    "plt.show()"
   ]
  },
  {
   "cell_type": "code",
   "execution_count": null,
   "id": "043aaca9",
   "metadata": {},
   "outputs": [],
   "source": []
  },
  {
   "cell_type": "code",
   "execution_count": 48,
   "id": "6305efc7",
   "metadata": {},
   "outputs": [
    {
     "name": "stdout",
     "output_type": "stream",
     "text": [
      "0.9827228749136143\n",
      "0.8872785829307569\n"
     ]
    }
   ],
   "source": [
    "# fitting the DT\n",
    "DT_employee_optimized_model = DecisionTreeClassifier(max_depth = 8, random_state=1)\n",
    "\n",
    "#Fit\n",
    "DT_employee_optimized_model.fit(X_train_new, y_train_new)\n",
    "\n",
    "# Getting the score\n",
    "print(DT_employee_optimized_model.score(X_train_new, y_train_new))\n",
    "print(DT_employee_optimized_model.score(X_validation, y_validation))"
   ]
  },
  {
   "cell_type": "markdown",
   "id": "dda3169e",
   "metadata": {},
   "source": [
    "The validation score is 89% which is 5 percentage points above the test score from the previous model, we will now assess the model on the test data."
   ]
  },
  {
   "cell_type": "markdown",
   "id": "5a75f14c",
   "metadata": {},
   "source": [
    "### Evaluation on Test Data - After optimizing hyperparameter (c-value)"
   ]
  },
  {
   "cell_type": "code",
   "execution_count": 49,
   "id": "d3ed9c21",
   "metadata": {},
   "outputs": [
    {
     "data": {
      "text/plain": [
       "0    443\n",
       "1     60\n",
       "Name: Attrition, dtype: int64"
      ]
     },
     "metadata": {},
     "output_type": "display_data"
    }
   ],
   "source": [
    "# class distribution\n",
    "display(y_test.value_counts())"
   ]
  },
  {
   "cell_type": "code",
   "execution_count": 50,
   "id": "6cba41eb",
   "metadata": {},
   "outputs": [],
   "source": [
    "# predict classification\n",
    "y_test_pred = DT_employee_optimized_model.predict(X_test)"
   ]
  },
  {
   "cell_type": "markdown",
   "id": "f85cac78",
   "metadata": {},
   "source": [
    "Generate the (raw) confusion matrix:"
   ]
  },
  {
   "cell_type": "code",
   "execution_count": 51,
   "id": "b9fab06a",
   "metadata": {},
   "outputs": [
    {
     "data": {
      "text/plain": [
       "array([[390,  53],\n",
       "       [ 25,  35]])"
      ]
     },
     "execution_count": 51,
     "metadata": {},
     "output_type": "execute_result"
    }
   ],
   "source": [
    "cf_test = confusion_matrix(y_test, y_test_pred)\n",
    "cf_test"
   ]
  },
  {
   "cell_type": "code",
   "execution_count": 52,
   "id": "bc7cdb63",
   "metadata": {},
   "outputs": [
    {
     "data": {
      "text/html": [
       "<div>\n",
       "<style scoped>\n",
       "    .dataframe tbody tr th:only-of-type {\n",
       "        vertical-align: middle;\n",
       "    }\n",
       "\n",
       "    .dataframe tbody tr th {\n",
       "        vertical-align: top;\n",
       "    }\n",
       "\n",
       "    .dataframe thead th {\n",
       "        text-align: right;\n",
       "    }\n",
       "</style>\n",
       "<table border=\"1\" class=\"dataframe\">\n",
       "  <thead>\n",
       "    <tr style=\"text-align: right;\">\n",
       "      <th></th>\n",
       "      <th>predicted 0</th>\n",
       "      <th>predicted 1</th>\n",
       "    </tr>\n",
       "  </thead>\n",
       "  <tbody>\n",
       "    <tr>\n",
       "      <th>true 0</th>\n",
       "      <td>390</td>\n",
       "      <td>53</td>\n",
       "    </tr>\n",
       "    <tr>\n",
       "      <th>true 1</th>\n",
       "      <td>25</td>\n",
       "      <td>35</td>\n",
       "    </tr>\n",
       "  </tbody>\n",
       "</table>\n",
       "</div>"
      ],
      "text/plain": [
       "        predicted 0  predicted 1\n",
       "true 0          390           53\n",
       "true 1           25           35"
      ]
     },
     "metadata": {},
     "output_type": "display_data"
    }
   ],
   "source": [
    "# confusion matrix\n",
    "conmat = pd.DataFrame(\n",
    "    data = cf_test,\n",
    "    index = ['true 0', 'true 1'],\n",
    "    columns = ['predicted 0', 'predicted 1']\n",
    ")\n",
    "display(conmat)"
   ]
  },
  {
   "cell_type": "code",
   "execution_count": 53,
   "id": "e9b63696",
   "metadata": {},
   "outputs": [
    {
     "data": {
      "image/png": "[encoded data removed]",
      "text/plain": [
       "<Figure size 432x288 with 2 Axes>"
      ]
     },
     "metadata": {
      "needs_background": "light"
     },
     "output_type": "display_data"
    }
   ],
   "source": [
    "# the function expects the estimator, inputs and target as parameters\n",
    "plot_confusion_matrix(DT_employee_optimized_model, X_test, y_test, cmap='Reds');"
   ]
  },
  {
   "cell_type": "markdown",
   "id": "78ad7688",
   "metadata": {},
   "source": [
    "The model predicted 390 True Negatives, 35 True Positives, 25 False Positive and 53 False Negatives. \n",
    "\n",
    "The raw numbers themselves do not tell us much of a comprehensive story behind the performance of our model and so we will generate a classification report that will provide more information about, model precisio, recall, f1-score and accuracy."
   ]
  },
  {
   "cell_type": "code",
   "execution_count": 54,
   "id": "aa305f6b",
   "metadata": {},
   "outputs": [
    {
     "name": "stdout",
     "output_type": "stream",
     "text": [
      "              precision    recall  f1-score   support\n",
      "\n",
      "           0       0.94      0.88      0.91       443\n",
      "           1       0.40      0.58      0.47        60\n",
      "\n",
      "    accuracy                           0.84       503\n",
      "   macro avg       0.67      0.73      0.69       503\n",
      "weighted avg       0.88      0.84      0.86       503\n",
      "\n"
     ]
    }
   ],
   "source": [
    "# Classification report\n",
    "\n",
    "cf_test_report = classification_report(y_test, y_test_pred)\n",
    "print(cf_test_report)"
   ]
  },
  {
   "cell_type": "markdown",
   "id": "2a5fa4a5",
   "metadata": {},
   "source": [
    "From the classification report we observed that the precision rate of the model has improved from 37% to 40% and the recall rate improved significantly from 48% to 58% and f1-score improved from 42% to 47%. \n",
    "\n",
    "With our goal of predicting attrition, we need to detect as much attrition as possible and so the improvement in the recall score is a good improvement for the model. We will attempt to further optimize the hyperparameters using the pipeline GridSearch and assess if our model performs better"
   ]
  },
  {
   "cell_type": "markdown",
   "id": "99a5c8dd",
   "metadata": {},
   "source": [
    "### Now we wil employ a pipeline GridSearch to determine the best estimators and prevailing parameters. "
   ]
  },
  {
   "cell_type": "code",
   "execution_count": 55,
   "id": "0abb7e89",
   "metadata": {},
   "outputs": [],
   "source": [
    "from sklearn.model_selection import GridSearchCV\n",
    "from sklearn.model_selection import cross_val_score\n",
    "from sklearn.preprocessing import MinMaxScaler, StandardScaler\n",
    "from sklearn.pipeline import Pipeline\n",
    "from sklearn.decomposition import PCA"
   ]
  },
  {
   "cell_type": "code",
   "execution_count": 56,
   "id": "eb0a080f",
   "metadata": {},
   "outputs": [
    {
     "name": "stdout",
     "output_type": "stream",
     "text": [
      "Fitting 5 folds for each of 152 candidates, totalling 760 fits\n"
     ]
    }
   ],
   "source": [
    "# estimators\n",
    "# note that all the planned steps must be included, but the second elements in each tuple are more like placeholders\n",
    "estimators = [\n",
    "\n",
    "    ('model', DecisionTreeClassifier())\n",
    "]\n",
    "\n",
    "# instantiate pipeline with the specified steps\n",
    "pipe = Pipeline(estimators)\n",
    "\n",
    "# define parameter grid\n",
    "param_grid = [\n",
    "        \n",
    "    # decision tree classifier\n",
    "    {\n",
    "        'model': [DecisionTreeClassifier()],\n",
    "        'model__max_depth': range(2, 21),\n",
    "        'model__min_samples_leaf': [2, 3, 4, 5, 6, 7, 8, 9],\n",
    "        'model__random_state': [1]\n",
    "    }\n",
    "]\n",
    "\n",
    "# instantiate cross-validated grid search object with the steps and parameter grid\n",
    "grid = GridSearchCV(\n",
    "    estimator = pipe,\n",
    "    param_grid = param_grid,\n",
    "    cv = 5,\n",
    "    verbose = 5,\n",
    "    n_jobs = -1\n",
    ")\n",
    "\n",
    "# fit the grid to the unprocessed training data\n",
    "grid.fit(X_train_sm, y_train_sm);"
   ]
  },
  {
   "cell_type": "markdown",
   "id": "38c550ca",
   "metadata": {},
   "source": [
    "After fitting the grid to the training data, use the `best_estimator_` attribute on your grid search object to obtain the most optimal model and its parameters. "
   ]
  },
  {
   "cell_type": "code",
   "execution_count": 57,
   "id": "c2fad52e",
   "metadata": {
    "scrolled": true
   },
   "outputs": [
    {
     "data": {
      "text/plain": [
       "Pipeline(steps=[('model',\n",
       "                 DecisionTreeClassifier(max_depth=10, min_samples_leaf=2,\n",
       "                                        random_state=1))])"
      ]
     },
     "execution_count": 57,
     "metadata": {},
     "output_type": "execute_result"
    }
   ],
   "source": [
    "# check the most optimal model\n",
    "grid.best_estimator_"
   ]
  },
  {
   "cell_type": "markdown",
   "id": "93c57f36",
   "metadata": {},
   "source": [
    "### Now using our best estimator we will re-run our model with the specified parameters and evaluate the model"
   ]
  },
  {
   "cell_type": "code",
   "execution_count": 58,
   "id": "6c7fb7e5",
   "metadata": {},
   "outputs": [
    {
     "name": "stdout",
     "output_type": "stream",
     "text": [
      "0.9796905222437138\n",
      "0.8508946322067594\n"
     ]
    }
   ],
   "source": [
    "# fitting the DT\n",
    "DT_employee_final_model = DecisionTreeClassifier(max_depth=10, min_samples_leaf=2,\n",
    "                                        random_state=1)\n",
    "\n",
    "#Fit\n",
    "DT_employee_final_model.fit(X_train_sm, y_train_sm)\n",
    "\n",
    "# Getting the score\n",
    "print(DT_employee_final_model.score(X_train_sm, y_train_sm))\n",
    "print(DT_employee_final_model.score(X_test, y_test))"
   ]
  },
  {
   "cell_type": "markdown",
   "id": "280ac227",
   "metadata": {},
   "source": [
    "The test accuracy score has improved from 84% to 85% with the GridSearch optimization"
   ]
  },
  {
   "cell_type": "markdown",
   "id": "bba87c8f",
   "metadata": {},
   "source": [
    "### Evaluation on Test Data - After determing the best estimators and fitting the parameters in the Logistic Regression Model "
   ]
  },
  {
   "cell_type": "code",
   "execution_count": 59,
   "id": "9a81fd31",
   "metadata": {},
   "outputs": [
    {
     "data": {
      "text/plain": [
       "0    443\n",
       "1     60\n",
       "Name: Attrition, dtype: int64"
      ]
     },
     "metadata": {},
     "output_type": "display_data"
    }
   ],
   "source": [
    "# class distribution\n",
    "display(y_test.value_counts())"
   ]
  },
  {
   "cell_type": "code",
   "execution_count": 60,
   "id": "620d4695",
   "metadata": {},
   "outputs": [],
   "source": [
    "# predict classification\n",
    "y_test_pred = DT_employee_final_model.predict(X_test)"
   ]
  },
  {
   "cell_type": "markdown",
   "id": "750905ea",
   "metadata": {},
   "source": [
    "Generate the (raw) confusion matrix:"
   ]
  },
  {
   "cell_type": "code",
   "execution_count": 61,
   "id": "c7788284",
   "metadata": {},
   "outputs": [
    {
     "data": {
      "text/plain": [
       "array([[400,  43],\n",
       "       [ 32,  28]])"
      ]
     },
     "execution_count": 61,
     "metadata": {},
     "output_type": "execute_result"
    }
   ],
   "source": [
    "cf_test = confusion_matrix(y_test, y_test_pred)\n",
    "cf_test"
   ]
  },
  {
   "cell_type": "code",
   "execution_count": 62,
   "id": "03a9190e",
   "metadata": {},
   "outputs": [
    {
     "data": {
      "text/html": [
       "<div>\n",
       "<style scoped>\n",
       "    .dataframe tbody tr th:only-of-type {\n",
       "        vertical-align: middle;\n",
       "    }\n",
       "\n",
       "    .dataframe tbody tr th {\n",
       "        vertical-align: top;\n",
       "    }\n",
       "\n",
       "    .dataframe thead th {\n",
       "        text-align: right;\n",
       "    }\n",
       "</style>\n",
       "<table border=\"1\" class=\"dataframe\">\n",
       "  <thead>\n",
       "    <tr style=\"text-align: right;\">\n",
       "      <th></th>\n",
       "      <th>predicted 0</th>\n",
       "      <th>predicted 1</th>\n",
       "    </tr>\n",
       "  </thead>\n",
       "  <tbody>\n",
       "    <tr>\n",
       "      <th>true 0</th>\n",
       "      <td>400</td>\n",
       "      <td>43</td>\n",
       "    </tr>\n",
       "    <tr>\n",
       "      <th>true 1</th>\n",
       "      <td>32</td>\n",
       "      <td>28</td>\n",
       "    </tr>\n",
       "  </tbody>\n",
       "</table>\n",
       "</div>"
      ],
      "text/plain": [
       "        predicted 0  predicted 1\n",
       "true 0          400           43\n",
       "true 1           32           28"
      ]
     },
     "metadata": {},
     "output_type": "display_data"
    }
   ],
   "source": [
    "# confusion matrix\n",
    "conmat = pd.DataFrame(\n",
    "    data = cf_test,\n",
    "    index = ['true 0', 'true 1'],\n",
    "    columns = ['predicted 0', 'predicted 1']\n",
    ")\n",
    "display(conmat)"
   ]
  },
  {
   "cell_type": "code",
   "execution_count": 63,
   "id": "5999b6fa",
   "metadata": {},
   "outputs": [
    {
     "data": {
      "image/png": "[encoded data removed]",
      "text/plain": [
       "<Figure size 432x288 with 2 Axes>"
      ]
     },
     "metadata": {
      "needs_background": "light"
     },
     "output_type": "display_data"
    }
   ],
   "source": [
    "# the function expects the estimator, inputs and target as parameters\n",
    "plot_confusion_matrix(DT_employee_final_model, X_test, y_test, cmap='Reds');"
   ]
  },
  {
   "cell_type": "markdown",
   "id": "ba0d2b66",
   "metadata": {},
   "source": [
    "The model predicted 400 True Negatives, 32 True Positives, 32 False Positive and 43 False Negatives. \n",
    "\n",
    "The raw numbers themselves do not tell us much of a comprehensive story behind the performance of our model and so we will generate a classification report that will provide more information about, model precisio, recall, f1-score and accuracy."
   ]
  },
  {
   "cell_type": "code",
   "execution_count": 64,
   "id": "dd3a525b",
   "metadata": {},
   "outputs": [
    {
     "name": "stdout",
     "output_type": "stream",
     "text": [
      "              precision    recall  f1-score   support\n",
      "\n",
      "           0       0.93      0.90      0.91       443\n",
      "           1       0.39      0.47      0.43        60\n",
      "\n",
      "    accuracy                           0.85       503\n",
      "   macro avg       0.66      0.68      0.67       503\n",
      "weighted avg       0.86      0.85      0.86       503\n",
      "\n",
      "[CV 5/5] END model=DecisionTreeClassifier(), model__max_depth=2, model__min_samples_leaf=2, model__random_state=1;, score=0.746 total time=   0.0s\n",
      "[CV 5/5] END model=DecisionTreeClassifier(), model__max_depth=2, model__min_samples_leaf=5, model__random_state=1;, score=0.746 total time=   0.0s\n",
      "[CV 5/5] END model=DecisionTreeClassifier(), model__max_depth=2, model__min_samples_leaf=6, model__random_state=1;, score=0.746 total time=   0.0s\n",
      "[CV 2/5] END model=DecisionTreeClassifier(), model__max_depth=2, model__min_samples_leaf=8, model__random_state=1;, score=0.778 total time=   0.0s\n",
      "[CV 3/5] END model=DecisionTreeClassifier(), model__max_depth=2, model__min_samples_leaf=9, model__random_state=1;, score=0.739 total time=   0.0s\n",
      "[CV 5/5] END model=DecisionTreeClassifier(), model__max_depth=6, model__min_samples_leaf=2, model__random_state=1;, score=0.891 total time=   0.0s\n",
      "[CV 1/5] END model=DecisionTreeClassifier(), model__max_depth=6, model__min_samples_leaf=3, model__random_state=1;, score=0.746 total time=   0.0s\n",
      "[CV 2/5] END model=DecisionTreeClassifier(), model__max_depth=6, model__min_samples_leaf=3, model__random_state=1;, score=0.901 total time=   0.0s\n",
      "[CV 3/5] END model=DecisionTreeClassifier(), model__max_depth=6, model__min_samples_leaf=3, model__random_state=1;, score=0.879 total time=   0.0s\n",
      "[CV 1/5] END model=DecisionTreeClassifier(), model__max_depth=7, model__min_samples_leaf=2, model__random_state=1;, score=0.783 total time=   0.0s\n",
      "[CV 2/5] END model=DecisionTreeClassifier(), model__max_depth=7, model__min_samples_leaf=2, model__random_state=1;, score=0.899 total time=   0.0s\n",
      "[CV 3/5] END model=DecisionTreeClassifier(), model__max_depth=7, model__min_samples_leaf=2, model__random_state=1;, score=0.899 total time=   0.0s\n",
      "[CV 4/5] END model=DecisionTreeClassifier(), model__max_depth=7, model__min_samples_leaf=2, model__random_state=1;, score=0.910 total time=   0.0s\n",
      "[CV 3/5] END model=DecisionTreeClassifier(), model__max_depth=8, model__min_samples_leaf=8, model__random_state=1;, score=0.857 total time=   0.0s\n",
      "[CV 4/5] END model=DecisionTreeClassifier(), model__max_depth=8, model__min_samples_leaf=8, model__random_state=1;, score=0.879 total time=   0.0s\n",
      "[CV 5/5] END model=DecisionTreeClassifier(), model__max_depth=8, model__min_samples_leaf=8, model__random_state=1;, score=0.908 total time=   0.0s\n",
      "[CV 1/5] END model=DecisionTreeClassifier(), model__max_depth=8, model__min_samples_leaf=9, model__random_state=1;, score=0.754 total time=   0.0s\n",
      "[CV 2/5] END model=DecisionTreeClassifier(), model__max_depth=8, model__min_samples_leaf=9, model__random_state=1;, score=0.901 total time=   0.0s\n",
      "[CV 3/5] END model=DecisionTreeClassifier(), model__max_depth=8, model__min_samples_leaf=9, model__random_state=1;, score=0.865 total time=   0.0s\n",
      "[CV 4/5] END model=DecisionTreeClassifier(), model__max_depth=8, model__min_samples_leaf=9, model__random_state=1;, score=0.872 total time=   0.0s\n",
      "[CV 5/5] END model=DecisionTreeClassifier(), model__max_depth=8, model__min_samples_leaf=9, model__random_state=1;, score=0.913 total time=   0.0s\n",
      "[CV 4/5] END model=DecisionTreeClassifier(), model__max_depth=11, model__min_samples_leaf=3, model__random_state=1;, score=0.906 total time=   0.0s\n",
      "[CV 5/5] END model=DecisionTreeClassifier(), model__max_depth=11, model__min_samples_leaf=3, model__random_state=1;, score=0.908 total time=   0.0s\n",
      "[CV 1/5] END model=DecisionTreeClassifier(), model__max_depth=11, model__min_samples_leaf=4, model__random_state=1;, score=0.768 total time=   0.0s\n",
      "[CV 2/5] END model=DecisionTreeClassifier(), model__max_depth=11, model__min_samples_leaf=4, model__random_state=1;, score=0.899 total time=   0.0s\n",
      "[CV 3/5] END model=DecisionTreeClassifier(), model__max_depth=11, model__min_samples_leaf=4, model__random_state=1;, score=0.901 total time=   0.0s\n",
      "[CV 4/5] END model=DecisionTreeClassifier(), model__max_depth=11, model__min_samples_leaf=4, model__random_state=1;, score=0.925 total time=   0.0s\n",
      "[CV 5/5] END model=DecisionTreeClassifier(), model__max_depth=11, model__min_samples_leaf=4, model__random_state=1;, score=0.923 total time=   0.0s\n",
      "[CV 1/5] END model=DecisionTreeClassifier(), model__max_depth=11, model__min_samples_leaf=5, model__random_state=1;, score=0.771 total time=   0.0s\n",
      "[CV 5/5] END model=DecisionTreeClassifier(), model__max_depth=13, model__min_samples_leaf=6, model__random_state=1;, score=0.915 total time=   0.0s\n",
      "[CV 1/5] END model=DecisionTreeClassifier(), model__max_depth=13, model__min_samples_leaf=7, model__random_state=1;, score=0.771 total time=   0.0s\n",
      "[CV 2/5] END model=DecisionTreeClassifier(), model__max_depth=13, model__min_samples_leaf=7, model__random_state=1;, score=0.911 total time=   0.0s\n",
      "[CV 3/5] END model=DecisionTreeClassifier(), model__max_depth=13, model__min_samples_leaf=7, model__random_state=1;, score=0.865 total time=   0.0s\n",
      "[CV 4/5] END model=DecisionTreeClassifier(), model__max_depth=13, model__min_samples_leaf=7, model__random_state=1;, score=0.889 total time=   0.0s\n",
      "[CV 5/5] END model=DecisionTreeClassifier(), model__max_depth=13, model__min_samples_leaf=7, model__random_state=1;, score=0.923 total time=   0.0s\n",
      "[CV 1/5] END model=DecisionTreeClassifier(), model__max_depth=13, model__min_samples_leaf=8, model__random_state=1;, score=0.754 total time=   0.0s\n",
      "[CV 2/5] END model=DecisionTreeClassifier(), model__max_depth=13, model__min_samples_leaf=8, model__random_state=1;, score=0.896 total time=   0.0s\n",
      "[CV 1/5] END model=DecisionTreeClassifier(), model__max_depth=16, model__min_samples_leaf=2, model__random_state=1;, score=0.785 total time=   0.0s\n",
      "[CV 2/5] END model=DecisionTreeClassifier(), model__max_depth=16, model__min_samples_leaf=2, model__random_state=1;, score=0.906 total time=   0.0s\n",
      "[CV 3/5] END model=DecisionTreeClassifier(), model__max_depth=16, model__min_samples_leaf=2, model__random_state=1;, score=0.891 total time=   0.0s\n",
      "[CV 4/5] END model=DecisionTreeClassifier(), model__max_depth=16, model__min_samples_leaf=2, model__random_state=1;, score=0.906 total time=   0.0s\n",
      "[CV 5/5] END model=DecisionTreeClassifier(), model__max_depth=16, model__min_samples_leaf=2, model__random_state=1;, score=0.915 total time=   0.0s\n",
      "[CV 1/5] END model=DecisionTreeClassifier(), model__max_depth=16, model__min_samples_leaf=3, model__random_state=1;, score=0.766 total time=   0.0s\n",
      "[CV 2/5] END model=DecisionTreeClassifier(), model__max_depth=16, model__min_samples_leaf=3, model__random_state=1;, score=0.891 total time=   0.0s\n",
      "[CV 3/5] END model=DecisionTreeClassifier(), model__max_depth=16, model__min_samples_leaf=3, model__random_state=1;, score=0.884 total time=   0.0s\n",
      "[CV 2/5] END model=DecisionTreeClassifier(), model__max_depth=18, model__min_samples_leaf=5, model__random_state=1;, score=0.906 total time=   0.0s\n",
      "[CV 3/5] END model=DecisionTreeClassifier(), model__max_depth=18, model__min_samples_leaf=5, model__random_state=1;, score=0.884 total time=   0.0s\n",
      "[CV 4/5] END model=DecisionTreeClassifier(), model__max_depth=18, model__min_samples_leaf=5, model__random_state=1;, score=0.918 total time=   0.0s\n",
      "[CV 5/5] END model=DecisionTreeClassifier(), model__max_depth=18, model__min_samples_leaf=5, model__random_state=1;, score=0.913 total time=   0.0s\n",
      "[CV 1/5] END model=DecisionTreeClassifier(), model__max_depth=18, model__min_samples_leaf=6, model__random_state=1;, score=0.775 total time=   0.0s\n",
      "[CV 2/5] END model=DecisionTreeClassifier(), model__max_depth=18, model__min_samples_leaf=6, model__random_state=1;, score=0.913 total time=   0.1s\n",
      "[CV 3/5] END model=DecisionTreeClassifier(), model__max_depth=18, model__min_samples_leaf=6, model__random_state=1;, score=0.879 total time=   0.0s\n",
      "[CV 4/5] END model=DecisionTreeClassifier(), model__max_depth=18, model__min_samples_leaf=6, model__random_state=1;, score=0.901 total time=   0.0s\n",
      "[CV 5/5] END model=DecisionTreeClassifier(), model__max_depth=19, model__min_samples_leaf=7, model__random_state=1;, score=0.923 total time=   0.0s\n",
      "[CV 4/5] END model=DecisionTreeClassifier(), model__max_depth=19, model__min_samples_leaf=9, model__random_state=1;, score=0.877 total time=   0.0s\n",
      "[CV 3/5] END model=DecisionTreeClassifier(), model__max_depth=20, model__min_samples_leaf=3, model__random_state=1;, score=0.884 total time=   0.0s\n",
      "[CV 1/5] END model=DecisionTreeClassifier(), model__max_depth=2, model__min_samples_leaf=2, model__random_state=1;, score=0.698 total time=   0.0s\n",
      "[CV 5/5] END model=DecisionTreeClassifier(), model__max_depth=2, model__min_samples_leaf=7, model__random_state=1;, score=0.746 total time=   0.0s\n",
      "[CV 2/5] END model=DecisionTreeClassifier(), model__max_depth=3, model__min_samples_leaf=3, model__random_state=1;, score=0.797 total time=   0.0s\n",
      "[CV 3/5] END model=DecisionTreeClassifier(), model__max_depth=3, model__min_samples_leaf=4, model__random_state=1;, score=0.821 total time=   0.0s\n",
      "[CV 2/5] END model=DecisionTreeClassifier(), model__max_depth=3, model__min_samples_leaf=5, model__random_state=1;, score=0.797 total time=   0.0s\n",
      "[CV 3/5] END model=DecisionTreeClassifier(), model__max_depth=3, model__min_samples_leaf=6, model__random_state=1;, score=0.821 total time=   0.0s\n",
      "[CV 4/5] END model=DecisionTreeClassifier(), model__max_depth=3, model__min_samples_leaf=7, model__random_state=1;, score=0.809 total time=   0.0s\n",
      "[CV 1/5] END model=DecisionTreeClassifier(), model__max_depth=4, model__min_samples_leaf=2, model__random_state=1;, score=0.758 total time=   0.0s\n",
      "[CV 2/5] END model=DecisionTreeClassifier(), model__max_depth=4, model__min_samples_leaf=2, model__random_state=1;, score=0.833 total time=   0.0s\n",
      "[CV 5/5] END model=DecisionTreeClassifier(), model__max_depth=4, model__min_samples_leaf=4, model__random_state=1;, score=0.845 total time=   0.0s\n",
      "[CV 1/5] END model=DecisionTreeClassifier(), model__max_depth=4, model__min_samples_leaf=5, model__random_state=1;, score=0.763 total time=   0.0s\n",
      "[CV 5/5] END model=DecisionTreeClassifier(), model__max_depth=4, model__min_samples_leaf=8, model__random_state=1;, score=0.845 total time=   0.0s\n",
      "[CV 1/5] END model=DecisionTreeClassifier(), model__max_depth=4, model__min_samples_leaf=9, model__random_state=1;, score=0.749 total time=   0.0s\n",
      "[CV 3/5] END model=DecisionTreeClassifier(), model__max_depth=5, model__min_samples_leaf=4, model__random_state=1;, score=0.872 total time=   0.0s\n",
      "[CV 4/5] END model=DecisionTreeClassifier(), model__max_depth=5, model__min_samples_leaf=4, model__random_state=1;, score=0.879 total time=   0.0s\n",
      "[CV 5/5] END model=DecisionTreeClassifier(), model__max_depth=5, model__min_samples_leaf=4, model__random_state=1;, score=0.884 total time=   0.0s\n",
      "[CV 1/5] END model=DecisionTreeClassifier(), model__max_depth=5, model__min_samples_leaf=5, model__random_state=1;, score=0.790 total time=   0.0s\n",
      "[CV 4/5] END model=DecisionTreeClassifier(), model__max_depth=7, model__min_samples_leaf=3, model__random_state=1;, score=0.898 total time=   0.0s\n",
      "[CV 5/5] END model=DecisionTreeClassifier(), model__max_depth=7, model__min_samples_leaf=3, model__random_state=1;, score=0.908 total time=   0.0s\n",
      "[CV 1/5] END model=DecisionTreeClassifier(), model__max_depth=7, model__min_samples_leaf=4, model__random_state=1;, score=0.773 total time=   0.0s\n",
      "[CV 2/5] END model=DecisionTreeClassifier(), model__max_depth=7, model__min_samples_leaf=4, model__random_state=1;, score=0.894 total time=   0.0s\n",
      "[CV 4/5] END model=DecisionTreeClassifier(), model__max_depth=9, model__min_samples_leaf=3, model__random_state=1;, score=0.910 total time=   0.0s\n",
      "[CV 5/5] END model=DecisionTreeClassifier(), model__max_depth=9, model__min_samples_leaf=3, model__random_state=1;, score=0.915 total time=   0.0s\n",
      "[CV 1/5] END model=DecisionTreeClassifier(), model__max_depth=9, model__min_samples_leaf=4, model__random_state=1;, score=0.768 total time=   0.0s\n",
      "[CV 2/5] END model=DecisionTreeClassifier(), model__max_depth=9, model__min_samples_leaf=4, model__random_state=1;, score=0.901 total time=   0.0s\n",
      "[CV 3/5] END model=DecisionTreeClassifier(), model__max_depth=9, model__min_samples_leaf=4, model__random_state=1;, score=0.901 total time=   0.0s\n",
      "[CV 4/5] END model=DecisionTreeClassifier(), model__max_depth=9, model__min_samples_leaf=4, model__random_state=1;, score=0.918 total time=   0.0s\n",
      "[CV 5/5] END model=DecisionTreeClassifier(), model__max_depth=9, model__min_samples_leaf=4, model__random_state=1;, score=0.920 total time=   0.0s\n",
      "[CV 1/5] END model=DecisionTreeClassifier(), model__max_depth=9, model__min_samples_leaf=5, model__random_state=1;, score=0.778 total time=   0.0s\n",
      "[CV 5/5] END model=DecisionTreeClassifier(), model__max_depth=11, model__min_samples_leaf=6, model__random_state=1;, score=0.915 total time=   0.0s\n",
      "[CV 1/5] END model=DecisionTreeClassifier(), model__max_depth=11, model__min_samples_leaf=7, model__random_state=1;, score=0.771 total time=   0.0s\n",
      "[CV 2/5] END model=DecisionTreeClassifier(), model__max_depth=11, model__min_samples_leaf=7, model__random_state=1;, score=0.911 total time=   0.0s\n",
      "[CV 3/5] END model=DecisionTreeClassifier(), model__max_depth=11, model__min_samples_leaf=7, model__random_state=1;, score=0.865 total time=   0.0s\n",
      "[CV 4/5] END model=DecisionTreeClassifier(), model__max_depth=11, model__min_samples_leaf=7, model__random_state=1;, score=0.889 total time=   0.0s\n",
      "[CV 5/5] END model=DecisionTreeClassifier(), model__max_depth=11, model__min_samples_leaf=7, model__random_state=1;, score=0.923 total time=   0.0s\n",
      "[CV 1/5] END model=DecisionTreeClassifier(), model__max_depth=11, model__min_samples_leaf=8, model__random_state=1;, score=0.754 total time=   0.0s\n",
      "[CV 2/5] END model=DecisionTreeClassifier(), model__max_depth=11, model__min_samples_leaf=8, model__random_state=1;, score=0.896 total time=   0.0s\n",
      "[CV 4/5] END model=DecisionTreeClassifier(), model__max_depth=14, model__min_samples_leaf=3, model__random_state=1;, score=0.906 total time=   0.0s\n",
      "[CV 5/5] END model=DecisionTreeClassifier(), model__max_depth=14, model__min_samples_leaf=3, model__random_state=1;, score=0.908 total time=   0.0s\n",
      "[CV 1/5] END model=DecisionTreeClassifier(), model__max_depth=14, model__min_samples_leaf=4, model__random_state=1;, score=0.773 total time=   0.0s\n",
      "[CV 2/5] END model=DecisionTreeClassifier(), model__max_depth=14, model__min_samples_leaf=4, model__random_state=1;, score=0.899 total time=   0.0s\n",
      "[CV 3/5] END model=DecisionTreeClassifier(), model__max_depth=14, model__min_samples_leaf=4, model__random_state=1;, score=0.901 total time=   0.0s\n",
      "[CV 4/5] END model=DecisionTreeClassifier(), model__max_depth=14, model__min_samples_leaf=4, model__random_state=1;, score=0.925 total time=   0.0s\n",
      "[CV 5/5] END model=DecisionTreeClassifier(), model__max_depth=14, model__min_samples_leaf=4, model__random_state=1;, score=0.923 total time=   0.0s\n",
      "[CV 1/5] END model=DecisionTreeClassifier(), model__max_depth=14, model__min_samples_leaf=5, model__random_state=1;, score=0.771 total time=   0.0s\n",
      "[CV 5/5] END model=DecisionTreeClassifier(), model__max_depth=16, model__min_samples_leaf=6, model__random_state=1;, score=0.915 total time=   0.0s\n",
      "[CV 1/5] END model=DecisionTreeClassifier(), model__max_depth=16, model__min_samples_leaf=7, model__random_state=1;, score=0.771 total time=   0.0s\n",
      "[CV 2/5] END model=DecisionTreeClassifier(), model__max_depth=16, model__min_samples_leaf=7, model__random_state=1;, score=0.911 total time=   0.0s\n",
      "[CV 3/5] END model=DecisionTreeClassifier(), model__max_depth=16, model__min_samples_leaf=7, model__random_state=1;, score=0.865 total time=   0.0s\n",
      "[CV 4/5] END model=DecisionTreeClassifier(), model__max_depth=16, model__min_samples_leaf=7, model__random_state=1;, score=0.889 total time=   0.0s\n",
      "[CV 5/5] END model=DecisionTreeClassifier(), model__max_depth=16, model__min_samples_leaf=7, model__random_state=1;, score=0.923 total time=   0.0s\n",
      "[CV 1/5] END model=DecisionTreeClassifier(), model__max_depth=16, model__min_samples_leaf=8, model__random_state=1;, score=0.754 total time=   0.0s\n",
      "[CV 2/5] END model=DecisionTreeClassifier(), model__max_depth=16, model__min_samples_leaf=8, model__random_state=1;, score=0.896 total time=   0.0s\n",
      "[CV 1/5] END model=DecisionTreeClassifier(), model__max_depth=19, model__min_samples_leaf=2, model__random_state=1;, score=0.785 total time=   0.0s\n",
      "[CV 2/5] END model=DecisionTreeClassifier(), model__max_depth=19, model__min_samples_leaf=2, model__random_state=1;, score=0.906 total time=   0.0s\n",
      "[CV 3/5] END model=DecisionTreeClassifier(), model__max_depth=19, model__min_samples_leaf=2, model__random_state=1;, score=0.891 total time=   0.0s\n",
      "[CV 4/5] END model=DecisionTreeClassifier(), model__max_depth=19, model__min_samples_leaf=2, model__random_state=1;, score=0.906 total time=   0.0s\n",
      "[CV 5/5] END model=DecisionTreeClassifier(), model__max_depth=19, model__min_samples_leaf=2, model__random_state=1;, score=0.915 total time=   0.0s\n",
      "[CV 1/5] END model=DecisionTreeClassifier(), model__max_depth=19, model__min_samples_leaf=3, model__random_state=1;, score=0.766 total time=   0.0s\n",
      "[CV 2/5] END model=DecisionTreeClassifier(), model__max_depth=19, model__min_samples_leaf=3, model__random_state=1;, score=0.891 total time=   0.0s\n",
      "[CV 3/5] END model=DecisionTreeClassifier(), model__max_depth=19, model__min_samples_leaf=3, model__random_state=1;, score=0.884 total time=   0.0s\n",
      "[CV 2/5] END model=DecisionTreeClassifier(), model__max_depth=20, model__min_samples_leaf=3, model__random_state=1;, score=0.891 total time=   0.0s\n",
      "[CV 1/5] END model=DecisionTreeClassifier(), model__max_depth=20, model__min_samples_leaf=5, model__random_state=1;, score=0.771 total time=   0.0s\n",
      "[CV 1/5] END model=DecisionTreeClassifier(), model__max_depth=20, model__min_samples_leaf=7, model__random_state=1;, score=0.771 total time=   0.0s\n",
      "[CV 4/5] END model=DecisionTreeClassifier(), model__max_depth=2, model__min_samples_leaf=2, model__random_state=1;, score=0.746 total time=   0.0s\n",
      "[CV 3/5] END model=DecisionTreeClassifier(), model__max_depth=3, model__min_samples_leaf=3, model__random_state=1;, score=0.821 total time=   0.0s\n",
      "[CV 5/5] END model=DecisionTreeClassifier(), model__max_depth=3, model__min_samples_leaf=4, model__random_state=1;, score=0.835 total time=   0.0s\n",
      "[CV 3/5] END model=DecisionTreeClassifier(), model__max_depth=3, model__min_samples_leaf=8, model__random_state=1;, score=0.821 total time=   0.0s\n",
      "[CV 4/5] END model=DecisionTreeClassifier(), model__max_depth=3, model__min_samples_leaf=8, model__random_state=1;, score=0.809 total time=   0.0s\n",
      "[CV 4/5] END model=DecisionTreeClassifier(), model__max_depth=4, model__min_samples_leaf=3, model__random_state=1;, score=0.855 total time=   0.0s\n",
      "[CV 5/5] END model=DecisionTreeClassifier(), model__max_depth=4, model__min_samples_leaf=3, model__random_state=1;, score=0.845 total time=   0.0s\n",
      "[CV 3/5] END model=DecisionTreeClassifier(), model__max_depth=4, model__min_samples_leaf=6, model__random_state=1;, score=0.848 total time=   0.0s\n",
      "[CV 4/5] END model=DecisionTreeClassifier(), model__max_depth=4, model__min_samples_leaf=6, model__random_state=1;, score=0.855 total time=   0.0s\n",
      "[CV 1/5] END model=DecisionTreeClassifier(), model__max_depth=6, model__min_samples_leaf=2, model__random_state=1;, score=0.761 total time=   0.0s\n",
      "[CV 2/5] END model=DecisionTreeClassifier(), model__max_depth=6, model__min_samples_leaf=2, model__random_state=1;, score=0.908 total time=   0.0s\n",
      "[CV 3/5] END model=DecisionTreeClassifier(), model__max_depth=6, model__min_samples_leaf=2, model__random_state=1;, score=0.882 total time=   0.0s\n",
      "[CV 4/5] END model=DecisionTreeClassifier(), model__max_depth=6, model__min_samples_leaf=2, model__random_state=1;, score=0.893 total time=   0.0s\n",
      "[CV 2/5] END model=DecisionTreeClassifier(), model__max_depth=6, model__min_samples_leaf=9, model__random_state=1;, score=0.896 total time=   0.0s\n",
      "[CV 3/5] END model=DecisionTreeClassifier(), model__max_depth=6, model__min_samples_leaf=9, model__random_state=1;, score=0.872 total time=   0.0s\n",
      "[CV 4/5] END model=DecisionTreeClassifier(), model__max_depth=6, model__min_samples_leaf=9, model__random_state=1;, score=0.889 total time=   0.0s\n",
      "[CV 5/5] END model=DecisionTreeClassifier(), model__max_depth=6, model__min_samples_leaf=9, model__random_state=1;, score=0.906 total time=   0.0s\n",
      "[CV 5/5] END model=DecisionTreeClassifier(), model__max_depth=8, model__min_samples_leaf=6, model__random_state=1;, score=0.915 total time=   0.0s\n",
      "[CV 1/5] END model=DecisionTreeClassifier(), model__max_depth=8, model__min_samples_leaf=7, model__random_state=1;, score=0.775 total time=   0.0s\n",
      "[CV 2/5] END model=DecisionTreeClassifier(), model__max_depth=8, model__min_samples_leaf=7, model__random_state=1;, score=0.911 total time=   0.0s\n",
      "[CV 3/5] END model=DecisionTreeClassifier(), model__max_depth=8, model__min_samples_leaf=7, model__random_state=1;, score=0.862 total time=   0.0s\n",
      "[CV 4/5] END model=DecisionTreeClassifier(), model__max_depth=8, model__min_samples_leaf=7, model__random_state=1;, score=0.879 total time=   0.0s\n",
      "[CV 5/5] END model=DecisionTreeClassifier(), model__max_depth=8, model__min_samples_leaf=7, model__random_state=1;, score=0.913 total time=   0.0s\n",
      "[CV 1/5] END model=DecisionTreeClassifier(), model__max_depth=8, model__min_samples_leaf=8, model__random_state=1;, score=0.754 total time=   0.0s\n",
      "[CV 2/5] END model=DecisionTreeClassifier(), model__max_depth=8, model__min_samples_leaf=8, model__random_state=1;, score=0.896 total time=   0.0s\n",
      "[CV 3/5] END model=DecisionTreeClassifier(), model__max_depth=10, model__min_samples_leaf=8, model__random_state=1;, score=0.862 total time=   0.0s\n",
      "[CV 4/5] END model=DecisionTreeClassifier(), model__max_depth=10, model__min_samples_leaf=8, model__random_state=1;, score=0.889 total time=   0.0s\n",
      "[CV 5/5] END model=DecisionTreeClassifier(), model__max_depth=10, model__min_samples_leaf=8, model__random_state=1;, score=0.908 total time=   0.0s\n",
      "[CV 1/5] END model=DecisionTreeClassifier(), model__max_depth=10, model__min_samples_leaf=9, model__random_state=1;, score=0.756 total time=   0.0s\n",
      "[CV 2/5] END model=DecisionTreeClassifier(), model__max_depth=10, model__min_samples_leaf=9, model__random_state=1;, score=0.901 total time=   0.0s\n",
      "[CV 3/5] END model=DecisionTreeClassifier(), model__max_depth=10, model__min_samples_leaf=9, model__random_state=1;, score=0.867 total time=   0.0s\n",
      "[CV 4/5] END model=DecisionTreeClassifier(), model__max_depth=10, model__min_samples_leaf=9, model__random_state=1;, score=0.877 total time=   0.0s\n",
      "[CV 5/5] END model=DecisionTreeClassifier(), model__max_depth=10, model__min_samples_leaf=9, model__random_state=1;, score=0.913 total time=   0.0s\n",
      "[CV 4/5] END model=DecisionTreeClassifier(), model__max_depth=13, model__min_samples_leaf=3, model__random_state=1;, score=0.906 total time=   0.0s\n",
      "[CV 5/5] END model=DecisionTreeClassifier(), model__max_depth=13, model__min_samples_leaf=3, model__random_state=1;, score=0.908 total time=   0.0s\n",
      "[CV 1/5] END model=DecisionTreeClassifier(), model__max_depth=13, model__min_samples_leaf=4, model__random_state=1;, score=0.773 total time=   0.0s\n",
      "[CV 2/5] END model=DecisionTreeClassifier(), model__max_depth=13, model__min_samples_leaf=4, model__random_state=1;, score=0.899 total time=   0.0s\n",
      "[CV 3/5] END model=DecisionTreeClassifier(), model__max_depth=13, model__min_samples_leaf=4, model__random_state=1;, score=0.901 total time=   0.0s\n",
      "[CV 4/5] END model=DecisionTreeClassifier(), model__max_depth=13, model__min_samples_leaf=4, model__random_state=1;, score=0.925 total time=   0.0s\n",
      "[CV 5/5] END model=DecisionTreeClassifier(), model__max_depth=13, model__min_samples_leaf=4, model__random_state=1;, score=0.923 total time=   0.0s\n",
      "[CV 1/5] END model=DecisionTreeClassifier(), model__max_depth=13, model__min_samples_leaf=5, model__random_state=1;, score=0.771 total time=   0.0s\n",
      "[CV 2/5] END model=DecisionTreeClassifier(), model__max_depth=15, model__min_samples_leaf=5, model__random_state=1;, score=0.906 total time=   0.0s\n",
      "[CV 3/5] END model=DecisionTreeClassifier(), model__max_depth=15, model__min_samples_leaf=5, model__random_state=1;, score=0.884 total time=   0.0s\n",
      "[CV 4/5] END model=DecisionTreeClassifier(), model__max_depth=15, model__min_samples_leaf=5, model__random_state=1;, score=0.918 total time=   0.0s\n",
      "[CV 5/5] END model=DecisionTreeClassifier(), model__max_depth=15, model__min_samples_leaf=5, model__random_state=1;, score=0.913 total time=   0.0s\n",
      "[CV 1/5] END model=DecisionTreeClassifier(), model__max_depth=15, model__min_samples_leaf=6, model__random_state=1;, score=0.775 total time=   0.0s\n",
      "[CV 2/5] END model=DecisionTreeClassifier(), model__max_depth=15, model__min_samples_leaf=6, model__random_state=1;, score=0.913 total time=   0.0s\n",
      "[CV 3/5] END model=DecisionTreeClassifier(), model__max_depth=15, model__min_samples_leaf=6, model__random_state=1;, score=0.879 total time=   0.0s\n",
      "[CV 4/5] END model=DecisionTreeClassifier(), model__max_depth=15, model__min_samples_leaf=6, model__random_state=1;, score=0.901 total time=   0.0s\n",
      "[CV 4/5] END model=DecisionTreeClassifier(), model__max_depth=18, model__min_samples_leaf=3, model__random_state=1;, score=0.906 total time=   0.0s\n",
      "[CV 5/5] END model=DecisionTreeClassifier(), model__max_depth=18, model__min_samples_leaf=3, model__random_state=1;, score=0.908 total time=   0.0s\n",
      "[CV 1/5] END model=DecisionTreeClassifier(), model__max_depth=18, model__min_samples_leaf=4, model__random_state=1;, score=0.773 total time=   0.0s\n",
      "[CV 2/5] END model=DecisionTreeClassifier(), model__max_depth=18, model__min_samples_leaf=4, model__random_state=1;, score=0.899 total time=   0.0s\n",
      "[CV 3/5] END model=DecisionTreeClassifier(), model__max_depth=18, model__min_samples_leaf=4, model__random_state=1;, score=0.901 total time=   0.0s\n",
      "[CV 4/5] END model=DecisionTreeClassifier(), model__max_depth=18, model__min_samples_leaf=4, model__random_state=1;, score=0.925 total time=   0.0s\n",
      "[CV 5/5] END model=DecisionTreeClassifier(), model__max_depth=18, model__min_samples_leaf=4, model__random_state=1;, score=0.923 total time=   0.0s\n",
      "[CV 1/5] END model=DecisionTreeClassifier(), model__max_depth=18, model__min_samples_leaf=5, model__random_state=1;, score=0.771 total time=   0.0s\n",
      "[CV 4/5] END model=DecisionTreeClassifier(), model__max_depth=19, model__min_samples_leaf=6, model__random_state=1;, score=0.901 total time=   0.0s\n",
      "[CV 3/5] END model=DecisionTreeClassifier(), model__max_depth=19, model__min_samples_leaf=8, model__random_state=1;, score=0.860 total time=   0.0s\n",
      "[CV 2/5] END model=DecisionTreeClassifier(), model__max_depth=20, model__min_samples_leaf=2, model__random_state=1;, score=0.906 total time=   0.0s\n",
      "[CV 1/5] END model=DecisionTreeClassifier(), model__max_depth=20, model__min_samples_leaf=4, model__random_state=1;, score=0.773 total time=   0.0s\n",
      "[CV 1/5] END model=DecisionTreeClassifier(), model__max_depth=20, model__min_samples_leaf=6, model__random_state=1;, score=0.775 total time=   0.0s\n",
      "[CV 2/5] END model=DecisionTreeClassifier(), model__max_depth=20, model__min_samples_leaf=8, model__random_state=1;, score=0.896 total time=   0.0s\n",
      "[CV 4/5] END model=DecisionTreeClassifier(), model__max_depth=2, model__min_samples_leaf=3, model__random_state=1;, score=0.746 total time=   0.0s\n",
      "[CV 1/5] END model=DecisionTreeClassifier(), model__max_depth=2, model__min_samples_leaf=5, model__random_state=1;, score=0.698 total time=   0.0s\n",
      "[CV 3/5] END model=DecisionTreeClassifier(), model__max_depth=2, model__min_samples_leaf=6, model__random_state=1;, score=0.739 total time=   0.0s\n",
      "[CV 5/5] END model=DecisionTreeClassifier(), model__max_depth=2, model__min_samples_leaf=8, model__random_state=1;, score=0.746 total time=   0.0s\n",
      "[CV 1/5] END model=DecisionTreeClassifier(), model__max_depth=3, model__min_samples_leaf=2, model__random_state=1;, score=0.751 total time=   0.0s\n",
      "[CV 1/5] END model=DecisionTreeClassifier(), model__max_depth=3, model__min_samples_leaf=3, model__random_state=1;, score=0.751 total time=   0.0s\n",
      "[CV 2/5] END model=DecisionTreeClassifier(), model__max_depth=3, model__min_samples_leaf=4, model__random_state=1;, score=0.797 total time=   0.0s\n",
      "[CV 1/5] END model=DecisionTreeClassifier(), model__max_depth=3, model__min_samples_leaf=6, model__random_state=1;, score=0.751 total time=   0.0s\n",
      "[CV 2/5] END model=DecisionTreeClassifier(), model__max_depth=3, model__min_samples_leaf=7, model__random_state=1;, score=0.797 total time=   0.0s\n",
      "[CV 1/5] END model=DecisionTreeClassifier(), model__max_depth=3, model__min_samples_leaf=8, model__random_state=1;, score=0.751 total time=   0.0s\n",
      "[CV 4/5] END model=DecisionTreeClassifier(), model__max_depth=3, model__min_samples_leaf=9, model__random_state=1;, score=0.809 total time=   0.0s\n",
      "[CV 5/5] END model=DecisionTreeClassifier(), model__max_depth=3, model__min_samples_leaf=9, model__random_state=1;, score=0.835 total time=   0.0s\n",
      "[CV 3/5] END model=DecisionTreeClassifier(), model__max_depth=4, model__min_samples_leaf=4, model__random_state=1;, score=0.848 total time=   0.0s\n",
      "[CV 4/5] END model=DecisionTreeClassifier(), model__max_depth=4, model__min_samples_leaf=4, model__random_state=1;, score=0.855 total time=   0.0s\n",
      "[CV 1/5] END model=DecisionTreeClassifier(), model__max_depth=4, model__min_samples_leaf=8, model__random_state=1;, score=0.749 total time=   0.0s\n",
      "[CV 2/5] END model=DecisionTreeClassifier(), model__max_depth=4, model__min_samples_leaf=8, model__random_state=1;, score=0.829 total time=   0.0s\n",
      "[CV 2/5] END model=DecisionTreeClassifier(), model__max_depth=5, model__min_samples_leaf=9, model__random_state=1;, score=0.877 total time=   0.0s\n",
      "[CV 3/5] END model=DecisionTreeClassifier(), model__max_depth=5, model__min_samples_leaf=9, model__random_state=1;, score=0.870 total time=   0.0s\n",
      "[CV 4/5] END model=DecisionTreeClassifier(), model__max_depth=5, model__min_samples_leaf=9, model__random_state=1;, score=0.869 total time=   0.0s\n",
      "[CV 5/5] END model=DecisionTreeClassifier(), model__max_depth=5, model__min_samples_leaf=9, model__random_state=1;, score=0.889 total time=   0.0s\n",
      "[CV 4/5] END model=DecisionTreeClassifier(), model__max_depth=6, model__min_samples_leaf=7, model__random_state=1;, score=0.896 total time=   0.0s\n",
      "[CV 5/5] END model=DecisionTreeClassifier(), model__max_depth=6, model__min_samples_leaf=7, model__random_state=1;, score=0.898 total time=   0.0s\n",
      "[CV 1/5] END model=DecisionTreeClassifier(), model__max_depth=6, model__min_samples_leaf=8, model__random_state=1;, score=0.758 total time=   0.0s\n",
      "[CV 2/5] END model=DecisionTreeClassifier(), model__max_depth=6, model__min_samples_leaf=8, model__random_state=1;, score=0.884 total time=   0.0s\n",
      "[CV 2/5] END model=DecisionTreeClassifier(), model__max_depth=8, model__min_samples_leaf=5, model__random_state=1;, score=0.894 total time=   0.0s\n",
      "[CV 3/5] END model=DecisionTreeClassifier(), model__max_depth=8, model__min_samples_leaf=5, model__random_state=1;, score=0.882 total time=   0.0s\n",
      "[CV 4/5] END model=DecisionTreeClassifier(), model__max_depth=8, model__min_samples_leaf=5, model__random_state=1;, score=0.910 total time=   0.0s\n",
      "[CV 5/5] END model=DecisionTreeClassifier(), model__max_depth=8, model__min_samples_leaf=5, model__random_state=1;, score=0.910 total time=   0.0s\n",
      "[CV 1/5] END model=DecisionTreeClassifier(), model__max_depth=8, model__min_samples_leaf=6, model__random_state=1;, score=0.775 total time=   0.0s\n",
      "[CV 2/5] END model=DecisionTreeClassifier(), model__max_depth=8, model__min_samples_leaf=6, model__random_state=1;, score=0.906 total time=   0.0s\n",
      "[CV 3/5] END model=DecisionTreeClassifier(), model__max_depth=8, model__min_samples_leaf=6, model__random_state=1;, score=0.874 total time=   0.0s\n",
      "[CV 4/5] END model=DecisionTreeClassifier(), model__max_depth=8, model__min_samples_leaf=6, model__random_state=1;, score=0.908 total time=   0.0s\n",
      "[CV 1/5] END model=DecisionTreeClassifier(), model__max_depth=11, model__min_samples_leaf=2, model__random_state=1;, score=0.785 total time=   0.0s\n",
      "[CV 2/5] END model=DecisionTreeClassifier(), model__max_depth=11, model__min_samples_leaf=2, model__random_state=1;, score=0.906 total time=   0.0s\n",
      "[CV 3/5] END model=DecisionTreeClassifier(), model__max_depth=11, model__min_samples_leaf=2, model__random_state=1;, score=0.901 total time=   0.0s\n",
      "[CV 4/5] END model=DecisionTreeClassifier(), model__max_depth=11, model__min_samples_leaf=2, model__random_state=1;, score=0.903 total time=   0.0s\n",
      "[CV 5/5] END model=DecisionTreeClassifier(), model__max_depth=11, model__min_samples_leaf=2, model__random_state=1;, score=0.915 total time=   0.0s\n",
      "[CV 1/5] END model=DecisionTreeClassifier(), model__max_depth=11, model__min_samples_leaf=3, model__random_state=1;, score=0.778 total time=   0.0s\n",
      "[CV 2/5] END model=DecisionTreeClassifier(), model__max_depth=11, model__min_samples_leaf=3, model__random_state=1;, score=0.891 total time=   0.0s\n",
      "[CV 3/5] END model=DecisionTreeClassifier(), model__max_depth=11, model__min_samples_leaf=3, model__random_state=1;, score=0.884 total time=   0.0s\n",
      "[CV 2/5] END model=DecisionTreeClassifier(), model__max_depth=13, model__min_samples_leaf=5, model__random_state=1;, score=0.906 total time=   0.0s\n",
      "[CV 3/5] END model=DecisionTreeClassifier(), model__max_depth=13, model__min_samples_leaf=5, model__random_state=1;, score=0.884 total time=   0.0s\n",
      "[CV 4/5] END model=DecisionTreeClassifier(), model__max_depth=13, model__min_samples_leaf=5, model__random_state=1;, score=0.918 total time=   0.0s\n",
      "[CV 5/5] END model=DecisionTreeClassifier(), model__max_depth=13, model__min_samples_leaf=5, model__random_state=1;, score=0.913 total time=   0.0s\n",
      "[CV 1/5] END model=DecisionTreeClassifier(), model__max_depth=13, model__min_samples_leaf=6, model__random_state=1;, score=0.775 total time=   0.0s\n",
      "[CV 2/5] END model=DecisionTreeClassifier(), model__max_depth=13, model__min_samples_leaf=6, model__random_state=1;, score=0.913 total time=   0.0s\n",
      "[CV 3/5] END model=DecisionTreeClassifier(), model__max_depth=13, model__min_samples_leaf=6, model__random_state=1;, score=0.879 total time=   0.0s\n",
      "[CV 4/5] END model=DecisionTreeClassifier(), model__max_depth=13, model__min_samples_leaf=6, model__random_state=1;, score=0.901 total time=   0.0s\n",
      "[CV 3/5] END model=DecisionTreeClassifier(), model__max_depth=15, model__min_samples_leaf=8, model__random_state=1;, score=0.860 total time=   0.0s\n",
      "[CV 4/5] END model=DecisionTreeClassifier(), model__max_depth=15, model__min_samples_leaf=8, model__random_state=1;, score=0.889 total time=   0.0s\n",
      "[CV 5/5] END model=DecisionTreeClassifier(), model__max_depth=15, model__min_samples_leaf=8, model__random_state=1;, score=0.908 total time=   0.0s\n",
      "[CV 1/5] END model=DecisionTreeClassifier(), model__max_depth=15, model__min_samples_leaf=9, model__random_state=1;, score=0.756 total time=   0.0s\n",
      "[CV 2/5] END model=DecisionTreeClassifier(), model__max_depth=15, model__min_samples_leaf=9, model__random_state=1;, score=0.901 total time=   0.0s\n",
      "[CV 3/5] END model=DecisionTreeClassifier(), model__max_depth=15, model__min_samples_leaf=9, model__random_state=1;, score=0.867 total time=   0.0s\n",
      "[CV 4/5] END model=DecisionTreeClassifier(), model__max_depth=15, model__min_samples_leaf=9, model__random_state=1;, score=0.877 total time=   0.0s\n",
      "[CV 5/5] END model=DecisionTreeClassifier(), model__max_depth=15, model__min_samples_leaf=9, model__random_state=1;, score=0.913 total time=   0.0s\n",
      "[CV 3/5] END model=DecisionTreeClassifier(), model__max_depth=17, model__min_samples_leaf=8, model__random_state=1;, score=0.860 total time=   0.0s\n",
      "[CV 4/5] END model=DecisionTreeClassifier(), model__max_depth=17, model__min_samples_leaf=8, model__random_state=1;, score=0.889 total time=   0.0s\n",
      "[CV 5/5] END model=DecisionTreeClassifier(), model__max_depth=17, model__min_samples_leaf=8, model__random_state=1;, score=0.908 total time=   0.0s\n",
      "[CV 1/5] END model=DecisionTreeClassifier(), model__max_depth=17, model__min_samples_leaf=9, model__random_state=1;, score=0.756 total time=   0.0s\n",
      "[CV 2/5] END model=DecisionTreeClassifier(), model__max_depth=17, model__min_samples_leaf=9, model__random_state=1;, score=0.901 total time=   0.0s\n",
      "[CV 3/5] END model=DecisionTreeClassifier(), model__max_depth=17, model__min_samples_leaf=9, model__random_state=1;, score=0.867 total time=   0.0s\n",
      "[CV 4/5] END model=DecisionTreeClassifier(), model__max_depth=17, model__min_samples_leaf=9, model__random_state=1;, score=0.877 total time=   0.0s\n",
      "[CV 5/5] END model=DecisionTreeClassifier(), model__max_depth=17, model__min_samples_leaf=9, model__random_state=1;, score=0.913 total time=   0.0s\n",
      "[CV 1/5] END model=DecisionTreeClassifier(), model__max_depth=19, model__min_samples_leaf=6, model__random_state=1;, score=0.775 total time=   0.0s\n",
      "[CV 4/5] END model=DecisionTreeClassifier(), model__max_depth=19, model__min_samples_leaf=8, model__random_state=1;, score=0.889 total time=   0.0s\n",
      "[CV 5/5] END model=DecisionTreeClassifier(), model__max_depth=20, model__min_samples_leaf=2, model__random_state=1;, score=0.915 total time=   0.0s\n",
      "[CV 4/5] END model=DecisionTreeClassifier(), model__max_depth=20, model__min_samples_leaf=4, model__random_state=1;, score=0.925 total time=   0.0s\n",
      "[CV 4/5] END model=DecisionTreeClassifier(), model__max_depth=20, model__min_samples_leaf=6, model__random_state=1;, score=0.901 total time=   0.0s\n",
      "[CV 3/5] END model=DecisionTreeClassifier(), model__max_depth=20, model__min_samples_leaf=8, model__random_state=1;, score=0.860 total time=   0.0s\n",
      "[CV 2/5] END model=DecisionTreeClassifier(), model__max_depth=2, model__min_samples_leaf=4, model__random_state=1;, score=0.778 total time=   0.0s\n",
      "[CV 3/5] END model=DecisionTreeClassifier(), model__max_depth=2, model__min_samples_leaf=5, model__random_state=1;, score=0.739 total time=   0.0s\n",
      "[CV 4/5] END model=DecisionTreeClassifier(), model__max_depth=2, model__min_samples_leaf=7, model__random_state=1;, score=0.746 total time=   0.0s\n",
      "[CV 4/5] END model=DecisionTreeClassifier(), model__max_depth=2, model__min_samples_leaf=9, model__random_state=1;, score=0.746 total time=   0.0s\n",
      "[CV 4/5] END model=DecisionTreeClassifier(), model__max_depth=3, model__min_samples_leaf=2, model__random_state=1;, score=0.809 total time=   0.0s\n",
      "[CV 4/5] END model=DecisionTreeClassifier(), model__max_depth=3, model__min_samples_leaf=5, model__random_state=1;, score=0.809 total time=   0.0s\n",
      "[CV 2/5] END model=DecisionTreeClassifier(), model__max_depth=4, model__min_samples_leaf=3, model__random_state=1;, score=0.833 total time=   0.0s\n",
      "[CV 3/5] END model=DecisionTreeClassifier(), model__max_depth=4, model__min_samples_leaf=3, model__random_state=1;, score=0.848 total time=   0.0s\n",
      "[CV 1/5] END model=DecisionTreeClassifier(), model__max_depth=4, model__min_samples_leaf=6, model__random_state=1;, score=0.763 total time=   0.0s\n",
      "[CV 2/5] END model=DecisionTreeClassifier(), model__max_depth=4, model__min_samples_leaf=6, model__random_state=1;, score=0.836 total time=   0.0s\n",
      "[CV 5/5] END model=DecisionTreeClassifier(), model__max_depth=5, model__min_samples_leaf=2, model__random_state=1;, score=0.879 total time=   0.0s\n",
      "[CV 1/5] END model=DecisionTreeClassifier(), model__max_depth=5, model__min_samples_leaf=3, model__random_state=1;, score=0.785 total time=   0.0s\n",
      "[CV 2/5] END model=DecisionTreeClassifier(), model__max_depth=5, model__min_samples_leaf=3, model__random_state=1;, score=0.877 total time=   0.0s\n",
      "[CV 3/5] END model=DecisionTreeClassifier(), model__max_depth=5, model__min_samples_leaf=3, model__random_state=1;, score=0.870 total time=   0.0s\n",
      "[CV 3/5] END model=DecisionTreeClassifier(), model__max_depth=6, model__min_samples_leaf=4, model__random_state=1;, score=0.889 total time=   0.0s\n",
      "[CV 4/5] END model=DecisionTreeClassifier(), model__max_depth=6, model__min_samples_leaf=4, model__random_state=1;, score=0.901 total time=   0.0s\n",
      "[CV 5/5] END model=DecisionTreeClassifier(), model__max_depth=6, model__min_samples_leaf=4, model__random_state=1;, score=0.898 total time=   0.0s\n",
      "[CV 1/5] END model=DecisionTreeClassifier(), model__max_depth=6, model__min_samples_leaf=5, model__random_state=1;, score=0.756 total time=   0.0s\n",
      "[CV 5/5] END model=DecisionTreeClassifier(), model__max_depth=7, model__min_samples_leaf=6, model__random_state=1;, score=0.903 total time=   0.0s\n",
      "[CV 1/5] END model=DecisionTreeClassifier(), model__max_depth=7, model__min_samples_leaf=7, model__random_state=1;, score=0.775 total time=   0.0s\n",
      "[CV 2/5] END model=DecisionTreeClassifier(), model__max_depth=7, model__min_samples_leaf=7, model__random_state=1;, score=0.896 total time=   0.0s\n",
      "[CV 3/5] END model=DecisionTreeClassifier(), model__max_depth=7, model__min_samples_leaf=7, model__random_state=1;, score=0.882 total time=   0.0s\n",
      "[CV 4/5] END model=DecisionTreeClassifier(), model__max_depth=7, model__min_samples_leaf=7, model__random_state=1;, score=0.884 total time=   0.0s\n",
      "[CV 5/5] END model=DecisionTreeClassifier(), model__max_depth=7, model__min_samples_leaf=7, model__random_state=1;, score=0.906 total time=   0.0s\n",
      "[CV 1/5] END model=DecisionTreeClassifier(), model__max_depth=7, model__min_samples_leaf=8, model__random_state=1;, score=0.749 total time=   0.0s\n",
      "[CV 2/5] END model=DecisionTreeClassifier(), model__max_depth=7, model__min_samples_leaf=8, model__random_state=1;, score=0.891 total time=   0.0s\n",
      "[CV 1/5] END model=DecisionTreeClassifier(), model__max_depth=10, model__min_samples_leaf=2, model__random_state=1;, score=0.792 total time=   0.0s\n",
      "[CV 2/5] END model=DecisionTreeClassifier(), model__max_depth=10, model__min_samples_leaf=2, model__random_state=1;, score=0.906 total time=   0.0s\n",
      "[CV 3/5] END model=DecisionTreeClassifier(), model__max_depth=10, model__min_samples_leaf=2, model__random_state=1;, score=0.901 total time=   0.0s\n",
      "[CV 4/5] END model=DecisionTreeClassifier(), model__max_depth=10, model__min_samples_leaf=2, model__random_state=1;, score=0.915 total time=   0.0s\n",
      "[CV 5/5] END model=DecisionTreeClassifier(), model__max_depth=10, model__min_samples_leaf=2, model__random_state=1;, score=0.915 total time=   0.0s\n",
      "[CV 1/5] END model=DecisionTreeClassifier(), model__max_depth=10, model__min_samples_leaf=3, model__random_state=1;, score=0.785 total time=   0.0s\n",
      "[CV 2/5] END model=DecisionTreeClassifier(), model__max_depth=10, model__min_samples_leaf=3, model__random_state=1;, score=0.891 total time=   0.0s\n",
      "[CV 3/5] END model=DecisionTreeClassifier(), model__max_depth=10, model__min_samples_leaf=3, model__random_state=1;, score=0.884 total time=   0.0s\n",
      "[CV 2/5] END model=DecisionTreeClassifier(), model__max_depth=12, model__min_samples_leaf=5, model__random_state=1;, score=0.906 total time=   0.0s\n",
      "[CV 3/5] END model=DecisionTreeClassifier(), model__max_depth=12, model__min_samples_leaf=5, model__random_state=1;, score=0.884 total time=   0.0s\n",
      "[CV 4/5] END model=DecisionTreeClassifier(), model__max_depth=12, model__min_samples_leaf=5, model__random_state=1;, score=0.918 total time=   0.0s\n",
      "[CV 5/5] END model=DecisionTreeClassifier(), model__max_depth=12, model__min_samples_leaf=5, model__random_state=1;, score=0.913 total time=   0.0s\n",
      "[CV 1/5] END model=DecisionTreeClassifier(), model__max_depth=12, model__min_samples_leaf=6, model__random_state=1;, score=0.775 total time=   0.0s\n",
      "[CV 2/5] END model=DecisionTreeClassifier(), model__max_depth=12, model__min_samples_leaf=6, model__random_state=1;, score=0.913 total time=   0.0s\n",
      "[CV 3/5] END model=DecisionTreeClassifier(), model__max_depth=12, model__min_samples_leaf=6, model__random_state=1;, score=0.879 total time=   0.0s\n",
      "[CV 4/5] END model=DecisionTreeClassifier(), model__max_depth=12, model__min_samples_leaf=6, model__random_state=1;, score=0.901 total time=   0.0s\n",
      "[CV 3/5] END model=DecisionTreeClassifier(), model__max_depth=14, model__min_samples_leaf=8, model__random_state=1;, score=0.860 total time=   0.0s\n",
      "[CV 4/5] END model=DecisionTreeClassifier(), model__max_depth=14, model__min_samples_leaf=8, model__random_state=1;, score=0.889 total time=   0.0s\n",
      "[CV 5/5] END model=DecisionTreeClassifier(), model__max_depth=14, model__min_samples_leaf=8, model__random_state=1;, score=0.908 total time=   0.0s\n",
      "[CV 1/5] END model=DecisionTreeClassifier(), model__max_depth=14, model__min_samples_leaf=9, model__random_state=1;, score=0.756 total time=   0.0s\n",
      "[CV 2/5] END model=DecisionTreeClassifier(), model__max_depth=14, model__min_samples_leaf=9, model__random_state=1;, score=0.901 total time=   0.0s\n",
      "[CV 3/5] END model=DecisionTreeClassifier(), model__max_depth=14, model__min_samples_leaf=9, model__random_state=1;, score=0.867 total time=   0.0s\n",
      "[CV 4/5] END model=DecisionTreeClassifier(), model__max_depth=14, model__min_samples_leaf=9, model__random_state=1;, score=0.877 total time=   0.0s\n",
      "[CV 5/5] END model=DecisionTreeClassifier(), model__max_depth=14, model__min_samples_leaf=9, model__random_state=1;, score=0.913 total time=   0.0s\n",
      "[CV 4/5] END model=DecisionTreeClassifier(), model__max_depth=17, model__min_samples_leaf=3, model__random_state=1;, score=0.906 total time=   0.0s\n",
      "[CV 5/5] END model=DecisionTreeClassifier(), model__max_depth=17, model__min_samples_leaf=3, model__random_state=1;, score=0.908 total time=   0.0s\n",
      "[CV 1/5] END model=DecisionTreeClassifier(), model__max_depth=17, model__min_samples_leaf=4, model__random_state=1;, score=0.773 total time=   0.0s\n",
      "[CV 2/5] END model=DecisionTreeClassifier(), model__max_depth=17, model__min_samples_leaf=4, model__random_state=1;, score=0.899 total time=   0.0s\n",
      "[CV 3/5] END model=DecisionTreeClassifier(), model__max_depth=17, model__min_samples_leaf=4, model__random_state=1;, score=0.901 total time=   0.0s\n",
      "[CV 4/5] END model=DecisionTreeClassifier(), model__max_depth=17, model__min_samples_leaf=4, model__random_state=1;, score=0.925 total time=   0.0s\n",
      "[CV 5/5] END model=DecisionTreeClassifier(), model__max_depth=17, model__min_samples_leaf=4, model__random_state=1;, score=0.923 total time=   0.0s\n",
      "[CV 1/5] END model=DecisionTreeClassifier(), model__max_depth=17, model__min_samples_leaf=5, model__random_state=1;, score=0.771 total time=   0.0s\n",
      "[CV 2/5] END model=DecisionTreeClassifier(), model__max_depth=19, model__min_samples_leaf=5, model__random_state=1;, score=0.906 total time=   0.0s\n",
      "[CV 2/5] END model=DecisionTreeClassifier(), model__max_depth=19, model__min_samples_leaf=6, model__random_state=1;, score=0.913 total time=   0.0s\n",
      "[CV 4/5] END model=DecisionTreeClassifier(), model__max_depth=19, model__min_samples_leaf=7, model__random_state=1;, score=0.889 total time=   0.0s\n",
      "[CV 3/5] END model=DecisionTreeClassifier(), model__max_depth=19, model__min_samples_leaf=9, model__random_state=1;, score=0.867 total time=   0.0s\n",
      "[CV 3/5] END model=DecisionTreeClassifier(), model__max_depth=20, model__min_samples_leaf=4, model__random_state=1;, score=0.901 total time=   0.0s\n",
      "[CV 3/5] END model=DecisionTreeClassifier(), model__max_depth=20, model__min_samples_leaf=6, model__random_state=1;, score=0.879 total time=   0.0s\n",
      "[CV 1/5] END model=DecisionTreeClassifier(), model__max_depth=20, model__min_samples_leaf=8, model__random_state=1;, score=0.754 total time=   0.0s\n",
      "[CV 2/5] END model=DecisionTreeClassifier(), model__max_depth=2, model__min_samples_leaf=2, model__random_state=1;, score=0.778 total time=   0.0s\n",
      "[CV 2/5] END model=DecisionTreeClassifier(), model__max_depth=2, model__min_samples_leaf=5, model__random_state=1;, score=0.778 total time=   0.0s\n",
      "[CV 2/5] END model=DecisionTreeClassifier(), model__max_depth=2, model__min_samples_leaf=6, model__random_state=1;, score=0.778 total time=   0.0s\n",
      "[CV 3/5] END model=DecisionTreeClassifier(), model__max_depth=2, model__min_samples_leaf=7, model__random_state=1;, score=0.739 total time=   0.0s\n",
      "[CV 3/5] END model=DecisionTreeClassifier(), model__max_depth=2, model__min_samples_leaf=8, model__random_state=1;, score=0.739 total time=   0.0s\n",
      "[CV 5/5] END model=DecisionTreeClassifier(), model__max_depth=2, model__min_samples_leaf=9, model__random_state=1;, score=0.746 total time=   0.0s\n",
      "[CV 5/5] END model=DecisionTreeClassifier(), model__max_depth=3, model__min_samples_leaf=2, model__random_state=1;, score=0.835 total time=   0.0s\n",
      "[CV 4/5] END model=DecisionTreeClassifier(), model__max_depth=3, model__min_samples_leaf=4, model__random_state=1;, score=0.809 total time=   0.0s\n",
      "[CV 3/5] END model=DecisionTreeClassifier(), model__max_depth=3, model__min_samples_leaf=5, model__random_state=1;, score=0.821 total time=   0.0s\n",
      "[CV 5/5] END model=DecisionTreeClassifier(), model__max_depth=3, model__min_samples_leaf=6, model__random_state=1;, score=0.835 total time=   0.0s\n",
      "[CV 5/5] END model=DecisionTreeClassifier(), model__max_depth=3, model__min_samples_leaf=8, model__random_state=1;, score=0.835 total time=   0.0s\n",
      "[CV 1/5] END model=DecisionTreeClassifier(), model__max_depth=3, model__min_samples_leaf=9, model__random_state=1;, score=0.751 total time=   0.0s\n",
      "[CV 1/5] END model=DecisionTreeClassifier(), model__max_depth=4, model__min_samples_leaf=4, model__random_state=1;, score=0.758 total time=   0.0s\n",
      "[CV 2/5] END model=DecisionTreeClassifier(), model__max_depth=4, model__min_samples_leaf=4, model__random_state=1;, score=0.833 total time=   0.0s\n",
      "[CV 4/5] END model=DecisionTreeClassifier(), model__max_depth=4, model__min_samples_leaf=7, model__random_state=1;, score=0.855 total time=   0.0s\n",
      "[CV 5/5] END model=DecisionTreeClassifier(), model__max_depth=4, model__min_samples_leaf=7, model__random_state=1;, score=0.845 total time=   0.0s\n",
      "[CV 3/5] END model=DecisionTreeClassifier(), model__max_depth=5, model__min_samples_leaf=8, model__random_state=1;, score=0.870 total time=   0.0s\n",
      "[CV 4/5] END model=DecisionTreeClassifier(), model__max_depth=5, model__min_samples_leaf=8, model__random_state=1;, score=0.869 total time=   0.0s\n",
      "[CV 5/5] END model=DecisionTreeClassifier(), model__max_depth=5, model__min_samples_leaf=8, model__random_state=1;, score=0.886 total time=   0.0s\n",
      "[CV 1/5] END model=DecisionTreeClassifier(), model__max_depth=5, model__min_samples_leaf=9, model__random_state=1;, score=0.780 total time=   0.0s\n",
      "[CV 5/5] END model=DecisionTreeClassifier(), model__max_depth=6, model__min_samples_leaf=6, model__random_state=1;, score=0.901 total time=   0.0s\n",
      "[CV 1/5] END model=DecisionTreeClassifier(), model__max_depth=6, model__min_samples_leaf=7, model__random_state=1;, score=0.771 total time=   0.0s\n",
      "[CV 2/5] END model=DecisionTreeClassifier(), model__max_depth=6, model__min_samples_leaf=7, model__random_state=1;, score=0.896 total time=   0.0s\n",
      "[CV 3/5] END model=DecisionTreeClassifier(), model__max_depth=6, model__min_samples_leaf=7, model__random_state=1;, score=0.874 total time=   0.0s\n",
      "[CV 4/5] END model=DecisionTreeClassifier(), model__max_depth=8, model__min_samples_leaf=3, model__random_state=1;, score=0.903 total time=   0.0s\n",
      "[CV 5/5] END model=DecisionTreeClassifier(), model__max_depth=8, model__min_samples_leaf=3, model__random_state=1;, score=0.908 total time=   0.0s\n",
      "[CV 1/5] END model=DecisionTreeClassifier(), model__max_depth=8, model__min_samples_leaf=4, model__random_state=1;, score=0.771 total time=   0.0s\n",
      "[CV 2/5] END model=DecisionTreeClassifier(), model__max_depth=8, model__min_samples_leaf=4, model__random_state=1;, score=0.896 total time=   0.0s\n",
      "[CV 3/5] END model=DecisionTreeClassifier(), model__max_depth=8, model__min_samples_leaf=4, model__random_state=1;, score=0.906 total time=   0.0s\n",
      "[CV 4/5] END model=DecisionTreeClassifier(), model__max_depth=8, model__min_samples_leaf=4, model__random_state=1;, score=0.906 total time=   0.0s\n",
      "[CV 5/5] END model=DecisionTreeClassifier(), model__max_depth=8, model__min_samples_leaf=4, model__random_state=1;, score=0.920 total time=   0.0s\n",
      "[CV 1/5] END model=DecisionTreeClassifier(), model__max_depth=8, model__min_samples_leaf=5, model__random_state=1;, score=0.768 total time=   0.0s\n",
      "[CV 5/5] END model=DecisionTreeClassifier(), model__max_depth=10, model__min_samples_leaf=6, model__random_state=1;, score=0.915 total time=   0.0s\n",
      "[CV 1/5] END model=DecisionTreeClassifier(), model__max_depth=10, model__min_samples_leaf=7, model__random_state=1;, score=0.775 total time=   0.0s\n",
      "[CV 2/5] END model=DecisionTreeClassifier(), model__max_depth=10, model__min_samples_leaf=7, model__random_state=1;, score=0.911 total time=   0.0s\n",
      "[CV 3/5] END model=DecisionTreeClassifier(), model__max_depth=10, model__min_samples_leaf=7, model__random_state=1;, score=0.865 total time=   0.0s\n",
      "[CV 4/5] END model=DecisionTreeClassifier(), model__max_depth=10, model__min_samples_leaf=7, model__random_state=1;, score=0.889 total time=   0.0s\n",
      "[CV 5/5] END model=DecisionTreeClassifier(), model__max_depth=10, model__min_samples_leaf=7, model__random_state=1;, score=0.923 total time=   0.0s\n",
      "[CV 1/5] END model=DecisionTreeClassifier(), model__max_depth=10, model__min_samples_leaf=8, model__random_state=1;, score=0.754 total time=   0.0s\n",
      "[CV 2/5] END model=DecisionTreeClassifier(), model__max_depth=10, model__min_samples_leaf=8, model__random_state=1;, score=0.896 total time=   0.0s\n",
      "[CV 1/5] END model=DecisionTreeClassifier(), model__max_depth=13, model__min_samples_leaf=2, model__random_state=1;, score=0.785 total time=   0.0s\n",
      "[CV 2/5] END model=DecisionTreeClassifier(), model__max_depth=13, model__min_samples_leaf=2, model__random_state=1;, score=0.906 total time=   0.0s\n",
      "[CV 3/5] END model=DecisionTreeClassifier(), model__max_depth=13, model__min_samples_leaf=2, model__random_state=1;, score=0.896 total time=   0.0s\n",
      "[CV 4/5] END model=DecisionTreeClassifier(), model__max_depth=13, model__min_samples_leaf=2, model__random_state=1;, score=0.906 total time=   0.0s\n",
      "[CV 5/5] END model=DecisionTreeClassifier(), model__max_depth=13, model__min_samples_leaf=2, model__random_state=1;, score=0.915 total time=   0.0s\n",
      "[CV 1/5] END model=DecisionTreeClassifier(), model__max_depth=13, model__min_samples_leaf=3, model__random_state=1;, score=0.766 total time=   0.0s\n",
      "[CV 2/5] END model=DecisionTreeClassifier(), model__max_depth=13, model__min_samples_leaf=3, model__random_state=1;, score=0.891 total time=   0.0s\n",
      "[CV 3/5] END model=DecisionTreeClassifier(), model__max_depth=13, model__min_samples_leaf=3, model__random_state=1;, score=0.886 total time=   0.0s\n",
      "[CV 5/5] END model=DecisionTreeClassifier(), model__max_depth=15, model__min_samples_leaf=6, model__random_state=1;, score=0.915 total time=   0.0s\n",
      "[CV 1/5] END model=DecisionTreeClassifier(), model__max_depth=15, model__min_samples_leaf=7, model__random_state=1;, score=0.771 total time=   0.0s\n",
      "[CV 2/5] END model=DecisionTreeClassifier(), model__max_depth=15, model__min_samples_leaf=7, model__random_state=1;, score=0.911 total time=   0.0s\n",
      "[CV 3/5] END model=DecisionTreeClassifier(), model__max_depth=15, model__min_samples_leaf=7, model__random_state=1;, score=0.865 total time=   0.1s\n",
      "[CV 4/5] END model=DecisionTreeClassifier(), model__max_depth=15, model__min_samples_leaf=7, model__random_state=1;, score=0.889 total time=   0.0s\n",
      "[CV 5/5] END model=DecisionTreeClassifier(), model__max_depth=15, model__min_samples_leaf=7, model__random_state=1;, score=0.923 total time=   0.0s\n",
      "[CV 1/5] END model=DecisionTreeClassifier(), model__max_depth=15, model__min_samples_leaf=8, model__random_state=1;, score=0.754 total time=   0.0s\n",
      "[CV 2/5] END model=DecisionTreeClassifier(), model__max_depth=15, model__min_samples_leaf=8, model__random_state=1;, score=0.896 total time=   0.0s\n",
      "[CV 1/5] END model=DecisionTreeClassifier(), model__max_depth=18, model__min_samples_leaf=2, model__random_state=1;, score=0.785 total time=   0.0s\n",
      "[CV 2/5] END model=DecisionTreeClassifier(), model__max_depth=18, model__min_samples_leaf=2, model__random_state=1;, score=0.906 total time=   0.0s\n",
      "[CV 3/5] END model=DecisionTreeClassifier(), model__max_depth=18, model__min_samples_leaf=2, model__random_state=1;, score=0.891 total time=   0.0s\n",
      "[CV 4/5] END model=DecisionTreeClassifier(), model__max_depth=18, model__min_samples_leaf=2, model__random_state=1;, score=0.906 total time=   0.0s\n",
      "[CV 5/5] END model=DecisionTreeClassifier(), model__max_depth=18, model__min_samples_leaf=2, model__random_state=1;, score=0.915 total time=   0.0s\n",
      "[CV 1/5] END model=DecisionTreeClassifier(), model__max_depth=18, model__min_samples_leaf=3, model__random_state=1;, score=0.766 total time=   0.0s\n",
      "[CV 2/5] END model=DecisionTreeClassifier(), model__max_depth=18, model__min_samples_leaf=3, model__random_state=1;, score=0.891 total time=   0.0s\n",
      "[CV 3/5] END model=DecisionTreeClassifier(), model__max_depth=18, model__min_samples_leaf=3, model__random_state=1;, score=0.884 total time=   0.0s\n",
      "[CV 1/5] END model=DecisionTreeClassifier(), model__max_depth=19, model__min_samples_leaf=7, model__random_state=1;, score=0.771 total time=   0.0s\n",
      "[CV 5/5] END model=DecisionTreeClassifier(), model__max_depth=19, model__min_samples_leaf=8, model__random_state=1;, score=0.908 total time=   0.0s\n",
      "[CV 4/5] END model=DecisionTreeClassifier(), model__max_depth=20, model__min_samples_leaf=2, model__random_state=1;, score=0.906 total time=   0.0s\n",
      "[CV 5/5] END model=DecisionTreeClassifier(), model__max_depth=20, model__min_samples_leaf=4, model__random_state=1;, score=0.923 total time=   0.0s\n",
      "[CV 4/5] END model=DecisionTreeClassifier(), model__max_depth=20, model__min_samples_leaf=8, model__random_state=1;, score=0.889 total time=   0.0s\n",
      "[CV 2/5] END model=DecisionTreeClassifier(), model__max_depth=2, model__min_samples_leaf=3, model__random_state=1;, score=0.778 total time=   0.0s\n",
      "[CV 4/5] END model=DecisionTreeClassifier(), model__max_depth=2, model__min_samples_leaf=5, model__random_state=1;, score=0.746 total time=   0.0s\n",
      "[CV 5/5] END model=DecisionTreeClassifier(), model__max_depth=4, model__min_samples_leaf=6, model__random_state=1;, score=0.845 total time=   0.0s\n",
      "[CV 1/5] END model=DecisionTreeClassifier(), model__max_depth=4, model__min_samples_leaf=7, model__random_state=1;, score=0.763 total time=   0.0s\n",
      "[CV 1/5] END model=DecisionTreeClassifier(), model__max_depth=5, model__min_samples_leaf=6, model__random_state=1;, score=0.790 total time=   0.0s\n",
      "[CV 2/5] END model=DecisionTreeClassifier(), model__max_depth=5, model__min_samples_leaf=6, model__random_state=1;, score=0.877 total time=   0.0s\n",
      "[CV 3/5] END model=DecisionTreeClassifier(), model__max_depth=5, model__min_samples_leaf=6, model__random_state=1;, score=0.867 total time=   0.0s\n",
      "[CV 4/5] END model=DecisionTreeClassifier(), model__max_depth=5, model__min_samples_leaf=6, model__random_state=1;, score=0.869 total time=   0.0s\n",
      "[CV 1/5] END model=DecisionTreeClassifier(), model__max_depth=6, model__min_samples_leaf=6, model__random_state=1;, score=0.766 total time=   0.0s\n",
      "[CV 2/5] END model=DecisionTreeClassifier(), model__max_depth=6, model__min_samples_leaf=6, model__random_state=1;, score=0.901 total time=   0.0s\n",
      "[CV 3/5] END model=DecisionTreeClassifier(), model__max_depth=6, model__min_samples_leaf=6, model__random_state=1;, score=0.877 total time=   0.0s\n",
      "[CV 4/5] END model=DecisionTreeClassifier(), model__max_depth=6, model__min_samples_leaf=6, model__random_state=1;, score=0.906 total time=   0.0s\n",
      "[CV 1/5] END model=DecisionTreeClassifier(), model__max_depth=8, model__min_samples_leaf=2, model__random_state=1;, score=0.778 total time=   0.0s\n",
      "[CV 2/5] END model=DecisionTreeClassifier(), model__max_depth=8, model__min_samples_leaf=2, model__random_state=1;, score=0.896 total time=   0.0s\n",
      "[CV 3/5] END model=DecisionTreeClassifier(), model__max_depth=8, model__min_samples_leaf=2, model__random_state=1;, score=0.896 total time=   0.0s\n",
      "[CV 4/5] END model=DecisionTreeClassifier(), model__max_depth=8, model__min_samples_leaf=2, model__random_state=1;, score=0.915 total time=   0.0s\n",
      "[CV 5/5] END model=DecisionTreeClassifier(), model__max_depth=8, model__min_samples_leaf=2, model__random_state=1;, score=0.923 total time=   0.0s\n",
      "[CV 1/5] END model=DecisionTreeClassifier(), model__max_depth=8, model__min_samples_leaf=3, model__random_state=1;, score=0.778 total time=   0.0s\n",
      "[CV 2/5] END model=DecisionTreeClassifier(), model__max_depth=8, model__min_samples_leaf=3, model__random_state=1;, score=0.867 total time=   0.0s\n",
      "[CV 3/5] END model=DecisionTreeClassifier(), model__max_depth=8, model__min_samples_leaf=3, model__random_state=1;, score=0.891 total time=   0.0s\n",
      "[CV 2/5] END model=DecisionTreeClassifier(), model__max_depth=10, model__min_samples_leaf=5, model__random_state=1;, score=0.906 total time=   0.0s\n",
      "[CV 3/5] END model=DecisionTreeClassifier(), model__max_depth=10, model__min_samples_leaf=5, model__random_state=1;, score=0.884 total time=   0.0s\n",
      "[CV 4/5] END model=DecisionTreeClassifier(), model__max_depth=10, model__min_samples_leaf=5, model__random_state=1;, score=0.915 total time=   0.0s\n",
      "[CV 5/5] END model=DecisionTreeClassifier(), model__max_depth=10, model__min_samples_leaf=5, model__random_state=1;, score=0.913 total time=   0.0s\n",
      "[CV 1/5] END model=DecisionTreeClassifier(), model__max_depth=10, model__min_samples_leaf=6, model__random_state=1;, score=0.775 total time=   0.0s\n",
      "[CV 2/5] END model=DecisionTreeClassifier(), model__max_depth=10, model__min_samples_leaf=6, model__random_state=1;, score=0.913 total time=   0.0s\n",
      "[CV 3/5] END model=DecisionTreeClassifier(), model__max_depth=10, model__min_samples_leaf=6, model__random_state=1;, score=0.879 total time=   0.0s\n",
      "[CV 4/5] END model=DecisionTreeClassifier(), model__max_depth=10, model__min_samples_leaf=6, model__random_state=1;, score=0.901 total time=   0.0s\n",
      "[CV 3/5] END model=DecisionTreeClassifier(), model__max_depth=12, model__min_samples_leaf=8, model__random_state=1;, score=0.860 total time=   0.0s\n",
      "[CV 4/5] END model=DecisionTreeClassifier(), model__max_depth=12, model__min_samples_leaf=8, model__random_state=1;, score=0.889 total time=   0.0s\n",
      "[CV 5/5] END model=DecisionTreeClassifier(), model__max_depth=12, model__min_samples_leaf=8, model__random_state=1;, score=0.908 total time=   0.0s\n",
      "[CV 1/5] END model=DecisionTreeClassifier(), model__max_depth=12, model__min_samples_leaf=9, model__random_state=1;, score=0.756 total time=   0.0s\n",
      "[CV 2/5] END model=DecisionTreeClassifier(), model__max_depth=12, model__min_samples_leaf=9, model__random_state=1;, score=0.901 total time=   0.0s\n",
      "[CV 3/5] END model=DecisionTreeClassifier(), model__max_depth=12, model__min_samples_leaf=9, model__random_state=1;, score=0.867 total time=   0.0s\n",
      "[CV 4/5] END model=DecisionTreeClassifier(), model__max_depth=12, model__min_samples_leaf=9, model__random_state=1;, score=0.877 total time=   0.0s\n",
      "[CV 5/5] END model=DecisionTreeClassifier(), model__max_depth=12, model__min_samples_leaf=9, model__random_state=1;, score=0.913 total time=   0.0s\n",
      "[CV 1/5] END model=DecisionTreeClassifier(), model__max_depth=15, model__min_samples_leaf=2, model__random_state=1;, score=0.785 total time=   0.0s\n",
      "[CV 2/5] END model=DecisionTreeClassifier(), model__max_depth=15, model__min_samples_leaf=2, model__random_state=1;, score=0.906 total time=   0.0s\n",
      "[CV 3/5] END model=DecisionTreeClassifier(), model__max_depth=15, model__min_samples_leaf=2, model__random_state=1;, score=0.899 total time=   0.0s\n",
      "[CV 4/5] END model=DecisionTreeClassifier(), model__max_depth=15, model__min_samples_leaf=2, model__random_state=1;, score=0.906 total time=   0.1s\n",
      "[CV 5/5] END model=DecisionTreeClassifier(), model__max_depth=15, model__min_samples_leaf=2, model__random_state=1;, score=0.915 total time=   0.1s\n",
      "[CV 1/5] END model=DecisionTreeClassifier(), model__max_depth=15, model__min_samples_leaf=3, model__random_state=1;, score=0.766 total time=   0.0s\n",
      "[CV 2/5] END model=DecisionTreeClassifier(), model__max_depth=15, model__min_samples_leaf=3, model__random_state=1;, score=0.891 total time=   0.0s\n",
      "[CV 3/5] END model=DecisionTreeClassifier(), model__max_depth=15, model__min_samples_leaf=3, model__random_state=1;, score=0.884 total time=   0.0s\n",
      "[CV 5/5] END model=DecisionTreeClassifier(), model__max_depth=17, model__min_samples_leaf=6, model__random_state=1;, score=0.915 total time=   0.0s\n",
      "[CV 1/5] END model=DecisionTreeClassifier(), model__max_depth=17, model__min_samples_leaf=7, model__random_state=1;, score=0.771 total time=   0.0s\n",
      "[CV 2/5] END model=DecisionTreeClassifier(), model__max_depth=17, model__min_samples_leaf=7, model__random_state=1;, score=0.911 total time=   0.0s\n",
      "[CV 3/5] END model=DecisionTreeClassifier(), model__max_depth=17, model__min_samples_leaf=7, model__random_state=1;, score=0.865 total time=   0.0s\n",
      "[CV 4/5] END model=DecisionTreeClassifier(), model__max_depth=17, model__min_samples_leaf=7, model__random_state=1;, score=0.889 total time=   0.0s\n",
      "[CV 5/5] END model=DecisionTreeClassifier(), model__max_depth=17, model__min_samples_leaf=7, model__random_state=1;, score=0.923 total time=   0.0s\n",
      "[CV 1/5] END model=DecisionTreeClassifier(), model__max_depth=17, model__min_samples_leaf=8, model__random_state=1;, score=0.754 total time=   0.0s\n",
      "[CV 2/5] END model=DecisionTreeClassifier(), model__max_depth=17, model__min_samples_leaf=8, model__random_state=1;, score=0.896 total time=   0.0s\n",
      "[CV 5/5] END model=DecisionTreeClassifier(), model__max_depth=19, model__min_samples_leaf=5, model__random_state=1;, score=0.913 total time=   0.0s\n",
      "[CV 2/5] END model=DecisionTreeClassifier(), model__max_depth=19, model__min_samples_leaf=7, model__random_state=1;, score=0.911 total time=   0.0s\n",
      "[CV 1/5] END model=DecisionTreeClassifier(), model__max_depth=19, model__min_samples_leaf=9, model__random_state=1;, score=0.756 total time=   0.0s\n",
      "[CV 1/5] END model=DecisionTreeClassifier(), model__max_depth=20, model__min_samples_leaf=3, model__random_state=1;, score=0.766 total time=   0.0s\n",
      "[CV 2/5] END model=DecisionTreeClassifier(), model__max_depth=20, model__min_samples_leaf=5, model__random_state=1;, score=0.906 total time=   0.0s\n",
      "[CV 5/5] END model=DecisionTreeClassifier(), model__max_depth=20, model__min_samples_leaf=6, model__random_state=1;, score=0.915 total time=   0.0s\n",
      "[CV 5/5] END model=DecisionTreeClassifier(), model__max_depth=20, model__min_samples_leaf=8, model__random_state=1;, score=0.908 total time=   0.0s\n",
      "[CV 3/5] END model=DecisionTreeClassifier(), model__max_depth=2, model__min_samples_leaf=2, model__random_state=1;, score=0.739 total time=   0.0s\n",
      "[CV 4/5] END model=DecisionTreeClassifier(), model__max_depth=2, model__min_samples_leaf=4, model__random_state=1;, score=0.746 total time=   0.0s\n",
      "[CV 1/5] END model=DecisionTreeClassifier(), model__max_depth=2, model__min_samples_leaf=6, model__random_state=1;, score=0.698 total time=   0.0s\n",
      "[CV 1/5] END model=DecisionTreeClassifier(), model__max_depth=5, model__min_samples_leaf=2, model__random_state=1;, score=0.785 total time=   0.0s\n",
      "[CV 2/5] END model=DecisionTreeClassifier(), model__max_depth=5, model__min_samples_leaf=2, model__random_state=1;, score=0.874 total time=   0.0s\n",
      "[CV 3/5] END model=DecisionTreeClassifier(), model__max_depth=5, model__min_samples_leaf=2, model__random_state=1;, score=0.870 total time=   0.0s\n",
      "[CV 4/5] END model=DecisionTreeClassifier(), model__max_depth=5, model__min_samples_leaf=2, model__random_state=1;, score=0.879 total time=   0.0s\n",
      "[CV 4/5] END model=DecisionTreeClassifier(), model__max_depth=6, model__min_samples_leaf=3, model__random_state=1;, score=0.901 total time=   0.0s\n",
      "[CV 5/5] END model=DecisionTreeClassifier(), model__max_depth=6, model__min_samples_leaf=3, model__random_state=1;, score=0.891 total time=   0.0s\n",
      "[CV 1/5] END model=DecisionTreeClassifier(), model__max_depth=6, model__min_samples_leaf=4, model__random_state=1;, score=0.746 total time=   0.0s\n",
      "[CV 2/5] END model=DecisionTreeClassifier(), model__max_depth=6, model__min_samples_leaf=4, model__random_state=1;, score=0.899 total time=   0.0s\n",
      "[CV 2/5] END model=DecisionTreeClassifier(), model__max_depth=7, model__min_samples_leaf=5, model__random_state=1;, score=0.891 total time=   0.0s\n",
      "[CV 3/5] END model=DecisionTreeClassifier(), model__max_depth=7, model__min_samples_leaf=5, model__random_state=1;, score=0.896 total time=   0.0s\n",
      "[CV 4/5] END model=DecisionTreeClassifier(), model__max_depth=7, model__min_samples_leaf=5, model__random_state=1;, score=0.901 total time=   0.0s\n",
      "[CV 5/5] END model=DecisionTreeClassifier(), model__max_depth=7, model__min_samples_leaf=5, model__random_state=1;, score=0.896 total time=   0.0s\n",
      "[CV 1/5] END model=DecisionTreeClassifier(), model__max_depth=7, model__min_samples_leaf=6, model__random_state=1;, score=0.775 total time=   0.0s\n",
      "[CV 2/5] END model=DecisionTreeClassifier(), model__max_depth=7, model__min_samples_leaf=6, model__random_state=1;, score=0.901 total time=   0.0s\n",
      "[CV 3/5] END model=DecisionTreeClassifier(), model__max_depth=7, model__min_samples_leaf=6, model__random_state=1;, score=0.889 total time=   0.0s\n",
      "[CV 4/5] END model=DecisionTreeClassifier(), model__max_depth=7, model__min_samples_leaf=6, model__random_state=1;, score=0.889 total time=   0.0s\n",
      "[CV 3/5] END model=DecisionTreeClassifier(), model__max_depth=9, model__min_samples_leaf=8, model__random_state=1;, score=0.862 total time=   0.0s\n",
      "[CV 4/5] END model=DecisionTreeClassifier(), model__max_depth=9, model__min_samples_leaf=8, model__random_state=1;, score=0.889 total time=   0.0s\n",
      "[CV 5/5] END model=DecisionTreeClassifier(), model__max_depth=9, model__min_samples_leaf=8, model__random_state=1;, score=0.908 total time=   0.0s\n",
      "[CV 1/5] END model=DecisionTreeClassifier(), model__max_depth=9, model__min_samples_leaf=9, model__random_state=1;, score=0.754 total time=   0.0s\n",
      "[CV 2/5] END model=DecisionTreeClassifier(), model__max_depth=9, model__min_samples_leaf=9, model__random_state=1;, score=0.901 total time=   0.0s\n",
      "[CV 3/5] END model=DecisionTreeClassifier(), model__max_depth=9, model__min_samples_leaf=9, model__random_state=1;, score=0.867 total time=   0.0s\n",
      "[CV 4/5] END model=DecisionTreeClassifier(), model__max_depth=9, model__min_samples_leaf=9, model__random_state=1;, score=0.877 total time=   0.0s\n",
      "[CV 5/5] END model=DecisionTreeClassifier(), model__max_depth=9, model__min_samples_leaf=9, model__random_state=1;, score=0.913 total time=   0.0s\n",
      "[CV 4/5] END model=DecisionTreeClassifier(), model__max_depth=12, model__min_samples_leaf=3, model__random_state=1;, score=0.906 total time=   0.0s\n",
      "[CV 5/5] END model=DecisionTreeClassifier(), model__max_depth=12, model__min_samples_leaf=3, model__random_state=1;, score=0.908 total time=   0.0s\n",
      "[CV 1/5] END model=DecisionTreeClassifier(), model__max_depth=12, model__min_samples_leaf=4, model__random_state=1;, score=0.773 total time=   0.0s\n",
      "[CV 2/5] END model=DecisionTreeClassifier(), model__max_depth=12, model__min_samples_leaf=4, model__random_state=1;, score=0.899 total time=   0.0s\n",
      "[CV 3/5] END model=DecisionTreeClassifier(), model__max_depth=12, model__min_samples_leaf=4, model__random_state=1;, score=0.901 total time=   0.0s\n",
      "[CV 4/5] END model=DecisionTreeClassifier(), model__max_depth=12, model__min_samples_leaf=4, model__random_state=1;, score=0.925 total time=   0.0s\n",
      "[CV 5/5] END model=DecisionTreeClassifier(), model__max_depth=12, model__min_samples_leaf=4, model__random_state=1;, score=0.923 total time=   0.0s\n",
      "[CV 1/5] END model=DecisionTreeClassifier(), model__max_depth=12, model__min_samples_leaf=5, model__random_state=1;, score=0.771 total time=   0.0s\n",
      "[CV 5/5] END model=DecisionTreeClassifier(), model__max_depth=14, model__min_samples_leaf=6, model__random_state=1;, score=0.915 total time=   0.0s\n",
      "[CV 1/5] END model=DecisionTreeClassifier(), model__max_depth=14, model__min_samples_leaf=7, model__random_state=1;, score=0.771 total time=   0.0s\n",
      "[CV 2/5] END model=DecisionTreeClassifier(), model__max_depth=14, model__min_samples_leaf=7, model__random_state=1;, score=0.911 total time=   0.0s\n",
      "[CV 3/5] END model=DecisionTreeClassifier(), model__max_depth=14, model__min_samples_leaf=7, model__random_state=1;, score=0.865 total time=   0.0s\n",
      "[CV 4/5] END model=DecisionTreeClassifier(), model__max_depth=14, model__min_samples_leaf=7, model__random_state=1;, score=0.889 total time=   0.0s\n",
      "[CV 5/5] END model=DecisionTreeClassifier(), model__max_depth=14, model__min_samples_leaf=7, model__random_state=1;, score=0.923 total time=   0.0s\n",
      "[CV 1/5] END model=DecisionTreeClassifier(), model__max_depth=14, model__min_samples_leaf=8, model__random_state=1;, score=0.754 total time=   0.0s\n",
      "[CV 2/5] END model=DecisionTreeClassifier(), model__max_depth=14, model__min_samples_leaf=8, model__random_state=1;, score=0.896 total time=   0.0s\n",
      "[CV 1/5] END model=DecisionTreeClassifier(), model__max_depth=17, model__min_samples_leaf=2, model__random_state=1;, score=0.785 total time=   0.0s\n",
      "[CV 2/5] END model=DecisionTreeClassifier(), model__max_depth=17, model__min_samples_leaf=2, model__random_state=1;, score=0.906 total time=   0.0s\n",
      "[CV 3/5] END model=DecisionTreeClassifier(), model__max_depth=17, model__min_samples_leaf=2, model__random_state=1;, score=0.891 total time=   0.0s\n",
      "[CV 4/5] END model=DecisionTreeClassifier(), model__max_depth=17, model__min_samples_leaf=2, model__random_state=1;, score=0.906 total time=   0.0s\n",
      "[CV 5/5] END model=DecisionTreeClassifier(), model__max_depth=17, model__min_samples_leaf=2, model__random_state=1;, score=0.915 total time=   0.0s\n",
      "[CV 1/5] END model=DecisionTreeClassifier(), model__max_depth=17, model__min_samples_leaf=3, model__random_state=1;, score=0.766 total time=   0.0s\n",
      "[CV 2/5] END model=DecisionTreeClassifier(), model__max_depth=17, model__min_samples_leaf=3, model__random_state=1;, score=0.891 total time=   0.0s\n",
      "[CV 3/5] END model=DecisionTreeClassifier(), model__max_depth=17, model__min_samples_leaf=3, model__random_state=1;, score=0.884 total time=   0.0s\n",
      "[CV 3/5] END model=DecisionTreeClassifier(), model__max_depth=19, model__min_samples_leaf=5, model__random_state=1;, score=0.884 total time=   0.0s\n",
      "[CV 3/5] END model=DecisionTreeClassifier(), model__max_depth=19, model__min_samples_leaf=6, model__random_state=1;, score=0.879 total time=   0.0s\n",
      "[CV 2/5] END model=DecisionTreeClassifier(), model__max_depth=19, model__min_samples_leaf=8, model__random_state=1;, score=0.896 total time=   0.0s\n",
      "[CV 1/5] END model=DecisionTreeClassifier(), model__max_depth=20, model__min_samples_leaf=2, model__random_state=1;, score=0.785 total time=   0.0s\n",
      "[CV 3/5] END model=DecisionTreeClassifier(), model__max_depth=20, model__min_samples_leaf=5, model__random_state=1;, score=0.884 total time=   0.0s\n",
      "[CV 2/5] END model=DecisionTreeClassifier(), model__max_depth=20, model__min_samples_leaf=7, model__random_state=1;, score=0.911 total time=   0.0s\n",
      "[CV 1/5] END model=DecisionTreeClassifier(), model__max_depth=20, model__min_samples_leaf=9, model__random_state=1;, score=0.756 total time=   0.0s\n",
      "[CV 1/5] END model=DecisionTreeClassifier(), model__max_depth=2, model__min_samples_leaf=4, model__random_state=1;, score=0.698 total time=   0.0s\n",
      "[CV 1/5] END model=DecisionTreeClassifier(), model__max_depth=2, model__min_samples_leaf=7, model__random_state=1;, score=0.698 total time=   0.0s\n",
      "[CV 5/5] END model=DecisionTreeClassifier(), model__max_depth=4, model__min_samples_leaf=2, model__random_state=1;, score=0.845 total time=   0.0s\n",
      "[CV 1/5] END model=DecisionTreeClassifier(), model__max_depth=4, model__min_samples_leaf=3, model__random_state=1;, score=0.758 total time=   0.0s\n",
      "[CV 2/5] END model=DecisionTreeClassifier(), model__max_depth=4, model__min_samples_leaf=7, model__random_state=1;, score=0.829 total time=   0.0s\n",
      "[CV 3/5] END model=DecisionTreeClassifier(), model__max_depth=4, model__min_samples_leaf=7, model__random_state=1;, score=0.848 total time=   0.0s\n",
      "[CV 4/5] END model=DecisionTreeClassifier(), model__max_depth=5, model__min_samples_leaf=3, model__random_state=1;, score=0.879 total time=   0.0s\n",
      "[CV 5/5] END model=DecisionTreeClassifier(), model__max_depth=5, model__min_samples_leaf=3, model__random_state=1;, score=0.879 total time=   0.0s\n",
      "[CV 1/5] END model=DecisionTreeClassifier(), model__max_depth=5, model__min_samples_leaf=4, model__random_state=1;, score=0.785 total time=   0.0s\n",
      "[CV 2/5] END model=DecisionTreeClassifier(), model__max_depth=5, model__min_samples_leaf=4, model__random_state=1;, score=0.877 total time=   0.0s\n",
      "[CV 2/5] END model=DecisionTreeClassifier(), model__max_depth=6, model__min_samples_leaf=5, model__random_state=1;, score=0.906 total time=   0.0s\n",
      "[CV 3/5] END model=DecisionTreeClassifier(), model__max_depth=6, model__min_samples_leaf=5, model__random_state=1;, score=0.882 total time=   0.0s\n",
      "[CV 4/5] END model=DecisionTreeClassifier(), model__max_depth=6, model__min_samples_leaf=5, model__random_state=1;, score=0.898 total time=   0.0s\n",
      "[CV 5/5] END model=DecisionTreeClassifier(), model__max_depth=6, model__min_samples_leaf=5, model__random_state=1;, score=0.896 total time=   0.0s\n",
      "[CV 3/5] END model=DecisionTreeClassifier(), model__max_depth=7, model__min_samples_leaf=8, model__random_state=1;, score=0.877 total time=   0.0s\n",
      "[CV 4/5] END model=DecisionTreeClassifier(), model__max_depth=7, model__min_samples_leaf=8, model__random_state=1;, score=0.881 total time=   0.0s\n",
      "[CV 5/5] END model=DecisionTreeClassifier(), model__max_depth=7, model__min_samples_leaf=8, model__random_state=1;, score=0.898 total time=   0.0s\n",
      "[CV 1/5] END model=DecisionTreeClassifier(), model__max_depth=7, model__min_samples_leaf=9, model__random_state=1;, score=0.751 total time=   0.0s\n",
      "[CV 2/5] END model=DecisionTreeClassifier(), model__max_depth=7, model__min_samples_leaf=9, model__random_state=1;, score=0.894 total time=   0.0s\n",
      "[CV 3/5] END model=DecisionTreeClassifier(), model__max_depth=7, model__min_samples_leaf=9, model__random_state=1;, score=0.874 total time=   0.0s\n",
      "[CV 4/5] END model=DecisionTreeClassifier(), model__max_depth=7, model__min_samples_leaf=9, model__random_state=1;, score=0.877 total time=   0.0s\n",
      "[CV 5/5] END model=DecisionTreeClassifier(), model__max_depth=7, model__min_samples_leaf=9, model__random_state=1;, score=0.903 total time=   0.0s\n",
      "[CV 4/5] END model=DecisionTreeClassifier(), model__max_depth=10, model__min_samples_leaf=3, model__random_state=1;, score=0.913 total time=   0.0s\n",
      "[CV 5/5] END model=DecisionTreeClassifier(), model__max_depth=10, model__min_samples_leaf=3, model__random_state=1;, score=0.908 total time=   0.0s\n",
      "[CV 1/5] END model=DecisionTreeClassifier(), model__max_depth=10, model__min_samples_leaf=4, model__random_state=1;, score=0.763 total time=   0.0s\n",
      "[CV 2/5] END model=DecisionTreeClassifier(), model__max_depth=10, model__min_samples_leaf=4, model__random_state=1;, score=0.899 total time=   0.0s\n",
      "[CV 3/5] END model=DecisionTreeClassifier(), model__max_depth=10, model__min_samples_leaf=4, model__random_state=1;, score=0.901 total time=   0.0s\n",
      "[CV 4/5] END model=DecisionTreeClassifier(), model__max_depth=10, model__min_samples_leaf=4, model__random_state=1;, score=0.925 total time=   0.0s\n",
      "[CV 5/5] END model=DecisionTreeClassifier(), model__max_depth=10, model__min_samples_leaf=4, model__random_state=1;, score=0.923 total time=   0.0s\n",
      "[CV 1/5] END model=DecisionTreeClassifier(), model__max_depth=10, model__min_samples_leaf=5, model__random_state=1;, score=0.773 total time=   0.0s\n",
      "[CV 5/5] END model=DecisionTreeClassifier(), model__max_depth=12, model__min_samples_leaf=6, model__random_state=1;, score=0.915 total time=   0.0s\n",
      "[CV 1/5] END model=DecisionTreeClassifier(), model__max_depth=12, model__min_samples_leaf=7, model__random_state=1;, score=0.771 total time=   0.0s\n",
      "[CV 2/5] END model=DecisionTreeClassifier(), model__max_depth=12, model__min_samples_leaf=7, model__random_state=1;, score=0.911 total time=   0.0s\n",
      "[CV 3/5] END model=DecisionTreeClassifier(), model__max_depth=12, model__min_samples_leaf=7, model__random_state=1;, score=0.865 total time=   0.0s\n",
      "[CV 4/5] END model=DecisionTreeClassifier(), model__max_depth=12, model__min_samples_leaf=7, model__random_state=1;, score=0.889 total time=   0.0s\n",
      "[CV 5/5] END model=DecisionTreeClassifier(), model__max_depth=12, model__min_samples_leaf=7, model__random_state=1;, score=0.923 total time=   0.0s\n",
      "[CV 1/5] END model=DecisionTreeClassifier(), model__max_depth=12, model__min_samples_leaf=8, model__random_state=1;, score=0.754 total time=   0.0s\n",
      "[CV 2/5] END model=DecisionTreeClassifier(), model__max_depth=12, model__min_samples_leaf=8, model__random_state=1;, score=0.896 total time=   0.0s\n",
      "[CV 4/5] END model=DecisionTreeClassifier(), model__max_depth=15, model__min_samples_leaf=3, model__random_state=1;, score=0.906 total time=   0.0s\n",
      "[CV 5/5] END model=DecisionTreeClassifier(), model__max_depth=15, model__min_samples_leaf=3, model__random_state=1;, score=0.908 total time=   0.0s\n",
      "[CV 1/5] END model=DecisionTreeClassifier(), model__max_depth=15, model__min_samples_leaf=4, model__random_state=1;, score=0.773 total time=   0.0s\n",
      "[CV 2/5] END model=DecisionTreeClassifier(), model__max_depth=15, model__min_samples_leaf=4, model__random_state=1;, score=0.899 total time=   0.0s\n",
      "[CV 3/5] END model=DecisionTreeClassifier(), model__max_depth=15, model__min_samples_leaf=4, model__random_state=1;, score=0.901 total time=   0.0s\n",
      "[CV 4/5] END model=DecisionTreeClassifier(), model__max_depth=15, model__min_samples_leaf=4, model__random_state=1;, score=0.925 total time=   0.0s\n",
      "[CV 5/5] END model=DecisionTreeClassifier(), model__max_depth=15, model__min_samples_leaf=4, model__random_state=1;, score=0.923 total time=   0.0s\n",
      "[CV 1/5] END model=DecisionTreeClassifier(), model__max_depth=15, model__min_samples_leaf=5, model__random_state=1;, score=0.771 total time=   0.0s\n",
      "[CV 2/5] END model=DecisionTreeClassifier(), model__max_depth=17, model__min_samples_leaf=5, model__random_state=1;, score=0.906 total time=   0.0s\n",
      "[CV 3/5] END model=DecisionTreeClassifier(), model__max_depth=17, model__min_samples_leaf=5, model__random_state=1;, score=0.884 total time=   0.0s\n",
      "[CV 4/5] END model=DecisionTreeClassifier(), model__max_depth=17, model__min_samples_leaf=5, model__random_state=1;, score=0.918 total time=   0.0s\n",
      "[CV 5/5] END model=DecisionTreeClassifier(), model__max_depth=17, model__min_samples_leaf=5, model__random_state=1;, score=0.913 total time=   0.0s\n",
      "[CV 1/5] END model=DecisionTreeClassifier(), model__max_depth=17, model__min_samples_leaf=6, model__random_state=1;, score=0.775 total time=   0.0s\n",
      "[CV 2/5] END model=DecisionTreeClassifier(), model__max_depth=17, model__min_samples_leaf=6, model__random_state=1;, score=0.913 total time=   0.0s\n",
      "[CV 3/5] END model=DecisionTreeClassifier(), model__max_depth=17, model__min_samples_leaf=6, model__random_state=1;, score=0.879 total time=   0.0s\n",
      "[CV 4/5] END model=DecisionTreeClassifier(), model__max_depth=17, model__min_samples_leaf=6, model__random_state=1;, score=0.901 total time=   0.0s\n",
      "[CV 4/5] END model=DecisionTreeClassifier(), model__max_depth=19, model__min_samples_leaf=5, model__random_state=1;, score=0.918 total time=   0.0s\n",
      "[CV 5/5] END model=DecisionTreeClassifier(), model__max_depth=19, model__min_samples_leaf=6, model__random_state=1;, score=0.915 total time=   0.0s\n",
      "[CV 3/5] END model=DecisionTreeClassifier(), model__max_depth=20, model__min_samples_leaf=9, model__random_state=1;, score=0.867 total time=   0.0s\n",
      "[CV 1/5] END model=DecisionTreeClassifier(), model__max_depth=2, model__min_samples_leaf=3, model__random_state=1;, score=0.698 total time=   0.0s\n",
      "[CV 2/5] END model=DecisionTreeClassifier(), model__max_depth=2, model__min_samples_leaf=7, model__random_state=1;, score=0.778 total time=   0.0s\n",
      "[CV 2/5] END model=DecisionTreeClassifier(), model__max_depth=2, model__min_samples_leaf=9, model__random_state=1;, score=0.778 total time=   0.0s\n",
      "[CV 3/5] END model=DecisionTreeClassifier(), model__max_depth=3, model__min_samples_leaf=2, model__random_state=1;, score=0.821 total time=   0.0s\n",
      "[CV 5/5] END model=DecisionTreeClassifier(), model__max_depth=3, model__min_samples_leaf=3, model__random_state=1;, score=0.835 total time=   0.0s\n",
      "[CV 5/5] END model=DecisionTreeClassifier(), model__max_depth=3, model__min_samples_leaf=5, model__random_state=1;, score=0.835 total time=   0.0s\n",
      "[CV 1/5] END model=DecisionTreeClassifier(), model__max_depth=3, model__min_samples_leaf=7, model__random_state=1;, score=0.751 total time=   0.0s\n",
      "[CV 5/5] END model=DecisionTreeClassifier(), model__max_depth=3, model__min_samples_leaf=7, model__random_state=1;, score=0.835 total time=   0.0s\n",
      "[CV 2/5] END model=DecisionTreeClassifier(), model__max_depth=3, model__min_samples_leaf=9, model__random_state=1;, score=0.797 total time=   0.0s\n",
      "[CV 3/5] END model=DecisionTreeClassifier(), model__max_depth=3, model__min_samples_leaf=9, model__random_state=1;, score=0.821 total time=   0.0s\n",
      "[CV 4/5] END model=DecisionTreeClassifier(), model__max_depth=4, model__min_samples_leaf=5, model__random_state=1;, score=0.855 total time=   0.0s\n",
      "[CV 5/5] END model=DecisionTreeClassifier(), model__max_depth=4, model__min_samples_leaf=5, model__random_state=1;, score=0.845 total time=   0.0s\n",
      "[CV 4/5] END model=DecisionTreeClassifier(), model__max_depth=4, model__min_samples_leaf=9, model__random_state=1;, score=0.855 total time=   0.0s\n",
      "[CV 5/5] END model=DecisionTreeClassifier(), model__max_depth=4, model__min_samples_leaf=9, model__random_state=1;, score=0.845 total time=   0.0s\n",
      "[CV 5/5] END model=DecisionTreeClassifier(), model__max_depth=5, model__min_samples_leaf=6, model__random_state=1;, score=0.889 total time=   0.0s\n",
      "[CV 1/5] END model=DecisionTreeClassifier(), model__max_depth=5, model__min_samples_leaf=7, model__random_state=1;, score=0.790 total time=   0.0s\n",
      "[CV 2/5] END model=DecisionTreeClassifier(), model__max_depth=5, model__min_samples_leaf=7, model__random_state=1;, score=0.870 total time=   0.0s\n",
      "[CV 3/5] END model=DecisionTreeClassifier(), model__max_depth=5, model__min_samples_leaf=7, model__random_state=1;, score=0.870 total time=   0.0s\n",
      "[CV 3/5] END model=DecisionTreeClassifier(), model__max_depth=6, model__min_samples_leaf=8, model__random_state=1;, score=0.874 total time=   0.0s\n",
      "[CV 4/5] END model=DecisionTreeClassifier(), model__max_depth=6, model__min_samples_leaf=8, model__random_state=1;, score=0.893 total time=   0.0s\n",
      "[CV 5/5] END model=DecisionTreeClassifier(), model__max_depth=6, model__min_samples_leaf=8, model__random_state=1;, score=0.901 total time=   0.0s\n",
      "[CV 1/5] END model=DecisionTreeClassifier(), model__max_depth=6, model__min_samples_leaf=9, model__random_state=1;, score=0.761 total time=   0.0s\n",
      "[CV 2/5] END model=DecisionTreeClassifier(), model__max_depth=9, model__min_samples_leaf=5, model__random_state=1;, score=0.899 total time=   0.0s\n",
      "[CV 3/5] END model=DecisionTreeClassifier(), model__max_depth=9, model__min_samples_leaf=5, model__random_state=1;, score=0.882 total time=   0.0s\n",
      "[CV 4/5] END model=DecisionTreeClassifier(), model__max_depth=9, model__min_samples_leaf=5, model__random_state=1;, score=0.913 total time=   0.0s\n",
      "[CV 5/5] END model=DecisionTreeClassifier(), model__max_depth=9, model__min_samples_leaf=5, model__random_state=1;, score=0.910 total time=   0.0s\n",
      "[CV 1/5] END model=DecisionTreeClassifier(), model__max_depth=9, model__min_samples_leaf=6, model__random_state=1;, score=0.773 total time=   0.0s\n",
      "[CV 2/5] END model=DecisionTreeClassifier(), model__max_depth=9, model__min_samples_leaf=6, model__random_state=1;, score=0.913 total time=   0.0s\n",
      "[CV 3/5] END model=DecisionTreeClassifier(), model__max_depth=9, model__min_samples_leaf=6, model__random_state=1;, score=0.882 total time=   0.0s\n",
      "[CV 4/5] END model=DecisionTreeClassifier(), model__max_depth=9, model__min_samples_leaf=6, model__random_state=1;, score=0.906 total time=   0.0s\n",
      "[CV 3/5] END model=DecisionTreeClassifier(), model__max_depth=11, model__min_samples_leaf=8, model__random_state=1;, score=0.860 total time=   0.0s\n",
      "[CV 4/5] END model=DecisionTreeClassifier(), model__max_depth=11, model__min_samples_leaf=8, model__random_state=1;, score=0.889 total time=   0.0s\n",
      "[CV 5/5] END model=DecisionTreeClassifier(), model__max_depth=11, model__min_samples_leaf=8, model__random_state=1;, score=0.908 total time=   0.0s\n",
      "[CV 1/5] END model=DecisionTreeClassifier(), model__max_depth=11, model__min_samples_leaf=9, model__random_state=1;, score=0.756 total time=   0.0s\n",
      "[CV 2/5] END model=DecisionTreeClassifier(), model__max_depth=11, model__min_samples_leaf=9, model__random_state=1;, score=0.901 total time=   0.0s\n",
      "[CV 3/5] END model=DecisionTreeClassifier(), model__max_depth=11, model__min_samples_leaf=9, model__random_state=1;, score=0.867 total time=   0.0s\n",
      "[CV 4/5] END model=DecisionTreeClassifier(), model__max_depth=11, model__min_samples_leaf=9, model__random_state=1;, score=0.877 total time=   0.0s\n",
      "[CV 5/5] END model=DecisionTreeClassifier(), model__max_depth=11, model__min_samples_leaf=9, model__random_state=1;, score=0.913 total time=   0.0s\n",
      "[CV 3/5] END model=DecisionTreeClassifier(), model__max_depth=13, model__min_samples_leaf=8, model__random_state=1;, score=0.860 total time=   0.0s\n",
      "[CV 4/5] END model=DecisionTreeClassifier(), model__max_depth=13, model__min_samples_leaf=8, model__random_state=1;, score=0.889 total time=   0.0s\n",
      "[CV 5/5] END model=DecisionTreeClassifier(), model__max_depth=13, model__min_samples_leaf=8, model__random_state=1;, score=0.908 total time=   0.0s\n",
      "[CV 1/5] END model=DecisionTreeClassifier(), model__max_depth=13, model__min_samples_leaf=9, model__random_state=1;, score=0.756 total time=   0.0s\n",
      "[CV 2/5] END model=DecisionTreeClassifier(), model__max_depth=13, model__min_samples_leaf=9, model__random_state=1;, score=0.901 total time=   0.0s\n",
      "[CV 3/5] END model=DecisionTreeClassifier(), model__max_depth=13, model__min_samples_leaf=9, model__random_state=1;, score=0.867 total time=   0.0s\n",
      "[CV 4/5] END model=DecisionTreeClassifier(), model__max_depth=13, model__min_samples_leaf=9, model__random_state=1;, score=0.877 total time=   0.0s\n",
      "[CV 5/5] END model=DecisionTreeClassifier(), model__max_depth=13, model__min_samples_leaf=9, model__random_state=1;, score=0.913 total time=   0.0s\n",
      "[CV 4/5] END model=DecisionTreeClassifier(), model__max_depth=16, model__min_samples_leaf=3, model__random_state=1;, score=0.906 total time=   0.0s\n",
      "[CV 5/5] END model=DecisionTreeClassifier(), model__max_depth=16, model__min_samples_leaf=3, model__random_state=1;, score=0.908 total time=   0.0s\n",
      "[CV 1/5] END model=DecisionTreeClassifier(), model__max_depth=16, model__min_samples_leaf=4, model__random_state=1;, score=0.773 total time=   0.0s\n",
      "[CV 2/5] END model=DecisionTreeClassifier(), model__max_depth=16, model__min_samples_leaf=4, model__random_state=1;, score=0.899 total time=   0.0s\n",
      "[CV 3/5] END model=DecisionTreeClassifier(), model__max_depth=16, model__min_samples_leaf=4, model__random_state=1;, score=0.901 total time=   0.0s\n",
      "[CV 4/5] END model=DecisionTreeClassifier(), model__max_depth=16, model__min_samples_leaf=4, model__random_state=1;, score=0.925 total time=   0.0s\n",
      "[CV 5/5] END model=DecisionTreeClassifier(), model__max_depth=16, model__min_samples_leaf=4, model__random_state=1;, score=0.923 total time=   0.0s\n",
      "[CV 1/5] END model=DecisionTreeClassifier(), model__max_depth=16, model__min_samples_leaf=5, model__random_state=1;, score=0.771 total time=   0.0s\n",
      "[CV 5/5] END model=DecisionTreeClassifier(), model__max_depth=18, model__min_samples_leaf=6, model__random_state=1;, score=0.915 total time=   0.0s\n",
      "[CV 1/5] END model=DecisionTreeClassifier(), model__max_depth=18, model__min_samples_leaf=7, model__random_state=1;, score=0.771 total time=   0.0s\n",
      "[CV 2/5] END model=DecisionTreeClassifier(), model__max_depth=18, model__min_samples_leaf=7, model__random_state=1;, score=0.911 total time=   0.0s\n",
      "[CV 3/5] END model=DecisionTreeClassifier(), model__max_depth=18, model__min_samples_leaf=7, model__random_state=1;, score=0.865 total time=   0.0s\n",
      "[CV 4/5] END model=DecisionTreeClassifier(), model__max_depth=18, model__min_samples_leaf=7, model__random_state=1;, score=0.889 total time=   0.0s\n",
      "[CV 5/5] END model=DecisionTreeClassifier(), model__max_depth=18, model__min_samples_leaf=7, model__random_state=1;, score=0.923 total time=   0.0s\n",
      "[CV 1/5] END model=DecisionTreeClassifier(), model__max_depth=18, model__min_samples_leaf=8, model__random_state=1;, score=0.754 total time=   0.0s\n",
      "[CV 2/5] END model=DecisionTreeClassifier(), model__max_depth=18, model__min_samples_leaf=8, model__random_state=1;, score=0.896 total time=   0.0s\n",
      "[CV 1/5] END model=DecisionTreeClassifier(), model__max_depth=19, model__min_samples_leaf=8, model__random_state=1;, score=0.754 total time=   0.0s\n",
      "[CV 5/5] END model=DecisionTreeClassifier(), model__max_depth=19, model__min_samples_leaf=9, model__random_state=1;, score=0.913 total time=   0.0s\n",
      "[CV 4/5] END model=DecisionTreeClassifier(), model__max_depth=20, model__min_samples_leaf=3, model__random_state=1;, score=0.906 total time=   0.0s\n",
      "[CV 4/5] END model=DecisionTreeClassifier(), model__max_depth=20, model__min_samples_leaf=5, model__random_state=1;, score=0.918 total time=   0.0s\n",
      "[CV 3/5] END model=DecisionTreeClassifier(), model__max_depth=20, model__min_samples_leaf=7, model__random_state=1;, score=0.865 total time=   0.0s\n",
      "[CV 2/5] END model=DecisionTreeClassifier(), model__max_depth=20, model__min_samples_leaf=9, model__random_state=1;, score=0.901 total time=   0.0s\n",
      "[CV 3/5] END model=DecisionTreeClassifier(), model__max_depth=2, model__min_samples_leaf=3, model__random_state=1;, score=0.739 total time=   0.0s\n",
      "[CV 5/5] END model=DecisionTreeClassifier(), model__max_depth=2, model__min_samples_leaf=4, model__random_state=1;, score=0.746 total time=   0.0s\n",
      "[CV 4/5] END model=DecisionTreeClassifier(), model__max_depth=2, model__min_samples_leaf=8, model__random_state=1;, score=0.746 total time=   0.0s\n",
      "[CV 4/5] END model=DecisionTreeClassifier(), model__max_depth=3, model__min_samples_leaf=3, model__random_state=1;, score=0.809 total time=   0.0s\n",
      "[CV 4/5] END model=DecisionTreeClassifier(), model__max_depth=3, model__min_samples_leaf=6, model__random_state=1;, score=0.809 total time=   0.0s\n",
      "[CV 3/5] END model=DecisionTreeClassifier(), model__max_depth=4, model__min_samples_leaf=8, model__random_state=1;, score=0.848 total time=   0.0s\n",
      "[CV 4/5] END model=DecisionTreeClassifier(), model__max_depth=4, model__min_samples_leaf=8, model__random_state=1;, score=0.855 total time=   0.0s\n",
      "[CV 4/5] END model=DecisionTreeClassifier(), model__max_depth=5, model__min_samples_leaf=7, model__random_state=1;, score=0.869 total time=   0.0s\n",
      "[CV 5/5] END model=DecisionTreeClassifier(), model__max_depth=5, model__min_samples_leaf=7, model__random_state=1;, score=0.889 total time=   0.0s\n",
      "[CV 1/5] END model=DecisionTreeClassifier(), model__max_depth=5, model__min_samples_leaf=8, model__random_state=1;, score=0.780 total time=   0.0s\n",
      "[CV 2/5] END model=DecisionTreeClassifier(), model__max_depth=5, model__min_samples_leaf=8, model__random_state=1;, score=0.870 total time=   0.0s\n",
      "[CV 3/5] END model=DecisionTreeClassifier(), model__max_depth=7, model__min_samples_leaf=4, model__random_state=1;, score=0.906 total time=   0.0s\n",
      "[CV 4/5] END model=DecisionTreeClassifier(), model__max_depth=7, model__min_samples_leaf=4, model__random_state=1;, score=0.898 total time=   0.0s\n",
      "[CV 5/5] END model=DecisionTreeClassifier(), model__max_depth=7, model__min_samples_leaf=4, model__random_state=1;, score=0.908 total time=   0.0s\n",
      "[CV 1/5] END model=DecisionTreeClassifier(), model__max_depth=7, model__min_samples_leaf=5, model__random_state=1;, score=0.780 total time=   0.0s\n",
      "[CV 5/5] END model=DecisionTreeClassifier(), model__max_depth=9, model__min_samples_leaf=6, model__random_state=1;, score=0.906 total time=   0.0s\n",
      "[CV 1/5] END model=DecisionTreeClassifier(), model__max_depth=9, model__min_samples_leaf=7, model__random_state=1;, score=0.780 total time=   0.0s\n",
      "[CV 2/5] END model=DecisionTreeClassifier(), model__max_depth=9, model__min_samples_leaf=7, model__random_state=1;, score=0.911 total time=   0.0s\n",
      "[CV 3/5] END model=DecisionTreeClassifier(), model__max_depth=9, model__min_samples_leaf=7, model__random_state=1;, score=0.865 total time=   0.0s\n",
      "[CV 4/5] END model=DecisionTreeClassifier(), model__max_depth=9, model__min_samples_leaf=7, model__random_state=1;, score=0.884 total time=   0.0s\n",
      "[CV 5/5] END model=DecisionTreeClassifier(), model__max_depth=9, model__min_samples_leaf=7, model__random_state=1;, score=0.913 total time=   0.0s\n",
      "[CV 1/5] END model=DecisionTreeClassifier(), model__max_depth=9, model__min_samples_leaf=8, model__random_state=1;, score=0.754 total time=   0.0s\n",
      "[CV 2/5] END model=DecisionTreeClassifier(), model__max_depth=9, model__min_samples_leaf=8, model__random_state=1;, score=0.896 total time=   0.0s\n",
      "[CV 1/5] END model=DecisionTreeClassifier(), model__max_depth=12, model__min_samples_leaf=2, model__random_state=1;, score=0.787 total time=   0.0s\n",
      "[CV 2/5] END model=DecisionTreeClassifier(), model__max_depth=12, model__min_samples_leaf=2, model__random_state=1;, score=0.906 total time=   0.0s\n",
      "[CV 3/5] END model=DecisionTreeClassifier(), model__max_depth=12, model__min_samples_leaf=2, model__random_state=1;, score=0.896 total time=   0.0s\n",
      "[CV 4/5] END model=DecisionTreeClassifier(), model__max_depth=12, model__min_samples_leaf=2, model__random_state=1;, score=0.903 total time=   0.0s\n",
      "[CV 5/5] END model=DecisionTreeClassifier(), model__max_depth=12, model__min_samples_leaf=2, model__random_state=1;, score=0.915 total time=   0.0s\n",
      "[CV 1/5] END model=DecisionTreeClassifier(), model__max_depth=12, model__min_samples_leaf=3, model__random_state=1;, score=0.785 total time=   0.0s\n",
      "[CV 2/5] END model=DecisionTreeClassifier(), model__max_depth=12, model__min_samples_leaf=3, model__random_state=1;, score=0.891 total time=   0.0s\n",
      "[CV 3/5] END model=DecisionTreeClassifier(), model__max_depth=12, model__min_samples_leaf=3, model__random_state=1;, score=0.886 total time=   0.0s\n",
      "[CV 2/5] END model=DecisionTreeClassifier(), model__max_depth=14, model__min_samples_leaf=5, model__random_state=1;, score=0.906 total time=   0.0s\n",
      "[CV 3/5] END model=DecisionTreeClassifier(), model__max_depth=14, model__min_samples_leaf=5, model__random_state=1;, score=0.884 total time=   0.0s\n",
      "[CV 4/5] END model=DecisionTreeClassifier(), model__max_depth=14, model__min_samples_leaf=5, model__random_state=1;, score=0.918 total time=   0.0s\n",
      "[CV 5/5] END model=DecisionTreeClassifier(), model__max_depth=14, model__min_samples_leaf=5, model__random_state=1;, score=0.913 total time=   0.0s\n",
      "[CV 1/5] END model=DecisionTreeClassifier(), model__max_depth=14, model__min_samples_leaf=6, model__random_state=1;, score=0.775 total time=   0.0s\n",
      "[CV 2/5] END model=DecisionTreeClassifier(), model__max_depth=14, model__min_samples_leaf=6, model__random_state=1;, score=0.913 total time=   0.0s\n",
      "[CV 3/5] END model=DecisionTreeClassifier(), model__max_depth=14, model__min_samples_leaf=6, model__random_state=1;, score=0.879 total time=   0.0s\n",
      "[CV 4/5] END model=DecisionTreeClassifier(), model__max_depth=14, model__min_samples_leaf=6, model__random_state=1;, score=0.901 total time=   0.1s\n",
      "[CV 3/5] END model=DecisionTreeClassifier(), model__max_depth=16, model__min_samples_leaf=8, model__random_state=1;, score=0.860 total time=   0.0s\n",
      "[CV 4/5] END model=DecisionTreeClassifier(), model__max_depth=16, model__min_samples_leaf=8, model__random_state=1;, score=0.889 total time=   0.1s\n",
      "[CV 5/5] END model=DecisionTreeClassifier(), model__max_depth=16, model__min_samples_leaf=8, model__random_state=1;, score=0.908 total time=   0.0s\n",
      "[CV 1/5] END model=DecisionTreeClassifier(), model__max_depth=16, model__min_samples_leaf=9, model__random_state=1;, score=0.756 total time=   0.0s\n",
      "[CV 2/5] END model=DecisionTreeClassifier(), model__max_depth=16, model__min_samples_leaf=9, model__random_state=1;, score=0.901 total time=   0.0s\n",
      "[CV 3/5] END model=DecisionTreeClassifier(), model__max_depth=16, model__min_samples_leaf=9, model__random_state=1;, score=0.867 total time=   0.0s\n",
      "[CV 4/5] END model=DecisionTreeClassifier(), model__max_depth=16, model__min_samples_leaf=9, model__random_state=1;, score=0.877 total time=   0.0s\n",
      "[CV 5/5] END model=DecisionTreeClassifier(), model__max_depth=16, model__min_samples_leaf=9, model__random_state=1;, score=0.913 total time=   0.0s\n",
      "[CV 4/5] END model=DecisionTreeClassifier(), model__max_depth=19, model__min_samples_leaf=3, model__random_state=1;, score=0.906 total time=   0.0s\n",
      "[CV 5/5] END model=DecisionTreeClassifier(), model__max_depth=19, model__min_samples_leaf=3, model__random_state=1;, score=0.908 total time=   0.0s\n",
      "[CV 1/5] END model=DecisionTreeClassifier(), model__max_depth=19, model__min_samples_leaf=4, model__random_state=1;, score=0.773 total time=   0.0s\n",
      "[CV 2/5] END model=DecisionTreeClassifier(), model__max_depth=19, model__min_samples_leaf=4, model__random_state=1;, score=0.899 total time=   0.0s\n",
      "[CV 3/5] END model=DecisionTreeClassifier(), model__max_depth=19, model__min_samples_leaf=4, model__random_state=1;, score=0.901 total time=   0.0s\n",
      "[CV 4/5] END model=DecisionTreeClassifier(), model__max_depth=19, model__min_samples_leaf=4, model__random_state=1;, score=0.925 total time=   0.0s\n",
      "[CV 5/5] END model=DecisionTreeClassifier(), model__max_depth=19, model__min_samples_leaf=4, model__random_state=1;, score=0.923 total time=   0.0s\n",
      "[CV 1/5] END model=DecisionTreeClassifier(), model__max_depth=19, model__min_samples_leaf=5, model__random_state=1;, score=0.771 total time=   0.0s\n",
      "[CV 3/5] END model=DecisionTreeClassifier(), model__max_depth=20, model__min_samples_leaf=2, model__random_state=1;, score=0.891 total time=   0.0s\n",
      "[CV 2/5] END model=DecisionTreeClassifier(), model__max_depth=20, model__min_samples_leaf=4, model__random_state=1;, score=0.899 total time=   0.0s\n",
      "[CV 2/5] END model=DecisionTreeClassifier(), model__max_depth=20, model__min_samples_leaf=6, model__random_state=1;, score=0.913 total time=   0.0s\n",
      "[CV 5/5] END model=DecisionTreeClassifier(), model__max_depth=20, model__min_samples_leaf=7, model__random_state=1;, score=0.923 total time=   0.0s\n",
      "[CV 5/5] END model=DecisionTreeClassifier(), model__max_depth=20, model__min_samples_leaf=9, model__random_state=1;, score=0.913 total time=   0.0s\n",
      "[CV 5/5] END model=DecisionTreeClassifier(), model__max_depth=2, model__min_samples_leaf=3, model__random_state=1;, score=0.746 total time=   0.0s\n",
      "[CV 3/5] END model=DecisionTreeClassifier(), model__max_depth=2, model__min_samples_leaf=4, model__random_state=1;, score=0.739 total time=   0.0s\n",
      "[CV 4/5] END model=DecisionTreeClassifier(), model__max_depth=2, model__min_samples_leaf=6, model__random_state=1;, score=0.746 total time=   0.0s\n",
      "[CV 1/5] END model=DecisionTreeClassifier(), model__max_depth=2, model__min_samples_leaf=8, model__random_state=1;, score=0.698 total time=   0.0s\n",
      "[CV 1/5] END model=DecisionTreeClassifier(), model__max_depth=2, model__min_samples_leaf=9, model__random_state=1;, score=0.698 total time=   0.0s\n",
      "[CV 2/5] END model=DecisionTreeClassifier(), model__max_depth=3, model__min_samples_leaf=2, model__random_state=1;, score=0.797 total time=   0.0s\n",
      "[CV 1/5] END model=DecisionTreeClassifier(), model__max_depth=3, model__min_samples_leaf=4, model__random_state=1;, score=0.751 total time=   0.0s\n",
      "[CV 1/5] END model=DecisionTreeClassifier(), model__max_depth=3, model__min_samples_leaf=5, model__random_state=1;, score=0.751 total time=   0.0s\n",
      "[CV 2/5] END model=DecisionTreeClassifier(), model__max_depth=3, model__min_samples_leaf=6, model__random_state=1;, score=0.797 total time=   0.0s\n",
      "[CV 3/5] END model=DecisionTreeClassifier(), model__max_depth=3, model__min_samples_leaf=7, model__random_state=1;, score=0.821 total time=   0.0s\n",
      "[CV 2/5] END model=DecisionTreeClassifier(), model__max_depth=3, model__min_samples_leaf=8, model__random_state=1;, score=0.797 total time=   0.0s\n",
      "[CV 3/5] END model=DecisionTreeClassifier(), model__max_depth=4, model__min_samples_leaf=2, model__random_state=1;, score=0.848 total time=   0.0s\n",
      "[CV 4/5] END model=DecisionTreeClassifier(), model__max_depth=4, model__min_samples_leaf=2, model__random_state=1;, score=0.855 total time=   0.0s\n",
      "[CV 2/5] END model=DecisionTreeClassifier(), model__max_depth=4, model__min_samples_leaf=5, model__random_state=1;, score=0.833 total time=   0.0s\n",
      "[CV 3/5] END model=DecisionTreeClassifier(), model__max_depth=4, model__min_samples_leaf=5, model__random_state=1;, score=0.848 total time=   0.0s\n",
      "[CV 2/5] END model=DecisionTreeClassifier(), model__max_depth=4, model__min_samples_leaf=9, model__random_state=1;, score=0.829 total time=   0.0s\n",
      "[CV 3/5] END model=DecisionTreeClassifier(), model__max_depth=4, model__min_samples_leaf=9, model__random_state=1;, score=0.848 total time=   0.0s\n",
      "[CV 2/5] END model=DecisionTreeClassifier(), model__max_depth=5, model__min_samples_leaf=5, model__random_state=1;, score=0.877 total time=   0.0s\n",
      "[CV 3/5] END model=DecisionTreeClassifier(), model__max_depth=5, model__min_samples_leaf=5, model__random_state=1;, score=0.867 total time=   0.0s\n",
      "[CV 4/5] END model=DecisionTreeClassifier(), model__max_depth=5, model__min_samples_leaf=5, model__random_state=1;, score=0.877 total time=   0.0s\n",
      "[CV 5/5] END model=DecisionTreeClassifier(), model__max_depth=5, model__min_samples_leaf=5, model__random_state=1;, score=0.884 total time=   0.0s\n",
      "[CV 5/5] END model=DecisionTreeClassifier(), model__max_depth=7, model__min_samples_leaf=2, model__random_state=1;, score=0.903 total time=   0.0s\n",
      "[CV 1/5] END model=DecisionTreeClassifier(), model__max_depth=7, model__min_samples_leaf=3, model__random_state=1;, score=0.775 total time=   0.0s\n",
      "[CV 2/5] END model=DecisionTreeClassifier(), model__max_depth=7, model__min_samples_leaf=3, model__random_state=1;, score=0.889 total time=   0.0s\n",
      "[CV 3/5] END model=DecisionTreeClassifier(), model__max_depth=7, model__min_samples_leaf=3, model__random_state=1;, score=0.894 total time=   0.0s\n",
      "[CV 1/5] END model=DecisionTreeClassifier(), model__max_depth=9, model__min_samples_leaf=2, model__random_state=1;, score=0.785 total time=   0.0s\n",
      "[CV 2/5] END model=DecisionTreeClassifier(), model__max_depth=9, model__min_samples_leaf=2, model__random_state=1;, score=0.903 total time=   0.0s\n",
      "[CV 3/5] END model=DecisionTreeClassifier(), model__max_depth=9, model__min_samples_leaf=2, model__random_state=1;, score=0.886 total time=   0.0s\n",
      "[CV 4/5] END model=DecisionTreeClassifier(), model__max_depth=9, model__min_samples_leaf=2, model__random_state=1;, score=0.920 total time=   0.0s\n",
      "[CV 5/5] END model=DecisionTreeClassifier(), model__max_depth=9, model__min_samples_leaf=2, model__random_state=1;, score=0.908 total time=   0.0s\n",
      "[CV 1/5] END model=DecisionTreeClassifier(), model__max_depth=9, model__min_samples_leaf=3, model__random_state=1;, score=0.783 total time=   0.0s\n",
      "[CV 2/5] END model=DecisionTreeClassifier(), model__max_depth=9, model__min_samples_leaf=3, model__random_state=1;, score=0.901 total time=   0.0s\n",
      "[CV 3/5] END model=DecisionTreeClassifier(), model__max_depth=9, model__min_samples_leaf=3, model__random_state=1;, score=0.886 total time=   0.0s\n",
      "[CV 2/5] END model=DecisionTreeClassifier(), model__max_depth=11, model__min_samples_leaf=5, model__random_state=1;, score=0.906 total time=   0.0s\n",
      "[CV 3/5] END model=DecisionTreeClassifier(), model__max_depth=11, model__min_samples_leaf=5, model__random_state=1;, score=0.884 total time=   0.0s\n",
      "[CV 4/5] END model=DecisionTreeClassifier(), model__max_depth=11, model__min_samples_leaf=5, model__random_state=1;, score=0.918 total time=   0.0s\n",
      "[CV 5/5] END model=DecisionTreeClassifier(), model__max_depth=11, model__min_samples_leaf=5, model__random_state=1;, score=0.913 total time=   0.0s\n",
      "[CV 1/5] END model=DecisionTreeClassifier(), model__max_depth=11, model__min_samples_leaf=6, model__random_state=1;, score=0.771 total time=   0.0s\n",
      "[CV 2/5] END model=DecisionTreeClassifier(), model__max_depth=11, model__min_samples_leaf=6, model__random_state=1;, score=0.913 total time=   0.0s\n",
      "[CV 3/5] END model=DecisionTreeClassifier(), model__max_depth=11, model__min_samples_leaf=6, model__random_state=1;, score=0.879 total time=   0.0s\n",
      "[CV 4/5] END model=DecisionTreeClassifier(), model__max_depth=11, model__min_samples_leaf=6, model__random_state=1;, score=0.901 total time=   0.0s\n",
      "[CV 1/5] END model=DecisionTreeClassifier(), model__max_depth=14, model__min_samples_leaf=2, model__random_state=1;, score=0.785 total time=   0.0s\n",
      "[CV 2/5] END model=DecisionTreeClassifier(), model__max_depth=14, model__min_samples_leaf=2, model__random_state=1;, score=0.906 total time=   0.0s\n",
      "[CV 3/5] END model=DecisionTreeClassifier(), model__max_depth=14, model__min_samples_leaf=2, model__random_state=1;, score=0.899 total time=   0.0s\n",
      "[CV 4/5] END model=DecisionTreeClassifier(), model__max_depth=14, model__min_samples_leaf=2, model__random_state=1;, score=0.906 total time=   0.0s\n",
      "[CV 5/5] END model=DecisionTreeClassifier(), model__max_depth=14, model__min_samples_leaf=2, model__random_state=1;, score=0.915 total time=   0.0s\n",
      "[CV 1/5] END model=DecisionTreeClassifier(), model__max_depth=14, model__min_samples_leaf=3, model__random_state=1;, score=0.766 total time=   0.0s\n",
      "[CV 2/5] END model=DecisionTreeClassifier(), model__max_depth=14, model__min_samples_leaf=3, model__random_state=1;, score=0.891 total time=   0.0s\n",
      "[CV 3/5] END model=DecisionTreeClassifier(), model__max_depth=14, model__min_samples_leaf=3, model__random_state=1;, score=0.884 total time=   0.0s\n",
      "[CV 2/5] END model=DecisionTreeClassifier(), model__max_depth=16, model__min_samples_leaf=5, model__random_state=1;, score=0.906 total time=   0.0s\n",
      "[CV 3/5] END model=DecisionTreeClassifier(), model__max_depth=16, model__min_samples_leaf=5, model__random_state=1;, score=0.884 total time=   0.0s\n",
      "[CV 4/5] END model=DecisionTreeClassifier(), model__max_depth=16, model__min_samples_leaf=5, model__random_state=1;, score=0.918 total time=   0.0s\n",
      "[CV 5/5] END model=DecisionTreeClassifier(), model__max_depth=16, model__min_samples_leaf=5, model__random_state=1;, score=0.913 total time=   0.0s\n",
      "[CV 1/5] END model=DecisionTreeClassifier(), model__max_depth=16, model__min_samples_leaf=6, model__random_state=1;, score=0.775 total time=   0.0s\n",
      "[CV 2/5] END model=DecisionTreeClassifier(), model__max_depth=16, model__min_samples_leaf=6, model__random_state=1;, score=0.913 total time=   0.0s\n",
      "[CV 3/5] END model=DecisionTreeClassifier(), model__max_depth=16, model__min_samples_leaf=6, model__random_state=1;, score=0.879 total time=   0.0s\n",
      "[CV 4/5] END model=DecisionTreeClassifier(), model__max_depth=16, model__min_samples_leaf=6, model__random_state=1;, score=0.901 total time=   0.0s\n",
      "[CV 3/5] END model=DecisionTreeClassifier(), model__max_depth=18, model__min_samples_leaf=8, model__random_state=1;, score=0.860 total time=   0.0s\n",
      "[CV 4/5] END model=DecisionTreeClassifier(), model__max_depth=18, model__min_samples_leaf=8, model__random_state=1;, score=0.889 total time=   0.0s\n",
      "[CV 5/5] END model=DecisionTreeClassifier(), model__max_depth=18, model__min_samples_leaf=8, model__random_state=1;, score=0.908 total time=   0.0s\n",
      "[CV 1/5] END model=DecisionTreeClassifier(), model__max_depth=18, model__min_samples_leaf=9, model__random_state=1;, score=0.756 total time=   0.0s\n",
      "[CV 2/5] END model=DecisionTreeClassifier(), model__max_depth=18, model__min_samples_leaf=9, model__random_state=1;, score=0.901 total time=   0.0s\n",
      "[CV 3/5] END model=DecisionTreeClassifier(), model__max_depth=18, model__min_samples_leaf=9, model__random_state=1;, score=0.867 total time=   0.0s\n",
      "[CV 4/5] END model=DecisionTreeClassifier(), model__max_depth=18, model__min_samples_leaf=9, model__random_state=1;, score=0.877 total time=   0.0s\n",
      "[CV 5/5] END model=DecisionTreeClassifier(), model__max_depth=18, model__min_samples_leaf=9, model__random_state=1;, score=0.913 total time=   0.0s\n",
      "[CV 3/5] END model=DecisionTreeClassifier(), model__max_depth=19, model__min_samples_leaf=7, model__random_state=1;, score=0.865 total time=   0.0s\n",
      "[CV 2/5] END model=DecisionTreeClassifier(), model__max_depth=19, model__min_samples_leaf=9, model__random_state=1;, score=0.901 total time=   0.0s\n",
      "[CV 5/5] END model=DecisionTreeClassifier(), model__max_depth=20, model__min_samples_leaf=3, model__random_state=1;, score=0.908 total time=   0.0s\n",
      "[CV 5/5] END model=DecisionTreeClassifier(), model__max_depth=20, model__min_samples_leaf=5, model__random_state=1;, score=0.913 total time=   0.0s\n",
      "[CV 4/5] END model=DecisionTreeClassifier(), model__max_depth=20, model__min_samples_leaf=7, model__random_state=1;, score=0.889 total time=   0.0s\n",
      "[CV 4/5] END model=DecisionTreeClassifier(), model__max_depth=20, model__min_samples_leaf=9, model__random_state=1;, score=0.877 total time=   0.0s\n"
     ]
    }
   ],
   "source": [
    "# Classification report\n",
    "\n",
    "cf_test_report = classification_report(y_test, y_test_pred)\n",
    "print(cf_test_report)"
   ]
  },
  {
   "cell_type": "markdown",
   "id": "f37b89ff",
   "metadata": {},
   "source": [
    "From the classification report we observed that the precision rate of the model has decreased from 40% to 39% and the recall rate dropped significantly from 58%% to 47% and f1-score dropped from 47% to 43%.\n",
    "\n",
    "The Pipeline GridSearch did not yield a better performing model, compared to the manually optimized model."
   ]
  },
  {
   "cell_type": "markdown",
   "id": "4fef694a",
   "metadata": {},
   "source": [
    "### Conclusion\n",
    "\n",
    "The best Decision Tree resulted in a precision score of 40%, a recall score of 58%, f1-score of 47% and an accuracy of 84%.\n",
    "\n",
    "Although the recall rate is fairly good, the f1-score, the harmonic mean of the precision and recall and is still significantly low at 47% meaning that the model will yield more unwanted false positives and false negatives\n",
    "\n",
    "Comparing this Decision Tree to the Logistic Regression model, the preferred model that we will employ to predict \"Employee Attrition\" will be the Logistic Regression model. The logistic Regression model we manually optimized hyperparameters on yielded a precision score of 81%, a recall rate of 57%, an f1-score of 67% and an accuracy of 93%\n",
    "\n",
    "The model with the higher f1-score in comparison is the most preferred as it produced less false positives and false negatives. And for this project the Logistic Regression model stands on top.\n",
    "\n",
    "\n"
   ]
  },
  {
   "cell_type": "code",
   "execution_count": null,
   "id": "3858e957",
   "metadata": {},
   "outputs": [],
   "source": []
  }
 ],
 "metadata": {
  "kernelspec": {
   "display_name": "Python 3 (ipykernel)",
   "language": "python",
   "name": "python3"
  },
  "language_info": {
   "codemirror_mode": {
    "name": "ipython",
    "version": 3
   },
   "file_extension": ".py",
   "mimetype": "text/x-python",
   "name": "python",
   "nbconvert_exporter": "python",
   "pygments_lexer": "ipython3",
   "version": "3.9.7"
  }
 },
 "nbformat": 4,
 "nbformat_minor": 5
}
